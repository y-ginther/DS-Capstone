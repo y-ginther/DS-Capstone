{
 "cells": [
  {
   "cell_type": "code",
   "execution_count": 36,
   "metadata": {},
   "outputs": [],
   "source": [
    "\n",
    "from statsmodels.tsa.seasonal import seasonal_decompose\n",
    "from sklearn.model_selection import TimeSeriesSplit\n",
    "import pandas as pd\n",
    "import numpy as np\n",
    "import datetime\n",
    "import requests\n",
    "import warnings\n",
    "\n",
    "import matplotlib.pyplot as plt\n",
    "import matplotlib\n",
    "import matplotlib.dates as mdates\n",
    "\n",
    "from xgboost import XGBRegressor \n",
    "import xgboost as xgb\n",
    "from sklearn.ensemble import RandomForestRegressor\n",
    "from sklearn.metrics import mean_squared_error, mean_absolute_error\n",
    "from sklearn.preprocessing import OrdinalEncoder\n",
    "\n",
    "from sklearn.model_selection import train_test_split\n",
    "from statsmodels.tsa.statespace.sarimax import SARIMAX\n",
    "from statsmodels.tsa.arima_model import ARIMA\n",
    "from sklearn.preprocessing import StandardScaler\n",
    "from sklearn.metrics import mean_absolute_error, mean_absolute_percentage_error\n",
    "#from fbprophet import Prophet\n",
    "#from fbprophet.plot import plot_plotly, add_changepoints_to_plot\n",
    "# from keras.models import Sequential\n",
    "# from keras.layers import Dense\n",
    "\n",
    "# from keras.optimizers import Adam\n",
    "warnings.filterwarnings('ignore')"
   ]
  },
  {
   "cell_type": "code",
   "execution_count": null,
   "metadata": {},
   "outputs": [],
   "source": []
  },
  {
   "cell_type": "code",
   "execution_count": 37,
   "metadata": {},
   "outputs": [
    {
     "name": "stdout",
     "output_type": "stream",
     "text": [
      "(2023, 52)\n",
      "(1618, 77) (405, 77)\n"
     ]
    },
    {
     "data": {
      "text/html": [
       "<div>\n",
       "<style scoped>\n",
       "    .dataframe tbody tr th:only-of-type {\n",
       "        vertical-align: middle;\n",
       "    }\n",
       "\n",
       "    .dataframe tbody tr th {\n",
       "        vertical-align: top;\n",
       "    }\n",
       "\n",
       "    .dataframe thead th {\n",
       "        text-align: right;\n",
       "    }\n",
       "</style>\n",
       "<table border=\"1\" class=\"dataframe\">\n",
       "  <thead>\n",
       "    <tr style=\"text-align: right;\">\n",
       "      <th></th>\n",
       "      <th>total_cases</th>\n",
       "      <th>new_cases</th>\n",
       "      <th>new_deaths</th>\n",
       "      <th>total_cases_per_million</th>\n",
       "      <th>new_cases_per_million</th>\n",
       "      <th>icu_patients_per_million</th>\n",
       "      <th>hosp_patients_per_million</th>\n",
       "      <th>weekly_icu_admissions_per_million</th>\n",
       "      <th>weekly_hosp_admissions_per_million</th>\n",
       "      <th>new_vaccinations</th>\n",
       "      <th>...</th>\n",
       "      <th>location_Israel</th>\n",
       "      <th>location_Italy</th>\n",
       "      <th>location_Malaysia</th>\n",
       "      <th>location_United States</th>\n",
       "      <th>tests_units_people tested</th>\n",
       "      <th>tests_units_tests performed</th>\n",
       "      <th>season_Autumn</th>\n",
       "      <th>season_Spring</th>\n",
       "      <th>season_Summer</th>\n",
       "      <th>season_Winter</th>\n",
       "    </tr>\n",
       "    <tr>\n",
       "      <th>date</th>\n",
       "      <th></th>\n",
       "      <th></th>\n",
       "      <th></th>\n",
       "      <th></th>\n",
       "      <th></th>\n",
       "      <th></th>\n",
       "      <th></th>\n",
       "      <th></th>\n",
       "      <th></th>\n",
       "      <th></th>\n",
       "      <th></th>\n",
       "      <th></th>\n",
       "      <th></th>\n",
       "      <th></th>\n",
       "      <th></th>\n",
       "      <th></th>\n",
       "      <th></th>\n",
       "      <th></th>\n",
       "      <th></th>\n",
       "      <th></th>\n",
       "      <th></th>\n",
       "    </tr>\n",
       "  </thead>\n",
       "  <tbody>\n",
       "    <tr>\n",
       "      <th>2020-03-01</th>\n",
       "      <td>1.0</td>\n",
       "      <td>0.0</td>\n",
       "      <td>0.0</td>\n",
       "      <td>0.086</td>\n",
       "      <td>0.000</td>\n",
       "      <td>NaN</td>\n",
       "      <td>NaN</td>\n",
       "      <td>NaN</td>\n",
       "      <td>NaN</td>\n",
       "      <td>NaN</td>\n",
       "      <td>...</td>\n",
       "      <td>False</td>\n",
       "      <td>False</td>\n",
       "      <td>False</td>\n",
       "      <td>False</td>\n",
       "      <td>False</td>\n",
       "      <td>True</td>\n",
       "      <td>False</td>\n",
       "      <td>True</td>\n",
       "      <td>False</td>\n",
       "      <td>False</td>\n",
       "    </tr>\n",
       "    <tr>\n",
       "      <th>2020-03-01</th>\n",
       "      <td>16.0</td>\n",
       "      <td>0.0</td>\n",
       "      <td>0.0</td>\n",
       "      <td>0.248</td>\n",
       "      <td>0.000</td>\n",
       "      <td>NaN</td>\n",
       "      <td>NaN</td>\n",
       "      <td>NaN</td>\n",
       "      <td>NaN</td>\n",
       "      <td>NaN</td>\n",
       "      <td>...</td>\n",
       "      <td>False</td>\n",
       "      <td>False</td>\n",
       "      <td>False</td>\n",
       "      <td>False</td>\n",
       "      <td>False</td>\n",
       "      <td>False</td>\n",
       "      <td>False</td>\n",
       "      <td>True</td>\n",
       "      <td>False</td>\n",
       "      <td>False</td>\n",
       "    </tr>\n",
       "    <tr>\n",
       "      <th>2020-03-01</th>\n",
       "      <td>NaN</td>\n",
       "      <td>0.0</td>\n",
       "      <td>0.0</td>\n",
       "      <td>NaN</td>\n",
       "      <td>0.000</td>\n",
       "      <td>NaN</td>\n",
       "      <td>NaN</td>\n",
       "      <td>0.395</td>\n",
       "      <td>2.372</td>\n",
       "      <td>NaN</td>\n",
       "      <td>...</td>\n",
       "      <td>False</td>\n",
       "      <td>False</td>\n",
       "      <td>False</td>\n",
       "      <td>False</td>\n",
       "      <td>False</td>\n",
       "      <td>False</td>\n",
       "      <td>False</td>\n",
       "      <td>True</td>\n",
       "      <td>False</td>\n",
       "      <td>False</td>\n",
       "    </tr>\n",
       "    <tr>\n",
       "      <th>2020-03-01</th>\n",
       "      <td>NaN</td>\n",
       "      <td>0.0</td>\n",
       "      <td>0.0</td>\n",
       "      <td>NaN</td>\n",
       "      <td>0.000</td>\n",
       "      <td>0.0</td>\n",
       "      <td>NaN</td>\n",
       "      <td>NaN</td>\n",
       "      <td>NaN</td>\n",
       "      <td>NaN</td>\n",
       "      <td>...</td>\n",
       "      <td>False</td>\n",
       "      <td>False</td>\n",
       "      <td>False</td>\n",
       "      <td>False</td>\n",
       "      <td>False</td>\n",
       "      <td>False</td>\n",
       "      <td>False</td>\n",
       "      <td>True</td>\n",
       "      <td>False</td>\n",
       "      <td>False</td>\n",
       "    </tr>\n",
       "    <tr>\n",
       "      <th>2020-03-01</th>\n",
       "      <td>15.0</td>\n",
       "      <td>5.0</td>\n",
       "      <td>0.0</td>\n",
       "      <td>1.587</td>\n",
       "      <td>0.529</td>\n",
       "      <td>NaN</td>\n",
       "      <td>NaN</td>\n",
       "      <td>NaN</td>\n",
       "      <td>NaN</td>\n",
       "      <td>NaN</td>\n",
       "      <td>...</td>\n",
       "      <td>True</td>\n",
       "      <td>False</td>\n",
       "      <td>False</td>\n",
       "      <td>False</td>\n",
       "      <td>True</td>\n",
       "      <td>False</td>\n",
       "      <td>False</td>\n",
       "      <td>True</td>\n",
       "      <td>False</td>\n",
       "      <td>False</td>\n",
       "    </tr>\n",
       "  </tbody>\n",
       "</table>\n",
       "<p>5 rows × 77 columns</p>\n",
       "</div>"
      ],
      "text/plain": [
       "            total_cases  new_cases  new_deaths  total_cases_per_million  \\\n",
       "date                                                                      \n",
       "2020-03-01          1.0        0.0         0.0                    0.086   \n",
       "2020-03-01         16.0        0.0         0.0                    0.248   \n",
       "2020-03-01          NaN        0.0         0.0                      NaN   \n",
       "2020-03-01          NaN        0.0         0.0                      NaN   \n",
       "2020-03-01         15.0        5.0         0.0                    1.587   \n",
       "\n",
       "            new_cases_per_million  icu_patients_per_million  \\\n",
       "date                                                          \n",
       "2020-03-01                  0.000                       NaN   \n",
       "2020-03-01                  0.000                       NaN   \n",
       "2020-03-01                  0.000                       NaN   \n",
       "2020-03-01                  0.000                       0.0   \n",
       "2020-03-01                  0.529                       NaN   \n",
       "\n",
       "            hosp_patients_per_million  weekly_icu_admissions_per_million  \\\n",
       "date                                                                       \n",
       "2020-03-01                        NaN                                NaN   \n",
       "2020-03-01                        NaN                                NaN   \n",
       "2020-03-01                        NaN                              0.395   \n",
       "2020-03-01                        NaN                                NaN   \n",
       "2020-03-01                        NaN                                NaN   \n",
       "\n",
       "            weekly_hosp_admissions_per_million  new_vaccinations  ...  \\\n",
       "date                                                              ...   \n",
       "2020-03-01                                 NaN               NaN  ...   \n",
       "2020-03-01                                 NaN               NaN  ...   \n",
       "2020-03-01                               2.372               NaN  ...   \n",
       "2020-03-01                                 NaN               NaN  ...   \n",
       "2020-03-01                                 NaN               NaN  ...   \n",
       "\n",
       "            location_Israel  location_Italy  location_Malaysia  \\\n",
       "date                                                             \n",
       "2020-03-01            False           False              False   \n",
       "2020-03-01            False           False              False   \n",
       "2020-03-01            False           False              False   \n",
       "2020-03-01            False           False              False   \n",
       "2020-03-01             True           False              False   \n",
       "\n",
       "            location_United States  tests_units_people tested  \\\n",
       "date                                                            \n",
       "2020-03-01                   False                      False   \n",
       "2020-03-01                   False                      False   \n",
       "2020-03-01                   False                      False   \n",
       "2020-03-01                   False                      False   \n",
       "2020-03-01                   False                       True   \n",
       "\n",
       "            tests_units_tests performed  season_Autumn  season_Spring  \\\n",
       "date                                                                    \n",
       "2020-03-01                         True          False           True   \n",
       "2020-03-01                        False          False           True   \n",
       "2020-03-01                        False          False           True   \n",
       "2020-03-01                        False          False           True   \n",
       "2020-03-01                        False          False           True   \n",
       "\n",
       "            season_Summer  season_Winter  \n",
       "date                                      \n",
       "2020-03-01          False          False  \n",
       "2020-03-01          False          False  \n",
       "2020-03-01          False          False  \n",
       "2020-03-01          False          False  \n",
       "2020-03-01          False          False  \n",
       "\n",
       "[5 rows x 77 columns]"
      ]
     },
     "execution_count": 37,
     "metadata": {},
     "output_type": "execute_result"
    }
   ],
   "source": [
    "data=pd.read_csv('univariate_models/multivar.csv', index_col=0, parse_dates=[0])\n",
    "data= data.set_index('date')\n",
    "print(data.shape)\n",
    "data = pd.get_dummies(data)\n",
    "\n",
    "# Sort the DataFrame by the 'date' column\n",
    "data = data.sort_values(by='date')\n",
    "train_size = int(len(data) * 0.8)\n",
    "train=data.iloc[:train_size ] \n",
    "test=data.iloc[train_size: ] \n",
    "print(train.shape, test.shape)\n",
    "data.head()"
   ]
  },
  {
   "cell_type": "code",
   "execution_count": 38,
   "metadata": {},
   "outputs": [
    {
     "data": {
      "text/html": [
       "<div>\n",
       "<style scoped>\n",
       "    .dataframe tbody tr th:only-of-type {\n",
       "        vertical-align: middle;\n",
       "    }\n",
       "\n",
       "    .dataframe tbody tr th {\n",
       "        vertical-align: top;\n",
       "    }\n",
       "\n",
       "    .dataframe thead th {\n",
       "        text-align: right;\n",
       "    }\n",
       "</style>\n",
       "<table border=\"1\" class=\"dataframe\">\n",
       "  <thead>\n",
       "    <tr style=\"text-align: right;\">\n",
       "      <th></th>\n",
       "      <th>Model</th>\n",
       "      <th>MAPE</th>\n",
       "    </tr>\n",
       "  </thead>\n",
       "  <tbody>\n",
       "  </tbody>\n",
       "</table>\n",
       "</div>"
      ],
      "text/plain": [
       "Empty DataFrame\n",
       "Columns: [Model, MAPE]\n",
       "Index: []"
      ]
     },
     "execution_count": 38,
     "metadata": {},
     "output_type": "execute_result"
    }
   ],
   "source": [
    "metrics_df = pd.DataFrame(columns=['Model','MAPE'])\n",
    "metrics_df"
   ]
  },
  {
   "cell_type": "code",
   "execution_count": 39,
   "metadata": {},
   "outputs": [
    {
     "data": {
      "text/plain": [
       "total_cases                    float64\n",
       "new_cases                      float64\n",
       "new_deaths                     float64\n",
       "total_cases_per_million        float64\n",
       "new_cases_per_million          float64\n",
       "                                ...   \n",
       "tests_units_tests performed       bool\n",
       "season_Autumn                     bool\n",
       "season_Spring                     bool\n",
       "season_Summer                     bool\n",
       "season_Winter                     bool\n",
       "Length: 77, dtype: object"
      ]
     },
     "execution_count": 39,
     "metadata": {},
     "output_type": "execute_result"
    }
   ],
   "source": [
    "data.dtypes"
   ]
  },
  {
   "cell_type": "code",
   "execution_count": 40,
   "metadata": {},
   "outputs": [],
   "source": [
    "model = xgb.XGBRegressor()\n",
    "model.fit(train.drop('new_deaths', axis=1), train['new_deaths']);"
   ]
  },
  {
   "cell_type": "code",
   "execution_count": 41,
   "metadata": {},
   "outputs": [
    {
     "data": {
      "text/html": [
       "<div>\n",
       "<style scoped>\n",
       "    .dataframe tbody tr th:only-of-type {\n",
       "        vertical-align: middle;\n",
       "    }\n",
       "\n",
       "    .dataframe tbody tr th {\n",
       "        vertical-align: top;\n",
       "    }\n",
       "\n",
       "    .dataframe thead th {\n",
       "        text-align: right;\n",
       "    }\n",
       "</style>\n",
       "<table border=\"1\" class=\"dataframe\">\n",
       "  <thead>\n",
       "    <tr style=\"text-align: right;\">\n",
       "      <th></th>\n",
       "      <th>yhat</th>\n",
       "    </tr>\n",
       "    <tr>\n",
       "      <th>date</th>\n",
       "      <th></th>\n",
       "    </tr>\n",
       "  </thead>\n",
       "  <tbody>\n",
       "    <tr>\n",
       "      <th>2020-03-01</th>\n",
       "      <td>-0.090816</td>\n",
       "    </tr>\n",
       "    <tr>\n",
       "      <th>2020-03-01</th>\n",
       "      <td>0.796380</td>\n",
       "    </tr>\n",
       "    <tr>\n",
       "      <th>2020-03-01</th>\n",
       "      <td>0.176944</td>\n",
       "    </tr>\n",
       "    <tr>\n",
       "      <th>2020-03-01</th>\n",
       "      <td>0.139762</td>\n",
       "    </tr>\n",
       "    <tr>\n",
       "      <th>2020-03-01</th>\n",
       "      <td>0.154437</td>\n",
       "    </tr>\n",
       "  </tbody>\n",
       "</table>\n",
       "</div>"
      ],
      "text/plain": [
       "                yhat\n",
       "date                \n",
       "2020-03-01 -0.090816\n",
       "2020-03-01  0.796380\n",
       "2020-03-01  0.176944\n",
       "2020-03-01  0.139762\n",
       "2020-03-01  0.154437"
      ]
     },
     "execution_count": 41,
     "metadata": {},
     "output_type": "execute_result"
    }
   ],
   "source": [
    "train_pred=pd.DataFrame(model.predict(train.drop('new_deaths', axis=1)), columns=['yhat'], index=train.index)\n",
    "train_pred.head()"
   ]
  },
  {
   "cell_type": "code",
   "execution_count": 42,
   "metadata": {},
   "outputs": [
    {
     "data": {
      "text/plain": [
       "<matplotlib.legend.Legend at 0x7f7b302ee730>"
      ]
     },
     "execution_count": 42,
     "metadata": {},
     "output_type": "execute_result"
    },
    {
     "data": {
      "image/png": "[encoded data removed]",
      "text/plain": [
       "<Figure size 1080x360 with 1 Axes>"
      ]
     },
     "metadata": {
      "needs_background": "light"
     },
     "output_type": "display_data"
    }
   ],
   "source": [
    "pd.concat([train['new_deaths'],train_pred['yhat']], axis=1).plot(figsize=(15,5)) \n",
    "plt.legend(['train', 'train_pred'])"
   ]
  },
  {
   "cell_type": "code",
   "execution_count": 43,
   "metadata": {},
   "outputs": [
    {
     "data": {
      "text/plain": [
       "<matplotlib.legend.Legend at 0x7f7b63161460>"
      ]
     },
     "execution_count": 43,
     "metadata": {},
     "output_type": "execute_result"
    },
    {
     "data": {
      "text/plain": [
       "<Figure size 1080x720 with 0 Axes>"
      ]
     },
     "metadata": {},
     "output_type": "display_data"
    },
    {
     "data": {
      "image/png": "[encoded data removed]",
      "text/plain": [
       "<Figure size 432x288 with 1 Axes>"
      ]
     },
     "metadata": {
      "needs_background": "light"
     },
     "output_type": "display_data"
    }
   ],
   "source": [
    "test_pred=pd.DataFrame(model.predict(test.drop('new_deaths', axis=1)), columns=['yhat'], index=test.index)\n",
    "plt.figure(figsize=(15, 10))\n",
    "pd.concat([test['new_deaths'],test_pred['yhat']], axis=1).plot( )\n",
    "plt.legend(['test', 'test_pred'])"
   ]
  },
  {
   "cell_type": "code",
   "execution_count": 44,
   "metadata": {},
   "outputs": [
    {
     "data": {
      "text/html": [
       "<div>\n",
       "<style scoped>\n",
       "    .dataframe tbody tr th:only-of-type {\n",
       "        vertical-align: middle;\n",
       "    }\n",
       "\n",
       "    .dataframe tbody tr th {\n",
       "        vertical-align: top;\n",
       "    }\n",
       "\n",
       "    .dataframe thead th {\n",
       "        text-align: right;\n",
       "    }\n",
       "</style>\n",
       "<table border=\"1\" class=\"dataframe\">\n",
       "  <thead>\n",
       "    <tr style=\"text-align: right;\">\n",
       "      <th></th>\n",
       "      <th>Model</th>\n",
       "      <th>MAPE</th>\n",
       "    </tr>\n",
       "  </thead>\n",
       "  <tbody>\n",
       "  </tbody>\n",
       "</table>\n",
       "</div>"
      ],
      "text/plain": [
       "Empty DataFrame\n",
       "Columns: [Model, MAPE]\n",
       "Index: []"
      ]
     },
     "execution_count": 44,
     "metadata": {},
     "output_type": "execute_result"
    }
   ],
   "source": [
    "\n",
    "metrics_df = pd.DataFrame()\n",
    "metrics_df = pd.DataFrame(columns=['Model','MAPE'])\n",
    "metrics_df"
   ]
  },
  {
   "cell_type": "code",
   "execution_count": 45,
   "metadata": {},
   "outputs": [],
   "source": [
    "actuals = test['new_deaths'] + 1\n",
    "predictions = test_pred['yhat'] + 1\n",
    "mape = mean_absolute_percentage_error(actuals, predictions) * 100\n",
    "metrics_df.loc[len(metrics_df)] = ['base xgb', mape]"
   ]
  },
  {
   "cell_type": "code",
   "execution_count": 46,
   "metadata": {},
   "outputs": [],
   "source": [
    "import optuna\n",
    "import sklearn.datasets\n",
    "import sklearn.metrics"
   ]
  },
  {
   "cell_type": "code",
   "execution_count": 47,
   "metadata": {},
   "outputs": [
    {
     "name": "stderr",
     "output_type": "stream",
     "text": [
      "[I 2024-02-24 16:43:58,182] A new study created in memory with name: no-name-f1ac840e-bec2-4288-ad2b-280a310863fb\n"
     ]
    },
    {
     "name": "stdout",
     "output_type": "stream",
     "text": [
      "[16:43:58] WARNING: /Users/runner/miniforge3/conda-bld/xgboost-split_1685694945373/work/src/learner.cc:767: \n",
      "Parameters: { \"n_estimators\" } are not used.\n",
      "\n"
     ]
    },
    {
     "name": "stderr",
     "output_type": "stream",
     "text": [
      "[I 2024-02-24 16:43:58,775] Trial 0 finished with value: 13.153086419753086 and parameters: {'n_estimators': 262, 'learning_rate': 0.2954266038911406, 'max_depth': 10}. Best is trial 0 with value: 13.153086419753086.\n"
     ]
    },
    {
     "name": "stdout",
     "output_type": "stream",
     "text": [
      "[16:43:58] WARNING: /Users/runner/miniforge3/conda-bld/xgboost-split_1685694945373/work/src/learner.cc:767: \n",
      "Parameters: { \"n_estimators\" } are not used.\n",
      "\n"
     ]
    },
    {
     "name": "stderr",
     "output_type": "stream",
     "text": [
      "[I 2024-02-24 16:43:59,093] Trial 1 finished with value: 42.98518518518519 and parameters: {'n_estimators': 287, 'learning_rate': 0.11439017012685083, 'max_depth': 7}. Best is trial 0 with value: 13.153086419753086.\n"
     ]
    },
    {
     "name": "stdout",
     "output_type": "stream",
     "text": [
      "[16:43:59] WARNING: /Users/runner/miniforge3/conda-bld/xgboost-split_1685694945373/work/src/learner.cc:767: \n",
      "Parameters: { \"n_estimators\" } are not used.\n",
      "\n"
     ]
    },
    {
     "name": "stderr",
     "output_type": "stream",
     "text": [
      "[I 2024-02-24 16:43:59,394] Trial 2 finished with value: 8.879012345679012 and parameters: {'n_estimators': 105, 'learning_rate': 0.33336766434214277, 'max_depth': 9}. Best is trial 2 with value: 8.879012345679012.\n",
      "[I 2024-02-24 16:43:59,567] Trial 3 finished with value: 31.133333333333333 and parameters: {'n_estimators': 271, 'learning_rate': 0.14338563893814668, 'max_depth': 7}. Best is trial 2 with value: 8.879012345679012.\n"
     ]
    },
    {
     "name": "stdout",
     "output_type": "stream",
     "text": [
      "[16:43:59] WARNING: /Users/runner/miniforge3/conda-bld/xgboost-split_1685694945373/work/src/learner.cc:767: \n",
      "Parameters: { \"n_estimators\" } are not used.\n",
      "\n",
      "[16:43:59] WARNING: /Users/runner/miniforge3/conda-bld/xgboost-split_1685694945373/work/src/learner.cc:767: \n",
      "Parameters: { \"n_estimators\" } are not used.\n",
      "\n"
     ]
    },
    {
     "name": "stderr",
     "output_type": "stream",
     "text": [
      "[I 2024-02-24 16:43:59,725] Trial 4 finished with value: 10.37283950617284 and parameters: {'n_estimators': 253, 'learning_rate': 0.3044740876039758, 'max_depth': 6}. Best is trial 2 with value: 8.879012345679012.\n",
      "[I 2024-02-24 16:43:59,896] Trial 5 finished with value: 25.65679012345679 and parameters: {'n_estimators': 162, 'learning_rate': 0.17008376555936314, 'max_depth': 7}. Best is trial 2 with value: 8.879012345679012.\n"
     ]
    },
    {
     "name": "stdout",
     "output_type": "stream",
     "text": [
      "[16:43:59] WARNING: /Users/runner/miniforge3/conda-bld/xgboost-split_1685694945373/work/src/learner.cc:767: \n",
      "Parameters: { \"n_estimators\" } are not used.\n",
      "\n",
      "[16:43:59] WARNING: /Users/runner/miniforge3/conda-bld/xgboost-split_1685694945373/work/src/learner.cc:767: \n",
      "Parameters: { \"n_estimators\" } are not used.\n",
      "\n"
     ]
    },
    {
     "name": "stderr",
     "output_type": "stream",
     "text": [
      "[I 2024-02-24 16:44:00,249] Trial 6 finished with value: 12.432098765432098 and parameters: {'n_estimators': 217, 'learning_rate': 0.4857096492541926, 'max_depth': 10}. Best is trial 2 with value: 8.879012345679012.\n",
      "[I 2024-02-24 16:44:00,472] Trial 7 finished with value: 30.56543209876543 and parameters: {'n_estimators': 218, 'learning_rate': 0.148235782709183, 'max_depth': 9}. Best is trial 2 with value: 8.879012345679012.\n"
     ]
    },
    {
     "name": "stdout",
     "output_type": "stream",
     "text": [
      "[16:44:00] WARNING: /Users/runner/miniforge3/conda-bld/xgboost-split_1685694945373/work/src/learner.cc:767: \n",
      "Parameters: { \"n_estimators\" } are not used.\n",
      "\n"
     ]
    },
    {
     "name": "stderr",
     "output_type": "stream",
     "text": [
      "[I 2024-02-24 16:44:00,661] Trial 8 finished with value: 21.703703703703702 and parameters: {'n_estimators': 278, 'learning_rate': 0.20238527501946604, 'max_depth': 6}. Best is trial 2 with value: 8.879012345679012.\n"
     ]
    },
    {
     "name": "stdout",
     "output_type": "stream",
     "text": [
      "[16:44:00] WARNING: /Users/runner/miniforge3/conda-bld/xgboost-split_1685694945373/work/src/learner.cc:767: \n",
      "Parameters: { \"n_estimators\" } are not used.\n",
      "\n",
      "[16:44:00] WARNING: /Users/runner/miniforge3/conda-bld/xgboost-split_1685694945373/work/src/learner.cc:767: \n",
      "Parameters: { \"n_estimators\" } are not used.\n",
      "\n"
     ]
    },
    {
     "name": "stderr",
     "output_type": "stream",
     "text": [
      "[I 2024-02-24 16:44:00,920] Trial 9 finished with value: 22.377777777777776 and parameters: {'n_estimators': 214, 'learning_rate': 0.18591442938297534, 'max_depth': 9}. Best is trial 2 with value: 8.879012345679012.\n"
     ]
    },
    {
     "name": "stdout",
     "output_type": "stream",
     "text": [
      "Best Params: {'n_estimators': 105, 'learning_rate': 0.33336766434214277, 'max_depth': 9}\n"
     ]
    }
   ],
   "source": [
    "\n",
    "# Assuming you have 'train' and 'test' DataFrames with the same features\n",
    "# and 'target' is the target variable\n",
    "\n",
    "def objective(trial):\n",
    "    # 2. Suggest values of the hyperparameters using a trial object.\n",
    "    param = {\n",
    "        'objective': 'reg:squarederror',  # Assuming it's a regression task\n",
    "        'eval_metric': 'mae',  # Using Mean Absolute Error as the evaluation metric\n",
    "        'n_estimators': trial.suggest_int('n_estimators', 50, 300),\n",
    "        'learning_rate': trial.suggest_loguniform('learning_rate', 0.1, 0.5),\n",
    "        'max_depth': trial.suggest_int('max_depth', 3, 10),\n",
    "   \n",
    "    }\n",
    "\n",
    "    bst = xgb.train(param, xgb.DMatrix(train.drop('new_deaths', axis=1), label=train['new_deaths']))\n",
    "    preds = bst.predict(xgb.DMatrix(test.drop('new_deaths', axis=1)))\n",
    "    pred_labels = np.rint(preds)\n",
    "    accuracy = sklearn.metrics.mean_absolute_error(test['new_deaths'], pred_labels)\n",
    "    return accuracy\n",
    "\n",
    "# Assuming 'train' and 'test' are DataFrames with the same features\n",
    "# and 'target' is the target variable\n",
    "study = optuna.create_study(direction='minimize')  # Use 'minimize' for Mean Absolute Percentage Error\n",
    "study.optimize(objective, n_trials=10)\n",
    "\n",
    "# Access the best parameters\n",
    "best_params = study.best_params\n",
    "print(\"Best Params:\", best_params)\n"
   ]
  },
  {
   "cell_type": "code",
   "execution_count": 48,
   "metadata": {},
   "outputs": [],
   "source": [
    "model = xgb.XGBRegressor(n_estimators = 65, learning_rate = 0.3210929352407252, max_depth = 10)\n",
    "model.fit(train.drop('new_deaths', axis=1), train['new_deaths']);"
   ]
  },
  {
   "cell_type": "code",
   "execution_count": 49,
   "metadata": {},
   "outputs": [
    {
     "data": {
      "text/plain": [
       "<matplotlib.legend.Legend at 0x7f7b5b5226a0>"
      ]
     },
     "execution_count": 49,
     "metadata": {},
     "output_type": "execute_result"
    },
    {
     "data": {
      "image/png": "[encoded data removed]",
      "text/plain": [
       "<Figure size 1080x360 with 1 Axes>"
      ]
     },
     "metadata": {
      "needs_background": "light"
     },
     "output_type": "display_data"
    }
   ],
   "source": [
    "train_pred=pd.DataFrame(model.predict(train.drop('new_deaths', axis=1)), columns=['yhat'], index=train.index)\n",
    "train_pred.head()\n",
    "pd.concat([train['new_deaths'],train_pred['yhat']], axis=1).plot(figsize=(15,5)) \n",
    "plt.legend(['train', 'train_pred'])"
   ]
  },
  {
   "cell_type": "code",
   "execution_count": 50,
   "metadata": {},
   "outputs": [
    {
     "data": {
      "text/plain": [
       "<matplotlib.legend.Legend at 0x7f7b384064c0>"
      ]
     },
     "execution_count": 50,
     "metadata": {},
     "output_type": "execute_result"
    },
    {
     "data": {
      "text/plain": [
       "<Figure size 1080x720 with 0 Axes>"
      ]
     },
     "metadata": {},
     "output_type": "display_data"
    },
    {
     "data": {
      "image/png": "[encoded data removed]",
      "text/plain": [
       "<Figure size 432x288 with 1 Axes>"
      ]
     },
     "metadata": {
      "needs_background": "light"
     },
     "output_type": "display_data"
    }
   ],
   "source": [
    "test_pred=pd.DataFrame(model.predict(test.drop('new_deaths', axis=1)), columns=['yhat'], index=test.index)\n",
    "plt.figure(figsize=(15, 10))\n",
    "pd.concat([test['new_deaths'],test_pred['yhat']], axis=1).plot( )\n",
    "plt.legend(['test', 'test_pred'])"
   ]
  },
  {
   "cell_type": "code",
   "execution_count": 51,
   "metadata": {},
   "outputs": [
    {
     "data": {
      "text/html": [
       "<div>\n",
       "<style scoped>\n",
       "    .dataframe tbody tr th:only-of-type {\n",
       "        vertical-align: middle;\n",
       "    }\n",
       "\n",
       "    .dataframe tbody tr th {\n",
       "        vertical-align: top;\n",
       "    }\n",
       "\n",
       "    .dataframe thead th {\n",
       "        text-align: right;\n",
       "    }\n",
       "</style>\n",
       "<table border=\"1\" class=\"dataframe\">\n",
       "  <thead>\n",
       "    <tr style=\"text-align: right;\">\n",
       "      <th></th>\n",
       "      <th>yhat</th>\n",
       "    </tr>\n",
       "    <tr>\n",
       "      <th>date</th>\n",
       "      <th></th>\n",
       "    </tr>\n",
       "  </thead>\n",
       "  <tbody>\n",
       "    <tr>\n",
       "      <th>2023-04-02</th>\n",
       "      <td>212.238846</td>\n",
       "    </tr>\n",
       "    <tr>\n",
       "      <th>2023-04-02</th>\n",
       "      <td>45.536182</td>\n",
       "    </tr>\n",
       "    <tr>\n",
       "      <th>2023-04-09</th>\n",
       "      <td>52.380371</td>\n",
       "    </tr>\n",
       "    <tr>\n",
       "      <th>2023-04-09</th>\n",
       "      <td>169.841690</td>\n",
       "    </tr>\n",
       "    <tr>\n",
       "      <th>2023-04-09</th>\n",
       "      <td>201.076065</td>\n",
       "    </tr>\n",
       "    <tr>\n",
       "      <th>...</th>\n",
       "      <td>...</td>\n",
       "    </tr>\n",
       "    <tr>\n",
       "      <th>2024-01-07</th>\n",
       "      <td>-0.335079</td>\n",
       "    </tr>\n",
       "    <tr>\n",
       "      <th>2024-01-07</th>\n",
       "      <td>453.576691</td>\n",
       "    </tr>\n",
       "    <tr>\n",
       "      <th>2024-01-14</th>\n",
       "      <td>-0.042091</td>\n",
       "    </tr>\n",
       "    <tr>\n",
       "      <th>2024-01-14</th>\n",
       "      <td>0.559715</td>\n",
       "    </tr>\n",
       "    <tr>\n",
       "      <th>2024-01-14</th>\n",
       "      <td>1.222786</td>\n",
       "    </tr>\n",
       "  </tbody>\n",
       "</table>\n",
       "<p>405 rows × 1 columns</p>\n",
       "</div>"
      ],
      "text/plain": [
       "                  yhat\n",
       "date                  \n",
       "2023-04-02  212.238846\n",
       "2023-04-02   45.536182\n",
       "2023-04-09   52.380371\n",
       "2023-04-09  169.841690\n",
       "2023-04-09  201.076065\n",
       "...                ...\n",
       "2024-01-07   -0.335079\n",
       "2024-01-07  453.576691\n",
       "2024-01-14   -0.042091\n",
       "2024-01-14    0.559715\n",
       "2024-01-14    1.222786\n",
       "\n",
       "[405 rows x 1 columns]"
      ]
     },
     "execution_count": 51,
     "metadata": {},
     "output_type": "execute_result"
    }
   ],
   "source": [
    "test_pred"
   ]
  },
  {
   "cell_type": "code",
   "execution_count": 52,
   "metadata": {},
   "outputs": [],
   "source": [
    "import pandas as pd\n",
    "actuals = test['new_deaths'] + 1\n",
    "predictions = test_pred['yhat'] + 1\n",
    "mape = mean_absolute_percentage_error(actuals, predictions) * 100\n",
    "row = {'Model': 'xgb with tuning 1', 'MAPE': mape}\n",
    "metrics_df.loc[len(metrics_df)] = row"
   ]
  },
  {
   "cell_type": "code",
   "execution_count": 53,
   "metadata": {},
   "outputs": [
    {
     "data": {
      "text/html": [
       "<div>\n",
       "<style scoped>\n",
       "    .dataframe tbody tr th:only-of-type {\n",
       "        vertical-align: middle;\n",
       "    }\n",
       "\n",
       "    .dataframe tbody tr th {\n",
       "        vertical-align: top;\n",
       "    }\n",
       "\n",
       "    .dataframe thead th {\n",
       "        text-align: right;\n",
       "    }\n",
       "</style>\n",
       "<table border=\"1\" class=\"dataframe\">\n",
       "  <thead>\n",
       "    <tr style=\"text-align: right;\">\n",
       "      <th></th>\n",
       "      <th>Model</th>\n",
       "      <th>MAPE</th>\n",
       "    </tr>\n",
       "  </thead>\n",
       "  <tbody>\n",
       "    <tr>\n",
       "      <th>0</th>\n",
       "      <td>base xgb</td>\n",
       "      <td>153.679716</td>\n",
       "    </tr>\n",
       "    <tr>\n",
       "      <th>1</th>\n",
       "      <td>xgb with tuning 1</td>\n",
       "      <td>145.642603</td>\n",
       "    </tr>\n",
       "  </tbody>\n",
       "</table>\n",
       "</div>"
      ],
      "text/plain": [
       "               Model        MAPE\n",
       "0           base xgb  153.679716\n",
       "1  xgb with tuning 1  145.642603"
      ]
     },
     "execution_count": 53,
     "metadata": {},
     "output_type": "execute_result"
    }
   ],
   "source": [
    "metrics_df"
   ]
  },
  {
   "cell_type": "code",
   "execution_count": 54,
   "metadata": {},
   "outputs": [
    {
     "name": "stderr",
     "output_type": "stream",
     "text": [
      "[I 2024-02-24 16:46:12,345] A new study created in memory with name: no-name-57e68f11-8bc7-4916-8873-36c1a8a80ddb\n"
     ]
    },
    {
     "name": "stdout",
     "output_type": "stream",
     "text": [
      "[16:46:12] WARNING: /Users/runner/miniforge3/conda-bld/xgboost-split_1685694945373/work/src/learner.cc:767: \n",
      "Parameters: { \"n_estimators\" } are not used.\n",
      "\n"
     ]
    },
    {
     "name": "stderr",
     "output_type": "stream",
     "text": [
      "[I 2024-02-24 16:46:13,145] Trial 0 finished with value: 25.419753086419753 and parameters: {'n_estimators': 63, 'learning_rate': 0.19910257378421634, 'max_depth': 5}. Best is trial 0 with value: 25.419753086419753.\n",
      "[I 2024-02-24 16:46:13,389] Trial 1 finished with value: 27.076543209876544 and parameters: {'n_estimators': 160, 'learning_rate': 0.2803021901619364, 'max_depth': 4}. Best is trial 0 with value: 25.419753086419753.\n"
     ]
    },
    {
     "name": "stdout",
     "output_type": "stream",
     "text": [
      "[16:46:13] WARNING: /Users/runner/miniforge3/conda-bld/xgboost-split_1685694945373/work/src/learner.cc:767: \n",
      "Parameters: { \"n_estimators\" } are not used.\n",
      "\n",
      "[16:46:13] WARNING: /Users/runner/miniforge3/conda-bld/xgboost-split_1685694945373/work/src/learner.cc:767: \n",
      "Parameters: { \"n_estimators\" } are not used.\n",
      "\n"
     ]
    },
    {
     "name": "stderr",
     "output_type": "stream",
     "text": [
      "[I 2024-02-24 16:46:13,671] Trial 2 finished with value: 50.28888888888889 and parameters: {'n_estimators': 277, 'learning_rate': 0.10565025382669839, 'max_depth': 5}. Best is trial 0 with value: 25.419753086419753.\n"
     ]
    },
    {
     "name": "stdout",
     "output_type": "stream",
     "text": [
      "[16:46:13] WARNING: /Users/runner/miniforge3/conda-bld/xgboost-split_1685694945373/work/src/learner.cc:767: \n",
      "Parameters: { \"n_estimators\" } are not used.\n",
      "\n"
     ]
    },
    {
     "name": "stderr",
     "output_type": "stream",
     "text": [
      "[I 2024-02-24 16:46:13,923] Trial 3 finished with value: 37.77037037037037 and parameters: {'n_estimators': 243, 'learning_rate': 0.12445081487330438, 'max_depth': 8}. Best is trial 0 with value: 25.419753086419753.\n"
     ]
    },
    {
     "name": "stdout",
     "output_type": "stream",
     "text": [
      "[16:46:13] WARNING: /Users/runner/miniforge3/conda-bld/xgboost-split_1685694945373/work/src/learner.cc:767: \n",
      "Parameters: { \"n_estimators\" } are not used.\n",
      "\n"
     ]
    },
    {
     "name": "stderr",
     "output_type": "stream",
     "text": [
      "[I 2024-02-24 16:46:14,353] Trial 4 finished with value: 11.101234567901235 and parameters: {'n_estimators': 218, 'learning_rate': 0.32056552659040494, 'max_depth': 8}. Best is trial 4 with value: 11.101234567901235.\n"
     ]
    },
    {
     "name": "stdout",
     "output_type": "stream",
     "text": [
      "[16:46:14] WARNING: /Users/runner/miniforge3/conda-bld/xgboost-split_1685694945373/work/src/learner.cc:767: \n",
      "Parameters: { \"n_estimators\" } are not used.\n",
      "\n"
     ]
    },
    {
     "name": "stderr",
     "output_type": "stream",
     "text": [
      "[I 2024-02-24 16:46:14,733] Trial 5 finished with value: 44.51111111111111 and parameters: {'n_estimators': 255, 'learning_rate': 0.18141256125798466, 'max_depth': 4}. Best is trial 4 with value: 11.101234567901235.\n"
     ]
    },
    {
     "name": "stdout",
     "output_type": "stream",
     "text": [
      "[16:46:14] WARNING: /Users/runner/miniforge3/conda-bld/xgboost-split_1685694945373/work/src/learner.cc:767: \n",
      "Parameters: { \"n_estimators\" } are not used.\n",
      "\n"
     ]
    },
    {
     "name": "stderr",
     "output_type": "stream",
     "text": [
      "[I 2024-02-24 16:46:15,016] Trial 6 finished with value: 14.380246913580248 and parameters: {'n_estimators': 188, 'learning_rate': 0.4831942607867988, 'max_depth': 7}. Best is trial 4 with value: 11.101234567901235.\n",
      "[I 2024-02-24 16:46:15,261] Trial 7 finished with value: 13.555555555555555 and parameters: {'n_estimators': 249, 'learning_rate': 0.44217292351292226, 'max_depth': 7}. Best is trial 4 with value: 11.101234567901235.\n"
     ]
    },
    {
     "name": "stdout",
     "output_type": "stream",
     "text": [
      "[16:46:15] WARNING: /Users/runner/miniforge3/conda-bld/xgboost-split_1685694945373/work/src/learner.cc:767: \n",
      "Parameters: { \"n_estimators\" } are not used.\n",
      "\n"
     ]
    },
    {
     "name": "stderr",
     "output_type": "stream",
     "text": [
      "[I 2024-02-24 16:46:15,481] Trial 8 finished with value: 43.24938271604938 and parameters: {'n_estimators': 57, 'learning_rate': 0.1268615664836391, 'max_depth': 5}. Best is trial 4 with value: 11.101234567901235.\n"
     ]
    },
    {
     "name": "stdout",
     "output_type": "stream",
     "text": [
      "[16:46:15] WARNING: /Users/runner/miniforge3/conda-bld/xgboost-split_1685694945373/work/src/learner.cc:767: \n",
      "Parameters: { \"n_estimators\" } are not used.\n",
      "\n"
     ]
    },
    {
     "name": "stderr",
     "output_type": "stream",
     "text": [
      "[I 2024-02-24 16:46:15,640] Trial 9 finished with value: 23.530864197530864 and parameters: {'n_estimators': 110, 'learning_rate': 0.34964684682798736, 'max_depth': 4}. Best is trial 4 with value: 11.101234567901235.\n"
     ]
    },
    {
     "name": "stdout",
     "output_type": "stream",
     "text": [
      "[16:46:15] WARNING: /Users/runner/miniforge3/conda-bld/xgboost-split_1685694945373/work/src/learner.cc:767: \n",
      "Parameters: { \"n_estimators\" } are not used.\n",
      "\n",
      "Best Params: {'n_estimators': 218, 'learning_rate': 0.32056552659040494, 'max_depth': 8}\n"
     ]
    }
   ],
   "source": [
    "def objective(trial):\n",
    "    # 2. Suggest values of the hyperparameters using a trial object.\n",
    "    param = {\n",
    "        'objective': 'reg:squarederror',  # Assuming it's a regression task\n",
    "        'eval_metric': 'mae',  # Using Mean Absolute Error as the evaluation metric\n",
    "        'n_estimators': trial.suggest_int('n_estimators', 50, 300),\n",
    "        'learning_rate': trial.suggest_loguniform('learning_rate', 0.1, 0.5),\n",
    "        'max_depth': trial.suggest_int('max_depth', 3, 10),\n",
    "   \n",
    "    }\n",
    "\n",
    "    bst = xgb.train(param, xgb.DMatrix(train.drop('new_deaths', axis=1), label=train['new_deaths']))\n",
    "    preds = bst.predict(xgb.DMatrix(test.drop('new_deaths', axis=1)))\n",
    "    pred_labels = np.rint(preds)\n",
    "    accuracy = sklearn.metrics.mean_absolute_error(test['new_deaths'], pred_labels)\n",
    "    return accuracy\n",
    "\n",
    "# Assuming 'train' and 'test' are DataFrames with the same features\n",
    "# and 'target' is the target variable\n",
    "study = optuna.create_study(direction='minimize')  # Use 'minimize' for Mean Absolute Percentage Error\n",
    "study.optimize(objective, n_trials=10)\n",
    "\n",
    "# Access the best parameters\n",
    "best_params = study.best_params\n",
    "print(\"Best Params:\", best_params)\n"
   ]
  },
  {
   "cell_type": "code",
   "execution_count": null,
   "metadata": {},
   "outputs": [],
   "source": [
    "model = xgb.XGBRegressor(n_estimators = 65, learning_rate = 0.3210929352407252, max_depth = 10)\n",
    "model.fit(train.drop('new_deaths', axis=1), train['new_deaths']);\n",
    "\n",
    "train_pred=pd.DataFrame(model.predict(train.drop('new_deaths', axis=1)), columns=['yhat'], index=train.index)\n",
    "train_pred.head()\n",
    "pd.concat([train['new_deaths'],train_pred['yhat']], axis=1).plot(figsize=(15,5)) \n",
    "plt.legend(['train', 'train_pred'])"
   ]
  }
 ],
 "metadata": {
  "kernelspec": {
   "display_name": "base",
   "language": "python",
   "name": "python3"
  },
  "language_info": {
   "codemirror_mode": {
    "name": "ipython",
    "version": 3
   },
   "file_extension": ".py",
   "mimetype": "text/x-python",
   "name": "python",
   "nbconvert_exporter": "python",
   "pygments_lexer": "ipython3",
   "version": "3.9.12"
  }
 },
 "nbformat": 4,
 "nbformat_minor": 2
}
