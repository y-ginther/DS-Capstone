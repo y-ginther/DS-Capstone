{
 "cells": [
  {
   "cell_type": "markdown",
   "metadata": {},
   "source": [
    "# ARIMA MODEL "
   ]
  },
  {
   "cell_type": "code",
   "execution_count": 1,
   "metadata": {},
   "outputs": [
    {
     "name": "stderr",
     "output_type": "stream",
     "text": [
      "/Users/amandatsuetaki/opt/anaconda3/lib/python3.9/site-packages/pandas/core/computation/expressions.py:21: UserWarning: Pandas requires version '2.8.4' or newer of 'numexpr' (version '2.8.1' currently installed).\n",
      "  from pandas.core.computation.check import NUMEXPR_INSTALLED\n",
      "/Users/amandatsuetaki/opt/anaconda3/lib/python3.9/site-packages/pandas/core/arrays/masked.py:60: UserWarning: Pandas requires version '1.3.6' or newer of 'bottleneck' (version '1.3.4' currently installed).\n",
      "  from pandas.core import (\n"
     ]
    }
   ],
   "source": [
    "import pmdarima as pm\n",
    "from statsmodels.tsa.seasonal import seasonal_decompose\n",
    "from sklearn.model_selection import TimeSeriesSplit\n",
    "import pandas as pd\n",
    "import numpy as np\n",
    "import datetime\n",
    "import requests\n",
    "import warnings\n",
    "\n",
    "import matplotlib.pyplot as plt\n",
    "import matplotlib\n",
    "import matplotlib.dates as mdates\n",
    "\n",
    "from xgboost import XGBRegressor\n",
    "from sklearn.ensemble import RandomForestRegressor\n",
    "from sklearn.metrics import mean_squared_error, mean_absolute_error\n",
    "from sklearn.preprocessing import OrdinalEncoder\n",
    "\n",
    "from sklearn.model_selection import train_test_split\n",
    "from statsmodels.tsa.statespace.sarimax import SARIMAX\n",
    "from statsmodels.tsa.arima_model import ARIMA\n",
    "from sklearn.preprocessing import StandardScaler\n",
    "# from fbprophet import Prophet\n",
    "# from fbprophet.plot import plot_plotly, add_changepoints_to_plot\n",
    "# from keras.models import Sequential\n",
    "# from keras.layers import Dense\n",
    "\n",
    "# from keras.optimizers import Adam\n",
    "\n",
    "warnings.filterwarnings('ignore')"
   ]
  },
  {
   "cell_type": "markdown",
   "metadata": {},
   "source": [
    "## Preprocessing "
   ]
  },
  {
   "cell_type": "code",
   "execution_count": 6,
   "metadata": {},
   "outputs": [],
   "source": [
    "czech  = pd.read_csv('univariate_models/czechia_diff.csv')\n",
    "eston  = pd.read_csv('univariate_models/estonia_diff.csv')\n",
    "franc  = pd.read_csv('univariate_models/france_diff.csv')\n",
    "malay  = pd.read_csv('univariate_models/malaysia_diff.csv')\n",
    "belgi  = pd.read_csv('univariate_models/univariate_df_Belgium.csv')\n",
    "chile  = pd.read_csv('univariate_models/univariate_df_Chile.csv')\n",
    "irela  = pd.read_csv('univariate_models/univariate_df_Ireland.csv')\n",
    "israe  = pd.read_csv('univariate_models/univariate_df_Israel.csv')\n",
    "italy  = pd.read_csv('univariate_models/univariate_df_Italy.csv')\n",
    "us  = pd.read_csv('univariate_models/us_diff.csv')\n"
   ]
  },
  {
   "cell_type": "code",
   "execution_count": 18,
   "metadata": {},
   "outputs": [],
   "source": [
    "# setting index to the date time value \n",
    "def index_dt(c):\n",
    "    c.set_index('date')\n",
    "\n",
    "for x in [czech, eston, franc, malay,belgi, chile, irela, israe, italy, us]:\n",
    "    x = index_dt(x)   "
   ]
  },
  {
   "cell_type": "markdown",
   "metadata": {},
   "source": [
    "## Data Spliting \n",
    "In time series prediction, it is crucial to handle the temporal aspect properly when splitting the data into training and testing sets. Unlike random data, time series data has a sequential structure, and random splitting can lead to information leakage and overly optimistic performance estimates."
   ]
  },
  {
   "cell_type": "code",
   "execution_count": 19,
   "metadata": {},
   "outputs": [],
   "source": [
    "#sort index\n",
    "for x in [czech, eston, franc, malay,belgi, chile, irela, israe, italy, us]:\n",
    "    x = x.sort_index()"
   ]
  },
  {
   "cell_type": "code",
   "execution_count": 20,
   "metadata": {},
   "outputs": [
    {
     "data": {
      "text/html": [
       "<div>\n",
       "<style scoped>\n",
       "    .dataframe tbody tr th:only-of-type {\n",
       "        vertical-align: middle;\n",
       "    }\n",
       "\n",
       "    .dataframe tbody tr th {\n",
       "        vertical-align: top;\n",
       "    }\n",
       "\n",
       "    .dataframe thead th {\n",
       "        text-align: right;\n",
       "    }\n",
       "</style>\n",
       "<table border=\"1\" class=\"dataframe\">\n",
       "  <thead>\n",
       "    <tr style=\"text-align: right;\">\n",
       "      <th></th>\n",
       "      <th>Unnamed: 0</th>\n",
       "      <th>date</th>\n",
       "      <th>new_deaths</th>\n",
       "    </tr>\n",
       "  </thead>\n",
       "  <tbody>\n",
       "    <tr>\n",
       "      <th>0</th>\n",
       "      <td>62402</td>\n",
       "      <td>2020-03-01</td>\n",
       "      <td>NaN</td>\n",
       "    </tr>\n",
       "    <tr>\n",
       "      <th>1</th>\n",
       "      <td>62409</td>\n",
       "      <td>2020-03-08</td>\n",
       "      <td>0.0</td>\n",
       "    </tr>\n",
       "    <tr>\n",
       "      <th>2</th>\n",
       "      <td>62416</td>\n",
       "      <td>2020-03-15</td>\n",
       "      <td>0.0</td>\n",
       "    </tr>\n",
       "    <tr>\n",
       "      <th>3</th>\n",
       "      <td>62423</td>\n",
       "      <td>2020-03-22</td>\n",
       "      <td>0.0</td>\n",
       "    </tr>\n",
       "    <tr>\n",
       "      <th>4</th>\n",
       "      <td>62430</td>\n",
       "      <td>2020-03-29</td>\n",
       "      <td>17.0</td>\n",
       "    </tr>\n",
       "    <tr>\n",
       "      <th>...</th>\n",
       "      <td>...</td>\n",
       "      <td>...</td>\n",
       "      <td>...</td>\n",
       "    </tr>\n",
       "    <tr>\n",
       "      <th>156</th>\n",
       "      <td>63494</td>\n",
       "      <td>2023-02-26</td>\n",
       "      <td>13.0</td>\n",
       "    </tr>\n",
       "    <tr>\n",
       "      <th>157</th>\n",
       "      <td>63501</td>\n",
       "      <td>2023-03-05</td>\n",
       "      <td>-5.0</td>\n",
       "    </tr>\n",
       "    <tr>\n",
       "      <th>158</th>\n",
       "      <td>63508</td>\n",
       "      <td>2023-03-12</td>\n",
       "      <td>-7.0</td>\n",
       "    </tr>\n",
       "    <tr>\n",
       "      <th>159</th>\n",
       "      <td>63515</td>\n",
       "      <td>2023-03-19</td>\n",
       "      <td>21.0</td>\n",
       "    </tr>\n",
       "    <tr>\n",
       "      <th>160</th>\n",
       "      <td>63522</td>\n",
       "      <td>2023-03-26</td>\n",
       "      <td>-1.0</td>\n",
       "    </tr>\n",
       "  </tbody>\n",
       "</table>\n",
       "<p>161 rows × 3 columns</p>\n",
       "</div>"
      ],
      "text/plain": [
       "     Unnamed: 0        date  new_deaths\n",
       "0         62402  2020-03-01         NaN\n",
       "1         62409  2020-03-08         0.0\n",
       "2         62416  2020-03-15         0.0\n",
       "3         62423  2020-03-22         0.0\n",
       "4         62430  2020-03-29        17.0\n",
       "..          ...         ...         ...\n",
       "156       63494  2023-02-26        13.0\n",
       "157       63501  2023-03-05        -5.0\n",
       "158       63508  2023-03-12        -7.0\n",
       "159       63515  2023-03-19        21.0\n",
       "160       63522  2023-03-26        -1.0\n",
       "\n",
       "[161 rows x 3 columns]"
      ]
     },
     "execution_count": 20,
     "metadata": {},
     "output_type": "execute_result"
    }
   ],
   "source": [
    "train_size = int(len(czech) * 0.8)\n",
    "czech_train, czech_test = czech[0:train_size], czech[train_size:]\n",
    "eston_train, eston_test = eston[0:train_size], eston[train_size:]\n",
    "franc_train, franc_test = franc[0:train_size], franc[train_size:]\n",
    "malay_train, malay_test = malay[0:train_size], malay[train_size:]\n",
    "belgi_train, belgi_test = belgi[0:train_size], belgi[train_size:]\n",
    "chile_train, chile_test = chile[0:train_size], chile[train_size:]\n",
    "irela_train, irela_test = irela[0:train_size], irela[train_size:]\n",
    "israe_train, israe_test = israe[0:train_size], israe[train_size:]\n",
    "italy_train, italy_test = italy[0:train_size], italy[train_size:]\n",
    "us_train, us_test = us[0:train_size], us[train_size:]\n",
    "czech_train"
   ]
  },
  {
   "cell_type": "code",
   "execution_count": null,
   "metadata": {},
   "outputs": [],
   "source": []
  },
  {
   "cell_type": "markdown",
   "metadata": {},
   "source": [
    "## Model and Tuning"
   ]
  }
 ],
 "metadata": {
  "kernelspec": {
   "display_name": "base",
   "language": "python",
   "name": "python3"
  },
  "language_info": {
   "codemirror_mode": {
    "name": "ipython",
    "version": 3
   },
   "file_extension": ".py",
   "mimetype": "text/x-python",
   "name": "python",
   "nbconvert_exporter": "python",
   "pygments_lexer": "ipython3",
   "version": "3.9.12"
  }
 },
 "nbformat": 4,
 "nbformat_minor": 2
}
