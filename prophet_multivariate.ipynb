{
 "cells": [
  {
   "cell_type": "code",
   "execution_count": 2,
   "metadata": {},
   "outputs": [],
   "source": [
    "import numpy as np\n",
    "import pandas as pd\n",
    "from sklearn.feature_selection import VarianceThreshold\n",
    "import seaborn as sns\n",
    "import matplotlib.pyplot as plt\n",
    "import warnings\n",
    "from statsmodels.graphics.tsaplots import plot_acf, plot_pacf\n",
    "from statsmodels.tsa.stattools import adfuller\n",
    "import statsmodels.api as sm\n",
    "from statsmodels.graphics.tsaplots import plot_acf,plot_pacf\n",
    "from sklearn.metrics import mean_absolute_error\n",
    "from sklearn.metrics import mean_absolute_percentage_error\n",
    "from sktime.performance_metrics.forecasting import MeanAbsoluteScaledError\n",
    "from prophet import Prophet"
   ]
  },
  {
   "cell_type": "markdown",
   "metadata": {},
   "source": [
    "# Import Data"
   ]
  },
  {
   "cell_type": "code",
   "execution_count": 56,
   "metadata": {},
   "outputs": [
    {
     "data": {
      "text/plain": [
       "(2020, 51)"
      ]
     },
     "execution_count": 56,
     "metadata": {},
     "output_type": "execute_result"
    }
   ],
   "source": [
    "mase = MeanAbsoluteScaledError(sp=4)\n",
    "original = pd.read_csv('new_dataset/owid-covid-data-most-recent.csv')\n",
    "df = pd.read_csv('multivariate.csv')\n",
    "df['date'] = pd.to_datetime(df['date'])\n",
    "df.rename(columns={'date':'ds', 'new_deaths':'y'}, inplace=True)\n",
    "df = df[df['ds'] < '2024-01-14']\n",
    "df['ds'] = pd.to_datetime(df['ds'])\n",
    "train_size = int(len(df)*0.8)\n",
    "\n",
    "# when total_cases is nan, set is to 0 \n",
    "df['total_cases'] = df['total_cases'].fillna(0)\n",
    "\n",
    "train, test = df[0:train_size], df[train_size:]\n",
    "\n",
    "df.shape"
   ]
  },
  {
   "cell_type": "code",
   "execution_count": 11,
   "metadata": {},
   "outputs": [
    {
     "data": {
      "text/html": [
       "<div>\n",
       "<style scoped>\n",
       "    .dataframe tbody tr th:only-of-type {\n",
       "        vertical-align: middle;\n",
       "    }\n",
       "\n",
       "    .dataframe tbody tr th {\n",
       "        vertical-align: top;\n",
       "    }\n",
       "\n",
       "    .dataframe thead th {\n",
       "        text-align: right;\n",
       "    }\n",
       "</style>\n",
       "<table border=\"1\" class=\"dataframe\">\n",
       "  <thead>\n",
       "    <tr style=\"text-align: right;\">\n",
       "      <th></th>\n",
       "      <th>holiday</th>\n",
       "      <th>ds</th>\n",
       "      <th>lower_window</th>\n",
       "      <th>upper_window</th>\n",
       "    </tr>\n",
       "  </thead>\n",
       "  <tbody>\n",
       "    <tr>\n",
       "      <th>0</th>\n",
       "      <td>COVID</td>\n",
       "      <td>2020-03-15</td>\n",
       "      <td>-15</td>\n",
       "      <td>15</td>\n",
       "    </tr>\n",
       "    <tr>\n",
       "      <th>0</th>\n",
       "      <td>superbowl</td>\n",
       "      <td>2020-02-02</td>\n",
       "      <td>-7</td>\n",
       "      <td>1</td>\n",
       "    </tr>\n",
       "    <tr>\n",
       "      <th>1</th>\n",
       "      <td>superbowl</td>\n",
       "      <td>2021-02-07</td>\n",
       "      <td>-7</td>\n",
       "      <td>1</td>\n",
       "    </tr>\n",
       "    <tr>\n",
       "      <th>2</th>\n",
       "      <td>superbowl</td>\n",
       "      <td>2023-02-12</td>\n",
       "      <td>-7</td>\n",
       "      <td>1</td>\n",
       "    </tr>\n",
       "    <tr>\n",
       "      <th>0</th>\n",
       "      <td>vaccine</td>\n",
       "      <td>2020-12-11</td>\n",
       "      <td>-1</td>\n",
       "      <td>31</td>\n",
       "    </tr>\n",
       "  </tbody>\n",
       "</table>\n",
       "</div>"
      ],
      "text/plain": [
       "     holiday         ds  lower_window  upper_window\n",
       "0      COVID 2020-03-15           -15            15\n",
       "0  superbowl 2020-02-02            -7             1\n",
       "1  superbowl 2021-02-07            -7             1\n",
       "2  superbowl 2023-02-12            -7             1\n",
       "0    vaccine 2020-12-11            -1            31"
      ]
     },
     "execution_count": 11,
     "metadata": {},
     "output_type": "execute_result"
    }
   ],
   "source": [
    "# time events\n",
    "\n",
    "# COVID time window\n",
    "COVID = pd.DataFrame({\n",
    "    'holiday': 'COVID',\n",
    "    'ds': pd.to_datetime(['2020-03-15']),\n",
    "    'lower_window': -15,\n",
    "    'upper_window': 15,\n",
    "})\n",
    "\n",
    "# Super Bowl time window\n",
    "superbowl = pd.DataFrame({\n",
    "    'holiday': 'superbowl',\n",
    "    'ds': pd.to_datetime(['2020-02-02', '2021-02-07','2023-2-12']),\n",
    "    'lower_window': -7,\n",
    "    'upper_window': 1,\n",
    "})\n",
    "\n",
    "# vaccine approval time window\n",
    "vaccine = pd.DataFrame({\n",
    "    'holiday': 'vaccine',\n",
    "    'ds': pd.to_datetime(['2020-12-11']),\n",
    "    'lower_window': -1,\n",
    "    'upper_window': 31,\n",
    "})\n",
    "# Combine all events\n",
    "events = pd.concat((COVID, superbowl, vaccine))\n",
    "\n",
    "# Take a look at the events data\n",
    "events"
   ]
  },
  {
   "cell_type": "markdown",
   "metadata": {},
   "source": [
    "# Model Building"
   ]
  },
  {
   "cell_type": "code",
   "execution_count": 58,
   "metadata": {},
   "outputs": [
    {
     "ename": "ValueError",
     "evalue": "Found NaN in column 'total_cases_per_million'",
     "output_type": "error",
     "traceback": [
      "\u001b[0;31m---------------------------------------------------------------------------\u001b[0m",
      "\u001b[0;31mValueError\u001b[0m                                Traceback (most recent call last)",
      "Cell \u001b[0;32mIn[58], line 11\u001b[0m\n\u001b[1;32m      9\u001b[0m     \u001b[38;5;28;01mif\u001b[39;00m col \u001b[38;5;129;01mnot\u001b[39;00m \u001b[38;5;129;01min\u001b[39;00m [\u001b[38;5;124m'\u001b[39m\u001b[38;5;124mds\u001b[39m\u001b[38;5;124m'\u001b[39m,\u001b[38;5;124m'\u001b[39m\u001b[38;5;124my\u001b[39m\u001b[38;5;124m'\u001b[39m]:\n\u001b[1;32m     10\u001b[0m         model\u001b[38;5;241m.\u001b[39madd_regressor(col, standardize\u001b[38;5;241m=\u001b[39m\u001b[38;5;28;01mFalse\u001b[39;00m)\n\u001b[0;32m---> 11\u001b[0m model\u001b[38;5;241m=\u001b[39m \u001b[43mmodel\u001b[49m\u001b[38;5;241;43m.\u001b[39;49m\u001b[43mfit\u001b[49m\u001b[43m(\u001b[49m\u001b[43mtrain\u001b[49m\u001b[38;5;241;43m.\u001b[39;49m\u001b[43mreset_index\u001b[49m\u001b[43m(\u001b[49m\u001b[43mdrop\u001b[49m\u001b[38;5;241;43m=\u001b[39;49m\u001b[38;5;28;43;01mTrue\u001b[39;49;00m\u001b[43m)\u001b[49m\u001b[43m)\u001b[49m\n\u001b[1;32m     12\u001b[0m \u001b[38;5;66;03m# Create the time range for the forecast\u001b[39;00m\n\u001b[1;32m     13\u001b[0m future_multivariate \u001b[38;5;241m=\u001b[39m model\u001b[38;5;241m.\u001b[39mmake_future_dataframe(periods\u001b[38;5;241m=\u001b[39m\u001b[38;5;241m41\u001b[39m)\n",
      "File \u001b[0;32m~/miniconda3/envs/py38/lib/python3.8/site-packages/prophet/forecaster.py:1217\u001b[0m, in \u001b[0;36mProphet.fit\u001b[0;34m(self, df, **kwargs)\u001b[0m\n\u001b[1;32m   1213\u001b[0m \u001b[38;5;28;01mif\u001b[39;00m \u001b[38;5;28mself\u001b[39m\u001b[38;5;241m.\u001b[39mhistory \u001b[38;5;129;01mis\u001b[39;00m \u001b[38;5;129;01mnot\u001b[39;00m \u001b[38;5;28;01mNone\u001b[39;00m:\n\u001b[1;32m   1214\u001b[0m     \u001b[38;5;28;01mraise\u001b[39;00m \u001b[38;5;167;01mException\u001b[39;00m(\u001b[38;5;124m'\u001b[39m\u001b[38;5;124mProphet object can only be fit once. \u001b[39m\u001b[38;5;124m'\u001b[39m\n\u001b[1;32m   1215\u001b[0m                     \u001b[38;5;124m'\u001b[39m\u001b[38;5;124mInstantiate a new object.\u001b[39m\u001b[38;5;124m'\u001b[39m)\n\u001b[0;32m-> 1217\u001b[0m model_inputs \u001b[38;5;241m=\u001b[39m \u001b[38;5;28;43mself\u001b[39;49m\u001b[38;5;241;43m.\u001b[39;49m\u001b[43mpreprocess\u001b[49m\u001b[43m(\u001b[49m\u001b[43mdf\u001b[49m\u001b[43m,\u001b[49m\u001b[43m \u001b[49m\u001b[38;5;241;43m*\u001b[39;49m\u001b[38;5;241;43m*\u001b[39;49m\u001b[43mkwargs\u001b[49m\u001b[43m)\u001b[49m\n\u001b[1;32m   1218\u001b[0m initial_params \u001b[38;5;241m=\u001b[39m \u001b[38;5;28mself\u001b[39m\u001b[38;5;241m.\u001b[39mcalculate_initial_params(model_inputs\u001b[38;5;241m.\u001b[39mK)\n\u001b[1;32m   1220\u001b[0m dat \u001b[38;5;241m=\u001b[39m dataclasses\u001b[38;5;241m.\u001b[39masdict(model_inputs)\n",
      "File \u001b[0;32m~/miniconda3/envs/py38/lib/python3.8/site-packages/prophet/forecaster.py:1135\u001b[0m, in \u001b[0;36mProphet.preprocess\u001b[0;34m(self, df, **kwargs)\u001b[0m\n\u001b[1;32m   1132\u001b[0m     \u001b[38;5;28;01mraise\u001b[39;00m \u001b[38;5;167;01mValueError\u001b[39;00m(\u001b[38;5;124m'\u001b[39m\u001b[38;5;124mDataframe has less than 2 non-NaN rows.\u001b[39m\u001b[38;5;124m'\u001b[39m)\n\u001b[1;32m   1133\u001b[0m \u001b[38;5;28mself\u001b[39m\u001b[38;5;241m.\u001b[39mhistory_dates \u001b[38;5;241m=\u001b[39m pd\u001b[38;5;241m.\u001b[39mto_datetime(pd\u001b[38;5;241m.\u001b[39mSeries(history[\u001b[38;5;124m'\u001b[39m\u001b[38;5;124mds\u001b[39m\u001b[38;5;124m'\u001b[39m]\u001b[38;5;241m.\u001b[39munique(), name\u001b[38;5;241m=\u001b[39m\u001b[38;5;124m'\u001b[39m\u001b[38;5;124mds\u001b[39m\u001b[38;5;124m'\u001b[39m))\u001b[38;5;241m.\u001b[39msort_values()\n\u001b[0;32m-> 1135\u001b[0m \u001b[38;5;28mself\u001b[39m\u001b[38;5;241m.\u001b[39mhistory \u001b[38;5;241m=\u001b[39m \u001b[38;5;28;43mself\u001b[39;49m\u001b[38;5;241;43m.\u001b[39;49m\u001b[43msetup_dataframe\u001b[49m\u001b[43m(\u001b[49m\u001b[43mhistory\u001b[49m\u001b[43m,\u001b[49m\u001b[43m \u001b[49m\u001b[43minitialize_scales\u001b[49m\u001b[38;5;241;43m=\u001b[39;49m\u001b[38;5;28;43;01mTrue\u001b[39;49;00m\u001b[43m)\u001b[49m\n\u001b[1;32m   1136\u001b[0m \u001b[38;5;28mself\u001b[39m\u001b[38;5;241m.\u001b[39mset_auto_seasonalities()\n\u001b[1;32m   1137\u001b[0m seasonal_features, prior_scales, component_cols, modes \u001b[38;5;241m=\u001b[39m (\n\u001b[1;32m   1138\u001b[0m     \u001b[38;5;28mself\u001b[39m\u001b[38;5;241m.\u001b[39mmake_all_seasonality_features(\u001b[38;5;28mself\u001b[39m\u001b[38;5;241m.\u001b[39mhistory))\n",
      "File \u001b[0;32m~/miniconda3/envs/py38/lib/python3.8/site-packages/prophet/forecaster.py:303\u001b[0m, in \u001b[0;36mProphet.setup_dataframe\u001b[0;34m(self, df, initialize_scales)\u001b[0m\n\u001b[1;32m    301\u001b[0m     df[name] \u001b[38;5;241m=\u001b[39m pd\u001b[38;5;241m.\u001b[39mto_numeric(df[name])\n\u001b[1;32m    302\u001b[0m     \u001b[38;5;28;01mif\u001b[39;00m df[name]\u001b[38;5;241m.\u001b[39misnull()\u001b[38;5;241m.\u001b[39many():\n\u001b[0;32m--> 303\u001b[0m         \u001b[38;5;28;01mraise\u001b[39;00m \u001b[38;5;167;01mValueError\u001b[39;00m(\n\u001b[1;32m    304\u001b[0m             \u001b[38;5;124m'\u001b[39m\u001b[38;5;124mFound NaN in column \u001b[39m\u001b[38;5;132;01m{name!r}\u001b[39;00m\u001b[38;5;124m'\u001b[39m\u001b[38;5;241m.\u001b[39mformat(name\u001b[38;5;241m=\u001b[39mname)\n\u001b[1;32m    305\u001b[0m         )\n\u001b[1;32m    306\u001b[0m \u001b[38;5;28;01mfor\u001b[39;00m props \u001b[38;5;129;01min\u001b[39;00m \u001b[38;5;28mself\u001b[39m\u001b[38;5;241m.\u001b[39mseasonalities\u001b[38;5;241m.\u001b[39mvalues():\n\u001b[1;32m    307\u001b[0m     condition_name \u001b[38;5;241m=\u001b[39m props[\u001b[38;5;124m'\u001b[39m\u001b[38;5;124mcondition_name\u001b[39m\u001b[38;5;124m'\u001b[39m]\n",
      "\u001b[0;31mValueError\u001b[0m: Found NaN in column 'total_cases_per_million'"
     ]
    }
   ],
   "source": [
    "\n",
    "# adding holidays\n",
    "model = Prophet(holidays=events,yearly_seasonality=True)\n",
    "\n",
    "# add built_in country specific holidays \n",
    "model.add_country_holidays(country_name='US')\n",
    "\n",
    "#adding regressors\n",
    "for col in train.columns:\n",
    "    if col not in ['ds','y']:\n",
    "        model.add_regressor(col, standardize=False)\n",
    "model= model.fit(train.reset_index(drop=True))\n",
    "# Create the time range for the forecast\n",
    "future_multivariate = model.make_future_dataframe(periods=41)\n",
    "\n",
    "# Append the regressor values\n",
    "future_multivariate = pd.merge(future_multivariate, df, on='ds', how='inner')\n",
    "\n",
    "# Fill the missing values with the previous value\n",
    "future_multivariate = future_multivariate.fillna(method='ffill')\n",
    "\n",
    "# Check the data\n",
    "future_multivariate.tail(10)\n",
    "\n",
    "\n"
   ]
  }
 ],
 "metadata": {
  "kernelspec": {
   "display_name": "py38",
   "language": "python",
   "name": "python3"
  },
  "language_info": {
   "codemirror_mode": {
    "name": "ipython",
    "version": 3
   },
   "file_extension": ".py",
   "mimetype": "text/x-python",
   "name": "python",
   "nbconvert_exporter": "python",
   "pygments_lexer": "ipython3",
   "version": "3.8.16"
  }
 },
 "nbformat": 4,
 "nbformat_minor": 2
}
