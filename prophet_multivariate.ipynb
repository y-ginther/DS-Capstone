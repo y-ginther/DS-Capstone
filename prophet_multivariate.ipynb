{
 "cells": [
  {
   "cell_type": "code",
   "execution_count": 2,
   "metadata": {},
   "outputs": [],
   "source": [
    "import numpy as np\n",
    "import pandas as pd\n",
    "from sklearn.feature_selection import VarianceThreshold\n",
    "import seaborn as sns\n",
    "import matplotlib.pyplot as plt\n",
    "import warnings\n",
    "from statsmodels.graphics.tsaplots import plot_acf, plot_pacf\n",
    "from statsmodels.tsa.stattools import adfuller\n",
    "import statsmodels.api as sm\n",
    "from statsmodels.graphics.tsaplots import plot_acf,plot_pacf\n",
    "from sklearn.metrics import mean_absolute_error\n",
    "from sklearn.metrics import mean_absolute_percentage_error\n",
    "from sktime.performance_metrics.forecasting import MeanAbsoluteScaledError\n",
    "from prophet import Prophet"
   ]
  },
  {
   "cell_type": "markdown",
   "metadata": {},
   "source": [
    "# Import Data"
   ]
  },
  {
   "cell_type": "code",
   "execution_count": 13,
   "metadata": {},
   "outputs": [
    {
     "data": {
      "text/plain": [
       "(2023, 60)"
      ]
     },
     "execution_count": 13,
     "metadata": {},
     "output_type": "execute_result"
    }
   ],
   "source": [
    "mase = MeanAbsoluteScaledError(sp=4)\n",
    "original = pd.read_csv('new_dataset/owid-covid-data-most-recent.csv')\n",
    "original = pd.read_csv('multivariate.csv')\n",
    "original['date'] = pd.to_datetime(original['date'])\n",
    "df = pd.get_dummies(original)\n",
    "df.shape"
   ]
  },
  {
   "cell_type": "code",
   "execution_count": 9,
   "metadata": {},
   "outputs": [
    {
     "data": {
      "text/html": [
       "<div>\n",
       "<style scoped>\n",
       "    .dataframe tbody tr th:only-of-type {\n",
       "        vertical-align: middle;\n",
       "    }\n",
       "\n",
       "    .dataframe tbody tr th {\n",
       "        vertical-align: top;\n",
       "    }\n",
       "\n",
       "    .dataframe thead th {\n",
       "        text-align: right;\n",
       "    }\n",
       "</style>\n",
       "<table border=\"1\" class=\"dataframe\">\n",
       "  <thead>\n",
       "    <tr style=\"text-align: right;\">\n",
       "      <th></th>\n",
       "      <th>holiday</th>\n",
       "      <th>ds</th>\n",
       "      <th>lower_window</th>\n",
       "      <th>upper_window</th>\n",
       "    </tr>\n",
       "  </thead>\n",
       "  <tbody>\n",
       "    <tr>\n",
       "      <th>0</th>\n",
       "      <td>COVID</td>\n",
       "      <td>2020-03-15</td>\n",
       "      <td>-15</td>\n",
       "      <td>15</td>\n",
       "    </tr>\n",
       "    <tr>\n",
       "      <th>0</th>\n",
       "      <td>superbowl</td>\n",
       "      <td>2020-02-02</td>\n",
       "      <td>-7</td>\n",
       "      <td>1</td>\n",
       "    </tr>\n",
       "    <tr>\n",
       "      <th>1</th>\n",
       "      <td>superbowl</td>\n",
       "      <td>2021-02-07</td>\n",
       "      <td>-7</td>\n",
       "      <td>1</td>\n",
       "    </tr>\n",
       "    <tr>\n",
       "      <th>2</th>\n",
       "      <td>superbowl</td>\n",
       "      <td>2023-02-12</td>\n",
       "      <td>-7</td>\n",
       "      <td>1</td>\n",
       "    </tr>\n",
       "    <tr>\n",
       "      <th>0</th>\n",
       "      <td>vaccine</td>\n",
       "      <td>2020-12-11</td>\n",
       "      <td>-1</td>\n",
       "      <td>31</td>\n",
       "    </tr>\n",
       "  </tbody>\n",
       "</table>\n",
       "</div>"
      ],
      "text/plain": [
       "     holiday         ds  lower_window  upper_window\n",
       "0      COVID 2020-03-15           -15            15\n",
       "0  superbowl 2020-02-02            -7             1\n",
       "1  superbowl 2021-02-07            -7             1\n",
       "2  superbowl 2023-02-12            -7             1\n",
       "0    vaccine 2020-12-11            -1            31"
      ]
     },
     "execution_count": 9,
     "metadata": {},
     "output_type": "execute_result"
    }
   ],
   "source": [
    "# time events\n",
    "\n",
    "# COVID time window\n",
    "COVID = pd.DataFrame({\n",
    "    'holiday': 'COVID',\n",
    "    'ds': pd.to_datetime(['2020-03-15']),\n",
    "    'lower_window': -15,\n",
    "    'upper_window': 15,\n",
    "})\n",
    "\n",
    "# Super Bowl time window\n",
    "superbowl = pd.DataFrame({\n",
    "    'holiday': 'superbowl',\n",
    "    'ds': pd.to_datetime(['2020-02-02', '2021-02-07','2023-2-12']),\n",
    "    'lower_window': -7,\n",
    "    'upper_window': 1,\n",
    "})\n",
    "\n",
    "# vaccine approval time window\n",
    "vaccine = pd.DataFrame({\n",
    "    'holiday': 'vaccine',\n",
    "    'ds': pd.to_datetime(['2020-12-11']),\n",
    "    'lower_window': -1,\n",
    "    'upper_window': 31,\n",
    "})\n",
    "# Combine all events\n",
    "events = pd.concat((COVID, superbowl, vaccine))\n",
    "\n",
    "# Take a look at the events data\n",
    "events"
   ]
  },
  {
   "cell_type": "markdown",
   "metadata": {},
   "source": [
    "# Model Building"
   ]
  },
  {
   "cell_type": "code",
   "execution_count": null,
   "metadata": {},
   "outputs": [],
   "source": [
    "# adding holidays\n",
    "\n",
    "model = Prophet(holidays=events,yearly_seasonality=True)\n"
   ]
  }
 ],
 "metadata": {
  "kernelspec": {
   "display_name": "py38",
   "language": "python",
   "name": "python3"
  },
  "language_info": {
   "codemirror_mode": {
    "name": "ipython",
    "version": 3
   },
   "file_extension": ".py",
   "mimetype": "text/x-python",
   "name": "python",
   "nbconvert_exporter": "python",
   "pygments_lexer": "ipython3",
   "version": "3.8.16"
  }
 },
 "nbformat": 4,
 "nbformat_minor": 2
}
