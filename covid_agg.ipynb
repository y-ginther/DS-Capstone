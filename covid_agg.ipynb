{
 "cells": [
  {
   "cell_type": "code",
   "execution_count": null,
   "metadata": {},
   "outputs": [],
   "source": []
  },
  {
   "cell_type": "code",
   "execution_count": 34,
   "metadata": {},
   "outputs": [],
   "source": [
    "import pandas as pd\n",
    "import numpy as np\n",
    "import seaborn as sns\n",
    "import matplotlib.pyplot as plt"
   ]
  },
  {
   "cell_type": "code",
   "execution_count": 35,
   "metadata": {},
   "outputs": [],
   "source": [
    "#imports in korea \n",
    "time = pd.read_csv('dataset/Time.csv')\n",
    "timeage = pd.read_csv('dataset/TimeAge.csv')\n",
    "timegender = pd.read_csv('dataset/TimeGender.csv')\n",
    "timeprovince = pd.read_csv('dataset/TimeProvince.csv')\n",
    "patient = pd.read_csv('dataset/PatientInfo.csv')\n",
    "searchtrend = pd.read_csv('dataset/SearchTrend.csv')\n",
    "region = pd.read_csv('dataset/Region.csv')\n",
    "policy = pd.read_csv('dataset/Policy.csv')\n",
    "case = pd.read_csv('dataset/Case.csv')\n",
    "weather = pd.read_csv('dataset/Weather.csv')"
   ]
  },
  {
   "cell_type": "code",
   "execution_count": 43,
   "metadata": {},
   "outputs": [
    {
     "data": {
      "text/plain": [
       "(26271, 10)"
      ]
     },
     "execution_count": 43,
     "metadata": {},
     "output_type": "execute_result"
    }
   ],
   "source": [
    "patient = pd.read_csv('dataset/PatientInfo.csv')\n",
    "patient_df = pd.DataFrame(patient)\n",
    "weather_df = pd.DataFrame(weather)\n",
    "weather.shape"
   ]
  },
  {
   "cell_type": "code",
   "execution_count": null,
   "metadata": {},
   "outputs": [],
   "source": [
    "timeage"
   ]
  },
  {
   "cell_type": "code",
   "execution_count": 41,
   "metadata": {},
   "outputs": [
    {
     "data": {
      "text/html": [
       "<div>\n",
       "<style scoped>\n",
       "    .dataframe tbody tr th:only-of-type {\n",
       "        vertical-align: middle;\n",
       "    }\n",
       "\n",
       "    .dataframe tbody tr th {\n",
       "        vertical-align: top;\n",
       "    }\n",
       "\n",
       "    .dataframe thead th {\n",
       "        text-align: right;\n",
       "    }\n",
       "</style>\n",
       "<table border=\"1\" class=\"dataframe\">\n",
       "  <thead>\n",
       "    <tr style=\"text-align: right;\">\n",
       "      <th></th>\n",
       "      <th>time</th>\n",
       "      <th>test</th>\n",
       "      <th>negative</th>\n",
       "      <th>confirmed</th>\n",
       "      <th>released</th>\n",
       "      <th>deceased</th>\n",
       "    </tr>\n",
       "  </thead>\n",
       "  <tbody>\n",
       "    <tr>\n",
       "      <th>count</th>\n",
       "      <td>4261.000000</td>\n",
       "      <td>1.630000e+02</td>\n",
       "      <td>1.630000e+02</td>\n",
       "      <td>4261.000000</td>\n",
       "      <td>2930.000000</td>\n",
       "      <td>4261.000000</td>\n",
       "    </tr>\n",
       "    <tr>\n",
       "      <th>mean</th>\n",
       "      <td>2.823750</td>\n",
       "      <td>4.977797e+05</td>\n",
       "      <td>4.754839e+05</td>\n",
       "      <td>1180.627552</td>\n",
       "      <td>615.097611</td>\n",
       "      <td>23.989439</td>\n",
       "    </tr>\n",
       "    <tr>\n",
       "      <th>std</th>\n",
       "      <td>6.100424</td>\n",
       "      <td>3.958830e+05</td>\n",
       "      <td>3.865611e+05</td>\n",
       "      <td>2295.297210</td>\n",
       "      <td>1951.420272</td>\n",
       "      <td>53.198668</td>\n",
       "    </tr>\n",
       "    <tr>\n",
       "      <th>min</th>\n",
       "      <td>0.000000</td>\n",
       "      <td>1.000000e+00</td>\n",
       "      <td>0.000000e+00</td>\n",
       "      <td>0.000000</td>\n",
       "      <td>0.000000</td>\n",
       "      <td>0.000000</td>\n",
       "    </tr>\n",
       "    <tr>\n",
       "      <th>25%</th>\n",
       "      <td>0.000000</td>\n",
       "      <td>9.648800e+04</td>\n",
       "      <td>5.877400e+04</td>\n",
       "      <td>21.000000</td>\n",
       "      <td>1.000000</td>\n",
       "      <td>0.000000</td>\n",
       "    </tr>\n",
       "    <tr>\n",
       "      <th>50%</th>\n",
       "      <td>0.000000</td>\n",
       "      <td>5.030510e+05</td>\n",
       "      <td>4.773030e+05</td>\n",
       "      <td>130.000000</td>\n",
       "      <td>25.000000</td>\n",
       "      <td>0.000000</td>\n",
       "    </tr>\n",
       "    <tr>\n",
       "      <th>75%</th>\n",
       "      <td>0.000000</td>\n",
       "      <td>7.825585e+05</td>\n",
       "      <td>7.542225e+05</td>\n",
       "      <td>1235.000000</td>\n",
       "      <td>116.000000</td>\n",
       "      <td>14.000000</td>\n",
       "    </tr>\n",
       "    <tr>\n",
       "      <th>max</th>\n",
       "      <td>16.000000</td>\n",
       "      <td>1.273766e+06</td>\n",
       "      <td>1.240157e+06</td>\n",
       "      <td>12800.000000</td>\n",
       "      <td>11537.000000</td>\n",
       "      <td>282.000000</td>\n",
       "    </tr>\n",
       "  </tbody>\n",
       "</table>\n",
       "</div>"
      ],
      "text/plain": [
       "              time          test      negative     confirmed      released  \\\n",
       "count  4261.000000  1.630000e+02  1.630000e+02   4261.000000   2930.000000   \n",
       "mean      2.823750  4.977797e+05  4.754839e+05   1180.627552    615.097611   \n",
       "std       6.100424  3.958830e+05  3.865611e+05   2295.297210   1951.420272   \n",
       "min       0.000000  1.000000e+00  0.000000e+00      0.000000      0.000000   \n",
       "25%       0.000000  9.648800e+04  5.877400e+04     21.000000      1.000000   \n",
       "50%       0.000000  5.030510e+05  4.773030e+05    130.000000     25.000000   \n",
       "75%       0.000000  7.825585e+05  7.542225e+05   1235.000000    116.000000   \n",
       "max      16.000000  1.273766e+06  1.240157e+06  12800.000000  11537.000000   \n",
       "\n",
       "          deceased  \n",
       "count  4261.000000  \n",
       "mean     23.989439  \n",
       "std      53.198668  \n",
       "min       0.000000  \n",
       "25%       0.000000  \n",
       "50%       0.000000  \n",
       "75%      14.000000  \n",
       "max     282.000000  "
      ]
     },
     "execution_count": 41,
     "metadata": {},
     "output_type": "execute_result"
    }
   ],
   "source": [
    "# merging time together\n",
    "coviddata = pd.merge(time,timeage,how='outer')\n",
    "\n",
    "coviddata = pd.merge(coviddata,timegender,how='outer')\n",
    "\n",
    "coviddata = pd.merge(coviddata,timeprovince,how='outer')\n",
    "\n",
    "coviddata.describe()"
   ]
  }
 ],
 "metadata": {
  "kernelspec": {
   "display_name": "base",
   "language": "python",
   "name": "python3"
  },
  "language_info": {
   "codemirror_mode": {
    "name": "ipython",
    "version": 3
   },
   "file_extension": ".py",
   "mimetype": "text/x-python",
   "name": "python",
   "nbconvert_exporter": "python",
   "pygments_lexer": "ipython3",
   "version": "3.9.12"
  }
 },
 "nbformat": 4,
 "nbformat_minor": 2
}
