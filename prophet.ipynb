{
 "cells": [
  {
   "cell_type": "code",
   "execution_count": 1,
   "metadata": {},
   "outputs": [],
   "source": [
    "import numpy as np\n",
    "import pandas as pd\n",
    "from sklearn.feature_selection import VarianceThreshold\n",
    "import seaborn as sns\n",
    "import matplotlib.pyplot as plt\n",
    "import warnings\n",
    "from statsmodels.graphics.tsaplots import plot_acf, plot_pacf\n",
    "from statsmodels.tsa.stattools import adfuller\n",
    "import statsmodels.api as sm\n",
    "from statsmodels.graphics.tsaplots import plot_acf,plot_pacf\n",
    "from sklearn.metrics import mean_absolute_error\n",
    "from sklearn.metrics import mean_absolute_percentage_error\n",
    "from pmdarima import auto_arima\n",
    "from prophet import Prophet"
   ]
  },
  {
   "cell_type": "code",
   "execution_count": null,
   "metadata": {},
   "outputs": [],
   "source": [
    "# Import Data\n",
    "us_diff = pd.read_csv('univariate_datasets/us_diff.csv', usecols=[1,2], index_col=0, parse_dates=[0])\n",
    "us = pd.read_csv('univariate_datasets/univariate_df_United_States.csv',usecols=[1,2], index_col=0, parse_dates=[0])\n",
    "belgium = pd.read_csv('univariate_datasets/univariate_df_Belgium.csv', usecols=[1,2], index_col = 0, parse_dates = [0])\n",
    "chile = pd.read_csv('univariate_datasets/univariate_df_Chile.csv', usecols=[1,2], index_col = 0, parse_dates = [0])\n",
    "czechia = pd.read_csv('univariate_datasets/univariate_df_Czechia.csv', usecols=[1,2], index_col = 0, parse_dates = [0])\n",
    "estonia = pd.read_csv('univariate_datasets/univariate_df_Estonia.csv', usecols=[1,2], index_col = 0, parse_dates = [0])\n",
    "france = pd.read_csv('univariate_datasets/univariate_df_France.csv', usecols=[1,2], index_col = 0, parse_dates = [0])\n",
    "ireland = pd.read_csv('univariate_datasets/univariate_df_Ireland.csv', usecols=[1,2], index_col = 0, parse_dates = [0])\n",
    "israel = pd.read_csv('univariate_datasets/univariate_df_Israel.csv', usecols=[1,2], index_col = 0, parse_dates = [0])\n",
    "italy = pd.read_csv('univariate_datasets/univariate_df_Italy.csv', usecols=[1,2], index_col = 0, parse_dates = [0])\n",
    "malaysia = pd.read_csv('univariate_datasets/univariate_df_Malaysia.csv', usecols=[1,2], index_col = 0, parse_dates = [0])\n",
    "# test_train split\n",
    "train_size = int(len(us)*0.8)\n",
    "\n",
    "small_constant = 1\n",
    "def mape(y_true, prediction):\n",
    "    return np.mean(np.abs((y_true - prediction) / (y_true + small_constant))) * 100\n",
    "\n",
    "evaluation = pd.DataFrame(columns = ['Country','Model', 'MAE', 'MAPE'])"
   ]
  }
 ],
 "metadata": {
  "kernelspec": {
   "display_name": "py38",
   "language": "python",
   "name": "python3"
  },
  "language_info": {
   "codemirror_mode": {
    "name": "ipython",
    "version": 3
   },
   "file_extension": ".py",
   "mimetype": "text/x-python",
   "name": "python",
   "nbconvert_exporter": "python",
   "pygments_lexer": "ipython3",
   "version": "3.8.16"
  }
 },
 "nbformat": 4,
 "nbformat_minor": 2
}
