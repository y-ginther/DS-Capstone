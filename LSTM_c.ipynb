{
 "cells": [
  {
   "cell_type": "code",
   "execution_count": 1,
   "metadata": {},
   "outputs": [
    {
     "name": "stderr",
     "output_type": "stream",
     "text": [
      "2024-03-07 11:27:28.183610: I tensorflow/core/platform/cpu_feature_guard.cc:193] This TensorFlow binary is optimized with oneAPI Deep Neural Network Library (oneDNN) to use the following CPU instructions in performance-critical operations:  AVX2 AVX512F AVX512_VNNI FMA\n",
      "To enable them in other operations, rebuild TensorFlow with the appropriate compiler flags.\n",
      "/Users/ChloeSokol/opt/anaconda3/lib/python3.9/site-packages/xgboost/compat.py:36: FutureWarning: pandas.Int64Index is deprecated and will be removed from pandas in a future version. Use pandas.Index with the appropriate dtype instead.\n",
      "  from pandas import MultiIndex, Int64Index\n"
     ]
    }
   ],
   "source": [
    "import pmdarima as pm\n",
    "from statsmodels.tsa.seasonal import seasonal_decompose\n",
    "from sklearn.model_selection import TimeSeriesSplit\n",
    "import pandas as pd\n",
    "import numpy as np\n",
    "import seaborn as sns\n",
    "import keras \n",
    "import datetime\n",
    "import requests\n",
    "import warnings\n",
    "import keras\n",
    "\n",
    "import matplotlib.pyplot as plt\n",
    "import matplotlib\n",
    "import matplotlib.dates as mdates\n",
    "\n",
    "import xgboost as xgb\n",
    "from xgboost import XGBRegressor\n",
    "from xgboost import plot_importance, plot_tree\n",
    "from sklearn.ensemble import RandomForestRegressor\n",
    "from sklearn.metrics import mean_squared_error, mean_absolute_error, mean_absolute_percentage_error, r2_score\n",
    "from sklearn.preprocessing import OrdinalEncoder\n",
    "from sktime.performance_metrics.forecasting import MeanAbsoluteScaledError\n",
    "\n",
    "from sklearn.model_selection import train_test_split\n",
    "from statsmodels.tsa.statespace.sarimax import SARIMAX\n",
    "from statsmodels.tsa.arima.model import ARIMA\n",
    "from sklearn.preprocessing import StandardScaler\n",
    "from pmdarima import auto_arima\n",
    "\n",
    "import prophet\n",
    "\n",
    "warnings.filterwarnings('ignore')"
   ]
  },
  {
   "cell_type": "code",
   "execution_count": 59,
   "metadata": {},
   "outputs": [],
   "source": [
    "mat = np.empty((0, 4))\n",
    "metrics = pd.DataFrame(mat)\n",
    "metrics = pd.DataFrame(columns=['model', 'mae', 'mase', 'rsq'])"
   ]
  },
  {
   "cell_type": "markdown",
   "metadata": {},
   "source": [
    "# Pre-processing"
   ]
  },
  {
   "cell_type": "code",
   "execution_count": 61,
   "metadata": {},
   "outputs": [
    {
     "data": {
      "text/html": [
       "<div>\n",
       "<style scoped>\n",
       "    .dataframe tbody tr th:only-of-type {\n",
       "        vertical-align: middle;\n",
       "    }\n",
       "\n",
       "    .dataframe tbody tr th {\n",
       "        vertical-align: top;\n",
       "    }\n",
       "\n",
       "    .dataframe thead th {\n",
       "        text-align: right;\n",
       "    }\n",
       "</style>\n",
       "<table border=\"1\" class=\"dataframe\">\n",
       "  <thead>\n",
       "    <tr style=\"text-align: right;\">\n",
       "      <th></th>\n",
       "      <th>total_cases</th>\n",
       "      <th>new_cases</th>\n",
       "      <th>new_deaths</th>\n",
       "      <th>total_cases_per_million</th>\n",
       "      <th>new_cases_per_million</th>\n",
       "      <th>icu_patients_per_million</th>\n",
       "      <th>hosp_patients_per_million</th>\n",
       "      <th>weekly_icu_admissions_per_million</th>\n",
       "      <th>weekly_hosp_admissions_per_million</th>\n",
       "      <th>new_vaccinations</th>\n",
       "      <th>...</th>\n",
       "      <th>location_Belgium</th>\n",
       "      <th>location_Chile</th>\n",
       "      <th>location_Czechia</th>\n",
       "      <th>location_Estonia</th>\n",
       "      <th>location_France</th>\n",
       "      <th>location_Ireland</th>\n",
       "      <th>location_Israel</th>\n",
       "      <th>location_Italy</th>\n",
       "      <th>location_Malaysia</th>\n",
       "      <th>location_United States</th>\n",
       "    </tr>\n",
       "    <tr>\n",
       "      <th>date</th>\n",
       "      <th></th>\n",
       "      <th></th>\n",
       "      <th></th>\n",
       "      <th></th>\n",
       "      <th></th>\n",
       "      <th></th>\n",
       "      <th></th>\n",
       "      <th></th>\n",
       "      <th></th>\n",
       "      <th></th>\n",
       "      <th></th>\n",
       "      <th></th>\n",
       "      <th></th>\n",
       "      <th></th>\n",
       "      <th></th>\n",
       "      <th></th>\n",
       "      <th></th>\n",
       "      <th></th>\n",
       "      <th></th>\n",
       "      <th></th>\n",
       "      <th></th>\n",
       "    </tr>\n",
       "  </thead>\n",
       "  <tbody>\n",
       "    <tr>\n",
       "      <th>2020-03-01</th>\n",
       "      <td>1.0</td>\n",
       "      <td>0.0</td>\n",
       "      <td>0.0</td>\n",
       "      <td>0.086</td>\n",
       "      <td>0.000</td>\n",
       "      <td>NaN</td>\n",
       "      <td>NaN</td>\n",
       "      <td>NaN</td>\n",
       "      <td>NaN</td>\n",
       "      <td>NaN</td>\n",
       "      <td>...</td>\n",
       "      <td>1</td>\n",
       "      <td>0</td>\n",
       "      <td>0</td>\n",
       "      <td>0</td>\n",
       "      <td>0</td>\n",
       "      <td>0</td>\n",
       "      <td>0</td>\n",
       "      <td>0</td>\n",
       "      <td>0</td>\n",
       "      <td>0</td>\n",
       "    </tr>\n",
       "    <tr>\n",
       "      <th>2020-03-01</th>\n",
       "      <td>16.0</td>\n",
       "      <td>0.0</td>\n",
       "      <td>0.0</td>\n",
       "      <td>0.248</td>\n",
       "      <td>0.000</td>\n",
       "      <td>NaN</td>\n",
       "      <td>NaN</td>\n",
       "      <td>NaN</td>\n",
       "      <td>NaN</td>\n",
       "      <td>NaN</td>\n",
       "      <td>...</td>\n",
       "      <td>0</td>\n",
       "      <td>0</td>\n",
       "      <td>0</td>\n",
       "      <td>0</td>\n",
       "      <td>1</td>\n",
       "      <td>0</td>\n",
       "      <td>0</td>\n",
       "      <td>0</td>\n",
       "      <td>0</td>\n",
       "      <td>0</td>\n",
       "    </tr>\n",
       "    <tr>\n",
       "      <th>2020-03-01</th>\n",
       "      <td>NaN</td>\n",
       "      <td>0.0</td>\n",
       "      <td>0.0</td>\n",
       "      <td>NaN</td>\n",
       "      <td>0.000</td>\n",
       "      <td>NaN</td>\n",
       "      <td>NaN</td>\n",
       "      <td>0.395</td>\n",
       "      <td>2.372</td>\n",
       "      <td>NaN</td>\n",
       "      <td>...</td>\n",
       "      <td>0</td>\n",
       "      <td>0</td>\n",
       "      <td>0</td>\n",
       "      <td>0</td>\n",
       "      <td>0</td>\n",
       "      <td>1</td>\n",
       "      <td>0</td>\n",
       "      <td>0</td>\n",
       "      <td>0</td>\n",
       "      <td>0</td>\n",
       "    </tr>\n",
       "    <tr>\n",
       "      <th>2020-03-01</th>\n",
       "      <td>NaN</td>\n",
       "      <td>0.0</td>\n",
       "      <td>0.0</td>\n",
       "      <td>NaN</td>\n",
       "      <td>0.000</td>\n",
       "      <td>0.000</td>\n",
       "      <td>NaN</td>\n",
       "      <td>NaN</td>\n",
       "      <td>NaN</td>\n",
       "      <td>NaN</td>\n",
       "      <td>...</td>\n",
       "      <td>0</td>\n",
       "      <td>0</td>\n",
       "      <td>1</td>\n",
       "      <td>0</td>\n",
       "      <td>0</td>\n",
       "      <td>0</td>\n",
       "      <td>0</td>\n",
       "      <td>0</td>\n",
       "      <td>0</td>\n",
       "      <td>0</td>\n",
       "    </tr>\n",
       "    <tr>\n",
       "      <th>2020-03-01</th>\n",
       "      <td>15.0</td>\n",
       "      <td>5.0</td>\n",
       "      <td>0.0</td>\n",
       "      <td>1.587</td>\n",
       "      <td>0.529</td>\n",
       "      <td>NaN</td>\n",
       "      <td>NaN</td>\n",
       "      <td>NaN</td>\n",
       "      <td>NaN</td>\n",
       "      <td>NaN</td>\n",
       "      <td>...</td>\n",
       "      <td>0</td>\n",
       "      <td>0</td>\n",
       "      <td>0</td>\n",
       "      <td>0</td>\n",
       "      <td>0</td>\n",
       "      <td>0</td>\n",
       "      <td>1</td>\n",
       "      <td>0</td>\n",
       "      <td>0</td>\n",
       "      <td>0</td>\n",
       "    </tr>\n",
       "    <tr>\n",
       "      <th>...</th>\n",
       "      <td>...</td>\n",
       "      <td>...</td>\n",
       "      <td>...</td>\n",
       "      <td>...</td>\n",
       "      <td>...</td>\n",
       "      <td>...</td>\n",
       "      <td>...</td>\n",
       "      <td>...</td>\n",
       "      <td>...</td>\n",
       "      <td>...</td>\n",
       "      <td>...</td>\n",
       "      <td>...</td>\n",
       "      <td>...</td>\n",
       "      <td>...</td>\n",
       "      <td>...</td>\n",
       "      <td>...</td>\n",
       "      <td>...</td>\n",
       "      <td>...</td>\n",
       "      <td>...</td>\n",
       "      <td>...</td>\n",
       "      <td>...</td>\n",
       "    </tr>\n",
       "    <tr>\n",
       "      <th>2024-01-07</th>\n",
       "      <td>4848745.0</td>\n",
       "      <td>0.0</td>\n",
       "      <td>0.0</td>\n",
       "      <td>415989.793</td>\n",
       "      <td>0.000</td>\n",
       "      <td>NaN</td>\n",
       "      <td>NaN</td>\n",
       "      <td>NaN</td>\n",
       "      <td>NaN</td>\n",
       "      <td>NaN</td>\n",
       "      <td>...</td>\n",
       "      <td>1</td>\n",
       "      <td>0</td>\n",
       "      <td>0</td>\n",
       "      <td>0</td>\n",
       "      <td>0</td>\n",
       "      <td>0</td>\n",
       "      <td>0</td>\n",
       "      <td>0</td>\n",
       "      <td>0</td>\n",
       "      <td>0</td>\n",
       "    </tr>\n",
       "    <tr>\n",
       "      <th>2024-01-07</th>\n",
       "      <td>103436829.0</td>\n",
       "      <td>NaN</td>\n",
       "      <td>0.0</td>\n",
       "      <td>305763.910</td>\n",
       "      <td>NaN</td>\n",
       "      <td>NaN</td>\n",
       "      <td>NaN</td>\n",
       "      <td>NaN</td>\n",
       "      <td>NaN</td>\n",
       "      <td>NaN</td>\n",
       "      <td>...</td>\n",
       "      <td>0</td>\n",
       "      <td>0</td>\n",
       "      <td>0</td>\n",
       "      <td>0</td>\n",
       "      <td>0</td>\n",
       "      <td>0</td>\n",
       "      <td>0</td>\n",
       "      <td>0</td>\n",
       "      <td>0</td>\n",
       "      <td>1</td>\n",
       "    </tr>\n",
       "    <tr>\n",
       "      <th>2024-01-14</th>\n",
       "      <td>NaN</td>\n",
       "      <td>NaN</td>\n",
       "      <td>0.0</td>\n",
       "      <td>NaN</td>\n",
       "      <td>NaN</td>\n",
       "      <td>NaN</td>\n",
       "      <td>NaN</td>\n",
       "      <td>NaN</td>\n",
       "      <td>NaN</td>\n",
       "      <td>NaN</td>\n",
       "      <td>...</td>\n",
       "      <td>0</td>\n",
       "      <td>0</td>\n",
       "      <td>0</td>\n",
       "      <td>1</td>\n",
       "      <td>0</td>\n",
       "      <td>0</td>\n",
       "      <td>0</td>\n",
       "      <td>0</td>\n",
       "      <td>0</td>\n",
       "      <td>0</td>\n",
       "    </tr>\n",
       "    <tr>\n",
       "      <th>2024-01-14</th>\n",
       "      <td>NaN</td>\n",
       "      <td>NaN</td>\n",
       "      <td>0.0</td>\n",
       "      <td>NaN</td>\n",
       "      <td>NaN</td>\n",
       "      <td>2.287</td>\n",
       "      <td>22.870</td>\n",
       "      <td>NaN</td>\n",
       "      <td>NaN</td>\n",
       "      <td>NaN</td>\n",
       "      <td>...</td>\n",
       "      <td>0</td>\n",
       "      <td>0</td>\n",
       "      <td>1</td>\n",
       "      <td>0</td>\n",
       "      <td>0</td>\n",
       "      <td>0</td>\n",
       "      <td>0</td>\n",
       "      <td>0</td>\n",
       "      <td>0</td>\n",
       "      <td>0</td>\n",
       "    </tr>\n",
       "    <tr>\n",
       "      <th>2024-01-14</th>\n",
       "      <td>NaN</td>\n",
       "      <td>NaN</td>\n",
       "      <td>1.0</td>\n",
       "      <td>NaN</td>\n",
       "      <td>NaN</td>\n",
       "      <td>0.884</td>\n",
       "      <td>14.644</td>\n",
       "      <td>NaN</td>\n",
       "      <td>34.946</td>\n",
       "      <td>55.0</td>\n",
       "      <td>...</td>\n",
       "      <td>0</td>\n",
       "      <td>0</td>\n",
       "      <td>0</td>\n",
       "      <td>0</td>\n",
       "      <td>0</td>\n",
       "      <td>0</td>\n",
       "      <td>0</td>\n",
       "      <td>0</td>\n",
       "      <td>1</td>\n",
       "      <td>0</td>\n",
       "    </tr>\n",
       "  </tbody>\n",
       "</table>\n",
       "<p>2023 rows × 67 columns</p>\n",
       "</div>"
      ],
      "text/plain": [
       "            total_cases  new_cases  new_deaths  total_cases_per_million  \\\n",
       "date                                                                      \n",
       "2020-03-01          1.0        0.0         0.0                    0.086   \n",
       "2020-03-01         16.0        0.0         0.0                    0.248   \n",
       "2020-03-01          NaN        0.0         0.0                      NaN   \n",
       "2020-03-01          NaN        0.0         0.0                      NaN   \n",
       "2020-03-01         15.0        5.0         0.0                    1.587   \n",
       "...                 ...        ...         ...                      ...   \n",
       "2024-01-07    4848745.0        0.0         0.0               415989.793   \n",
       "2024-01-07  103436829.0        NaN         0.0               305763.910   \n",
       "2024-01-14          NaN        NaN         0.0                      NaN   \n",
       "2024-01-14          NaN        NaN         0.0                      NaN   \n",
       "2024-01-14          NaN        NaN         1.0                      NaN   \n",
       "\n",
       "            new_cases_per_million  icu_patients_per_million  \\\n",
       "date                                                          \n",
       "2020-03-01                  0.000                       NaN   \n",
       "2020-03-01                  0.000                       NaN   \n",
       "2020-03-01                  0.000                       NaN   \n",
       "2020-03-01                  0.000                     0.000   \n",
       "2020-03-01                  0.529                       NaN   \n",
       "...                           ...                       ...   \n",
       "2024-01-07                  0.000                       NaN   \n",
       "2024-01-07                    NaN                       NaN   \n",
       "2024-01-14                    NaN                       NaN   \n",
       "2024-01-14                    NaN                     2.287   \n",
       "2024-01-14                    NaN                     0.884   \n",
       "\n",
       "            hosp_patients_per_million  weekly_icu_admissions_per_million  \\\n",
       "date                                                                       \n",
       "2020-03-01                        NaN                                NaN   \n",
       "2020-03-01                        NaN                                NaN   \n",
       "2020-03-01                        NaN                              0.395   \n",
       "2020-03-01                        NaN                                NaN   \n",
       "2020-03-01                        NaN                                NaN   \n",
       "...                               ...                                ...   \n",
       "2024-01-07                        NaN                                NaN   \n",
       "2024-01-07                        NaN                                NaN   \n",
       "2024-01-14                        NaN                                NaN   \n",
       "2024-01-14                     22.870                                NaN   \n",
       "2024-01-14                     14.644                                NaN   \n",
       "\n",
       "            weekly_hosp_admissions_per_million  new_vaccinations  ...  \\\n",
       "date                                                              ...   \n",
       "2020-03-01                                 NaN               NaN  ...   \n",
       "2020-03-01                                 NaN               NaN  ...   \n",
       "2020-03-01                               2.372               NaN  ...   \n",
       "2020-03-01                                 NaN               NaN  ...   \n",
       "2020-03-01                                 NaN               NaN  ...   \n",
       "...                                        ...               ...  ...   \n",
       "2024-01-07                                 NaN               NaN  ...   \n",
       "2024-01-07                                 NaN               NaN  ...   \n",
       "2024-01-14                                 NaN               NaN  ...   \n",
       "2024-01-14                                 NaN               NaN  ...   \n",
       "2024-01-14                              34.946              55.0  ...   \n",
       "\n",
       "            location_Belgium  location_Chile  location_Czechia  \\\n",
       "date                                                             \n",
       "2020-03-01                 1               0                 0   \n",
       "2020-03-01                 0               0                 0   \n",
       "2020-03-01                 0               0                 0   \n",
       "2020-03-01                 0               0                 1   \n",
       "2020-03-01                 0               0                 0   \n",
       "...                      ...             ...               ...   \n",
       "2024-01-07                 1               0                 0   \n",
       "2024-01-07                 0               0                 0   \n",
       "2024-01-14                 0               0                 0   \n",
       "2024-01-14                 0               0                 1   \n",
       "2024-01-14                 0               0                 0   \n",
       "\n",
       "            location_Estonia  location_France  location_Ireland  \\\n",
       "date                                                              \n",
       "2020-03-01                 0                0                 0   \n",
       "2020-03-01                 0                1                 0   \n",
       "2020-03-01                 0                0                 1   \n",
       "2020-03-01                 0                0                 0   \n",
       "2020-03-01                 0                0                 0   \n",
       "...                      ...              ...               ...   \n",
       "2024-01-07                 0                0                 0   \n",
       "2024-01-07                 0                0                 0   \n",
       "2024-01-14                 1                0                 0   \n",
       "2024-01-14                 0                0                 0   \n",
       "2024-01-14                 0                0                 0   \n",
       "\n",
       "            location_Israel  location_Italy  location_Malaysia  \\\n",
       "date                                                             \n",
       "2020-03-01                0               0                  0   \n",
       "2020-03-01                0               0                  0   \n",
       "2020-03-01                0               0                  0   \n",
       "2020-03-01                0               0                  0   \n",
       "2020-03-01                1               0                  0   \n",
       "...                     ...             ...                ...   \n",
       "2024-01-07                0               0                  0   \n",
       "2024-01-07                0               0                  0   \n",
       "2024-01-14                0               0                  0   \n",
       "2024-01-14                0               0                  0   \n",
       "2024-01-14                0               0                  1   \n",
       "\n",
       "            location_United States  \n",
       "date                                \n",
       "2020-03-01                       0  \n",
       "2020-03-01                       0  \n",
       "2020-03-01                       0  \n",
       "2020-03-01                       0  \n",
       "2020-03-01                       0  \n",
       "...                            ...  \n",
       "2024-01-07                       0  \n",
       "2024-01-07                       1  \n",
       "2024-01-14                       0  \n",
       "2024-01-14                       0  \n",
       "2024-01-14                       0  \n",
       "\n",
       "[2023 rows x 67 columns]"
      ]
     },
     "execution_count": 61,
     "metadata": {},
     "output_type": "execute_result"
    }
   ],
   "source": [
    "df = pd.read_csv('multivar.csv')\n",
    "df = df.drop(columns=['iso_code'])\n",
    "df = df.drop('Unnamed: 0', axis=1)\n",
    "df = df.set_index('date')\n",
    "df.index = pd.to_datetime(df.index)\n",
    "categorical_cols = ['continent', 'tests_units', 'season', 'location']\n",
    "df = pd.get_dummies(df, columns=categorical_cols)\n",
    "df = df.sort_index()\n",
    "df"
   ]
  },
  {
   "cell_type": "code",
   "execution_count": 62,
   "metadata": {},
   "outputs": [],
   "source": [
    "def process(df):\n",
    "    lag1df = df.shift(1)\n",
    "    lag1df.columns = ['lag1_' + str(col) for col in lag1df.columns]\n",
    "    df=df[['new_deaths']].join(lag1df)\n",
    "    return df.fillna(0) \n",
    "def normalize(df):\n",
    "    for col in df.columns:\n",
    "        if col != 'new_deaths':\n",
    "            df[col]=(df[col]-df[col].mean())/df[col].std()\n",
    "    return df "
   ]
  },
  {
   "cell_type": "code",
   "execution_count": 63,
   "metadata": {},
   "outputs": [
    {
     "data": {
      "text/plain": [
       "(20209, 68)"
      ]
     },
     "execution_count": 63,
     "metadata": {},
     "output_type": "execute_result"
    }
   ],
   "source": [
    "df=process(df)\n",
    "df=normalize(df)\n",
    "df.shape"
   ]
  },
  {
   "cell_type": "code",
   "execution_count": 64,
   "metadata": {},
   "outputs": [
    {
     "data": {
      "text/html": [
       "<div>\n",
       "<style scoped>\n",
       "    .dataframe tbody tr th:only-of-type {\n",
       "        vertical-align: middle;\n",
       "    }\n",
       "\n",
       "    .dataframe tbody tr th {\n",
       "        vertical-align: top;\n",
       "    }\n",
       "\n",
       "    .dataframe thead th {\n",
       "        text-align: right;\n",
       "    }\n",
       "</style>\n",
       "<table border=\"1\" class=\"dataframe\">\n",
       "  <thead>\n",
       "    <tr style=\"text-align: right;\">\n",
       "      <th></th>\n",
       "      <th>new_deaths</th>\n",
       "      <th>lag1_total_cases</th>\n",
       "      <th>lag1_new_cases</th>\n",
       "      <th>lag1_new_deaths</th>\n",
       "      <th>lag1_total_cases_per_million</th>\n",
       "      <th>lag1_new_cases_per_million</th>\n",
       "      <th>lag1_icu_patients_per_million</th>\n",
       "      <th>lag1_hosp_patients_per_million</th>\n",
       "      <th>lag1_weekly_icu_admissions_per_million</th>\n",
       "      <th>lag1_weekly_hosp_admissions_per_million</th>\n",
       "      <th>...</th>\n",
       "      <th>lag1_location_Belgium</th>\n",
       "      <th>lag1_location_Chile</th>\n",
       "      <th>lag1_location_Czechia</th>\n",
       "      <th>lag1_location_Estonia</th>\n",
       "      <th>lag1_location_France</th>\n",
       "      <th>lag1_location_Ireland</th>\n",
       "      <th>lag1_location_Israel</th>\n",
       "      <th>lag1_location_Italy</th>\n",
       "      <th>lag1_location_Malaysia</th>\n",
       "      <th>lag1_location_United States</th>\n",
       "    </tr>\n",
       "    <tr>\n",
       "      <th>date</th>\n",
       "      <th></th>\n",
       "      <th></th>\n",
       "      <th></th>\n",
       "      <th></th>\n",
       "      <th></th>\n",
       "      <th></th>\n",
       "      <th></th>\n",
       "      <th></th>\n",
       "      <th></th>\n",
       "      <th></th>\n",
       "      <th></th>\n",
       "      <th></th>\n",
       "      <th></th>\n",
       "      <th></th>\n",
       "      <th></th>\n",
       "      <th></th>\n",
       "      <th></th>\n",
       "      <th></th>\n",
       "      <th></th>\n",
       "      <th></th>\n",
       "      <th></th>\n",
       "    </tr>\n",
       "  </thead>\n",
       "  <tbody>\n",
       "    <tr>\n",
       "      <th>2020-03-01</th>\n",
       "      <td>0.0</td>\n",
       "      <td>-0.481034</td>\n",
       "      <td>-0.312464</td>\n",
       "      <td>-0.347471</td>\n",
       "      <td>-1.173051</td>\n",
       "      <td>-0.474332</td>\n",
       "      <td>-0.622425</td>\n",
       "      <td>-0.800260</td>\n",
       "      <td>-0.495616</td>\n",
       "      <td>-0.837577</td>\n",
       "      <td>...</td>\n",
       "      <td>-0.333243</td>\n",
       "      <td>-0.333243</td>\n",
       "      <td>-0.333517</td>\n",
       "      <td>-0.333517</td>\n",
       "      <td>-0.333243</td>\n",
       "      <td>-0.333243</td>\n",
       "      <td>-0.333243</td>\n",
       "      <td>-0.333243</td>\n",
       "      <td>-0.333243</td>\n",
       "      <td>-0.332601</td>\n",
       "    </tr>\n",
       "    <tr>\n",
       "      <th>2020-03-01</th>\n",
       "      <td>0.0</td>\n",
       "      <td>-0.481034</td>\n",
       "      <td>-0.312464</td>\n",
       "      <td>-0.347471</td>\n",
       "      <td>-1.173050</td>\n",
       "      <td>-0.474332</td>\n",
       "      <td>-0.622425</td>\n",
       "      <td>-0.800260</td>\n",
       "      <td>-0.495616</td>\n",
       "      <td>-0.837577</td>\n",
       "      <td>...</td>\n",
       "      <td>3.000668</td>\n",
       "      <td>-0.333243</td>\n",
       "      <td>-0.333517</td>\n",
       "      <td>-0.333517</td>\n",
       "      <td>-0.333243</td>\n",
       "      <td>-0.333243</td>\n",
       "      <td>-0.333243</td>\n",
       "      <td>-0.333243</td>\n",
       "      <td>-0.333243</td>\n",
       "      <td>-0.332601</td>\n",
       "    </tr>\n",
       "    <tr>\n",
       "      <th>2020-03-01</th>\n",
       "      <td>0.0</td>\n",
       "      <td>-0.481033</td>\n",
       "      <td>-0.312464</td>\n",
       "      <td>-0.347471</td>\n",
       "      <td>-1.173049</td>\n",
       "      <td>-0.474332</td>\n",
       "      <td>-0.622425</td>\n",
       "      <td>-0.800260</td>\n",
       "      <td>-0.495616</td>\n",
       "      <td>-0.837577</td>\n",
       "      <td>...</td>\n",
       "      <td>-0.333243</td>\n",
       "      <td>-0.333243</td>\n",
       "      <td>-0.333517</td>\n",
       "      <td>-0.333517</td>\n",
       "      <td>3.000668</td>\n",
       "      <td>-0.333243</td>\n",
       "      <td>-0.333243</td>\n",
       "      <td>-0.333243</td>\n",
       "      <td>-0.333243</td>\n",
       "      <td>-0.332601</td>\n",
       "    </tr>\n",
       "    <tr>\n",
       "      <th>2020-03-01</th>\n",
       "      <td>0.0</td>\n",
       "      <td>-0.481034</td>\n",
       "      <td>-0.312464</td>\n",
       "      <td>-0.347471</td>\n",
       "      <td>-1.173051</td>\n",
       "      <td>-0.474332</td>\n",
       "      <td>-0.622425</td>\n",
       "      <td>-0.800260</td>\n",
       "      <td>-0.460201</td>\n",
       "      <td>-0.813365</td>\n",
       "      <td>...</td>\n",
       "      <td>-0.333243</td>\n",
       "      <td>-0.333243</td>\n",
       "      <td>-0.333517</td>\n",
       "      <td>-0.333517</td>\n",
       "      <td>-0.333243</td>\n",
       "      <td>3.000668</td>\n",
       "      <td>-0.333243</td>\n",
       "      <td>-0.333243</td>\n",
       "      <td>-0.333243</td>\n",
       "      <td>-0.332601</td>\n",
       "    </tr>\n",
       "    <tr>\n",
       "      <th>2020-03-01</th>\n",
       "      <td>0.0</td>\n",
       "      <td>-0.481034</td>\n",
       "      <td>-0.312464</td>\n",
       "      <td>-0.347471</td>\n",
       "      <td>-1.173051</td>\n",
       "      <td>-0.474332</td>\n",
       "      <td>-0.622425</td>\n",
       "      <td>-0.800260</td>\n",
       "      <td>-0.495616</td>\n",
       "      <td>-0.837577</td>\n",
       "      <td>...</td>\n",
       "      <td>-0.333243</td>\n",
       "      <td>-0.333243</td>\n",
       "      <td>2.998195</td>\n",
       "      <td>-0.333517</td>\n",
       "      <td>-0.333243</td>\n",
       "      <td>-0.333243</td>\n",
       "      <td>-0.333243</td>\n",
       "      <td>-0.333243</td>\n",
       "      <td>-0.333243</td>\n",
       "      <td>-0.332601</td>\n",
       "    </tr>\n",
       "    <tr>\n",
       "      <th>...</th>\n",
       "      <td>...</td>\n",
       "      <td>...</td>\n",
       "      <td>...</td>\n",
       "      <td>...</td>\n",
       "      <td>...</td>\n",
       "      <td>...</td>\n",
       "      <td>...</td>\n",
       "      <td>...</td>\n",
       "      <td>...</td>\n",
       "      <td>...</td>\n",
       "      <td>...</td>\n",
       "      <td>...</td>\n",
       "      <td>...</td>\n",
       "      <td>...</td>\n",
       "      <td>...</td>\n",
       "      <td>...</td>\n",
       "      <td>...</td>\n",
       "      <td>...</td>\n",
       "      <td>...</td>\n",
       "      <td>...</td>\n",
       "      <td>...</td>\n",
       "    </tr>\n",
       "    <tr>\n",
       "      <th>2024-01-14</th>\n",
       "      <td>0.0</td>\n",
       "      <td>-0.481034</td>\n",
       "      <td>-0.312464</td>\n",
       "      <td>-0.347471</td>\n",
       "      <td>-1.173051</td>\n",
       "      <td>-0.474332</td>\n",
       "      <td>-0.622425</td>\n",
       "      <td>-0.800260</td>\n",
       "      <td>-0.495616</td>\n",
       "      <td>-0.837577</td>\n",
       "      <td>...</td>\n",
       "      <td>-0.333243</td>\n",
       "      <td>-0.333243</td>\n",
       "      <td>-0.333517</td>\n",
       "      <td>2.998195</td>\n",
       "      <td>-0.333243</td>\n",
       "      <td>-0.333243</td>\n",
       "      <td>-0.333243</td>\n",
       "      <td>-0.333243</td>\n",
       "      <td>-0.333243</td>\n",
       "      <td>-0.332601</td>\n",
       "    </tr>\n",
       "    <tr>\n",
       "      <th>2024-01-14</th>\n",
       "      <td>0.0</td>\n",
       "      <td>-0.481034</td>\n",
       "      <td>-0.312464</td>\n",
       "      <td>-0.347471</td>\n",
       "      <td>-1.173051</td>\n",
       "      <td>-0.474332</td>\n",
       "      <td>-0.535633</td>\n",
       "      <td>-0.629399</td>\n",
       "      <td>-0.495616</td>\n",
       "      <td>-0.837577</td>\n",
       "      <td>...</td>\n",
       "      <td>-0.333243</td>\n",
       "      <td>-0.333243</td>\n",
       "      <td>2.998195</td>\n",
       "      <td>-0.333517</td>\n",
       "      <td>-0.333243</td>\n",
       "      <td>-0.333243</td>\n",
       "      <td>-0.333243</td>\n",
       "      <td>-0.333243</td>\n",
       "      <td>-0.333243</td>\n",
       "      <td>-0.332601</td>\n",
       "    </tr>\n",
       "    <tr>\n",
       "      <th>2024-01-14</th>\n",
       "      <td>1.0</td>\n",
       "      <td>4.188005</td>\n",
       "      <td>-0.312464</td>\n",
       "      <td>-0.347471</td>\n",
       "      <td>0.517916</td>\n",
       "      <td>-0.474332</td>\n",
       "      <td>-0.622425</td>\n",
       "      <td>-0.800260</td>\n",
       "      <td>-0.495616</td>\n",
       "      <td>-0.837577</td>\n",
       "      <td>...</td>\n",
       "      <td>-0.333243</td>\n",
       "      <td>-0.333243</td>\n",
       "      <td>-0.333517</td>\n",
       "      <td>-0.333517</td>\n",
       "      <td>-0.333243</td>\n",
       "      <td>-0.333243</td>\n",
       "      <td>-0.333243</td>\n",
       "      <td>-0.333243</td>\n",
       "      <td>-0.333243</td>\n",
       "      <td>3.006459</td>\n",
       "    </tr>\n",
       "    <tr>\n",
       "      <th>2024-01-14</th>\n",
       "      <td>1.0</td>\n",
       "      <td>-0.481034</td>\n",
       "      <td>-0.312464</td>\n",
       "      <td>-0.347471</td>\n",
       "      <td>-1.173051</td>\n",
       "      <td>-0.474332</td>\n",
       "      <td>-0.622425</td>\n",
       "      <td>-0.800260</td>\n",
       "      <td>-0.495616</td>\n",
       "      <td>-0.837577</td>\n",
       "      <td>...</td>\n",
       "      <td>-0.333243</td>\n",
       "      <td>-0.333243</td>\n",
       "      <td>-0.333517</td>\n",
       "      <td>2.998195</td>\n",
       "      <td>-0.333243</td>\n",
       "      <td>-0.333243</td>\n",
       "      <td>-0.333243</td>\n",
       "      <td>-0.333243</td>\n",
       "      <td>-0.333243</td>\n",
       "      <td>-0.332601</td>\n",
       "    </tr>\n",
       "    <tr>\n",
       "      <th>2024-01-14</th>\n",
       "      <td>1.0</td>\n",
       "      <td>-0.481034</td>\n",
       "      <td>-0.312464</td>\n",
       "      <td>-0.347471</td>\n",
       "      <td>-1.173051</td>\n",
       "      <td>-0.474332</td>\n",
       "      <td>-0.535633</td>\n",
       "      <td>-0.629399</td>\n",
       "      <td>-0.495616</td>\n",
       "      <td>-0.837577</td>\n",
       "      <td>...</td>\n",
       "      <td>-0.333243</td>\n",
       "      <td>-0.333243</td>\n",
       "      <td>2.998195</td>\n",
       "      <td>-0.333517</td>\n",
       "      <td>-0.333243</td>\n",
       "      <td>-0.333243</td>\n",
       "      <td>-0.333243</td>\n",
       "      <td>-0.333243</td>\n",
       "      <td>-0.333243</td>\n",
       "      <td>-0.332601</td>\n",
       "    </tr>\n",
       "  </tbody>\n",
       "</table>\n",
       "<p>20209 rows × 68 columns</p>\n",
       "</div>"
      ],
      "text/plain": [
       "            new_deaths  lag1_total_cases  lag1_new_cases  lag1_new_deaths  \\\n",
       "date                                                                        \n",
       "2020-03-01         0.0         -0.481034       -0.312464        -0.347471   \n",
       "2020-03-01         0.0         -0.481034       -0.312464        -0.347471   \n",
       "2020-03-01         0.0         -0.481033       -0.312464        -0.347471   \n",
       "2020-03-01         0.0         -0.481034       -0.312464        -0.347471   \n",
       "2020-03-01         0.0         -0.481034       -0.312464        -0.347471   \n",
       "...                ...               ...             ...              ...   \n",
       "2024-01-14         0.0         -0.481034       -0.312464        -0.347471   \n",
       "2024-01-14         0.0         -0.481034       -0.312464        -0.347471   \n",
       "2024-01-14         1.0          4.188005       -0.312464        -0.347471   \n",
       "2024-01-14         1.0         -0.481034       -0.312464        -0.347471   \n",
       "2024-01-14         1.0         -0.481034       -0.312464        -0.347471   \n",
       "\n",
       "            lag1_total_cases_per_million  lag1_new_cases_per_million  \\\n",
       "date                                                                   \n",
       "2020-03-01                     -1.173051                   -0.474332   \n",
       "2020-03-01                     -1.173050                   -0.474332   \n",
       "2020-03-01                     -1.173049                   -0.474332   \n",
       "2020-03-01                     -1.173051                   -0.474332   \n",
       "2020-03-01                     -1.173051                   -0.474332   \n",
       "...                                  ...                         ...   \n",
       "2024-01-14                     -1.173051                   -0.474332   \n",
       "2024-01-14                     -1.173051                   -0.474332   \n",
       "2024-01-14                      0.517916                   -0.474332   \n",
       "2024-01-14                     -1.173051                   -0.474332   \n",
       "2024-01-14                     -1.173051                   -0.474332   \n",
       "\n",
       "            lag1_icu_patients_per_million  lag1_hosp_patients_per_million  \\\n",
       "date                                                                        \n",
       "2020-03-01                      -0.622425                       -0.800260   \n",
       "2020-03-01                      -0.622425                       -0.800260   \n",
       "2020-03-01                      -0.622425                       -0.800260   \n",
       "2020-03-01                      -0.622425                       -0.800260   \n",
       "2020-03-01                      -0.622425                       -0.800260   \n",
       "...                                   ...                             ...   \n",
       "2024-01-14                      -0.622425                       -0.800260   \n",
       "2024-01-14                      -0.535633                       -0.629399   \n",
       "2024-01-14                      -0.622425                       -0.800260   \n",
       "2024-01-14                      -0.622425                       -0.800260   \n",
       "2024-01-14                      -0.535633                       -0.629399   \n",
       "\n",
       "            lag1_weekly_icu_admissions_per_million  \\\n",
       "date                                                 \n",
       "2020-03-01                               -0.495616   \n",
       "2020-03-01                               -0.495616   \n",
       "2020-03-01                               -0.495616   \n",
       "2020-03-01                               -0.460201   \n",
       "2020-03-01                               -0.495616   \n",
       "...                                            ...   \n",
       "2024-01-14                               -0.495616   \n",
       "2024-01-14                               -0.495616   \n",
       "2024-01-14                               -0.495616   \n",
       "2024-01-14                               -0.495616   \n",
       "2024-01-14                               -0.495616   \n",
       "\n",
       "            lag1_weekly_hosp_admissions_per_million  ...  \\\n",
       "date                                                 ...   \n",
       "2020-03-01                                -0.837577  ...   \n",
       "2020-03-01                                -0.837577  ...   \n",
       "2020-03-01                                -0.837577  ...   \n",
       "2020-03-01                                -0.813365  ...   \n",
       "2020-03-01                                -0.837577  ...   \n",
       "...                                             ...  ...   \n",
       "2024-01-14                                -0.837577  ...   \n",
       "2024-01-14                                -0.837577  ...   \n",
       "2024-01-14                                -0.837577  ...   \n",
       "2024-01-14                                -0.837577  ...   \n",
       "2024-01-14                                -0.837577  ...   \n",
       "\n",
       "            lag1_location_Belgium  lag1_location_Chile  lag1_location_Czechia  \\\n",
       "date                                                                            \n",
       "2020-03-01              -0.333243            -0.333243              -0.333517   \n",
       "2020-03-01               3.000668            -0.333243              -0.333517   \n",
       "2020-03-01              -0.333243            -0.333243              -0.333517   \n",
       "2020-03-01              -0.333243            -0.333243              -0.333517   \n",
       "2020-03-01              -0.333243            -0.333243               2.998195   \n",
       "...                           ...                  ...                    ...   \n",
       "2024-01-14              -0.333243            -0.333243              -0.333517   \n",
       "2024-01-14              -0.333243            -0.333243               2.998195   \n",
       "2024-01-14              -0.333243            -0.333243              -0.333517   \n",
       "2024-01-14              -0.333243            -0.333243              -0.333517   \n",
       "2024-01-14              -0.333243            -0.333243               2.998195   \n",
       "\n",
       "            lag1_location_Estonia  lag1_location_France  \\\n",
       "date                                                      \n",
       "2020-03-01              -0.333517             -0.333243   \n",
       "2020-03-01              -0.333517             -0.333243   \n",
       "2020-03-01              -0.333517              3.000668   \n",
       "2020-03-01              -0.333517             -0.333243   \n",
       "2020-03-01              -0.333517             -0.333243   \n",
       "...                           ...                   ...   \n",
       "2024-01-14               2.998195             -0.333243   \n",
       "2024-01-14              -0.333517             -0.333243   \n",
       "2024-01-14              -0.333517             -0.333243   \n",
       "2024-01-14               2.998195             -0.333243   \n",
       "2024-01-14              -0.333517             -0.333243   \n",
       "\n",
       "            lag1_location_Ireland  lag1_location_Israel  lag1_location_Italy  \\\n",
       "date                                                                           \n",
       "2020-03-01              -0.333243             -0.333243            -0.333243   \n",
       "2020-03-01              -0.333243             -0.333243            -0.333243   \n",
       "2020-03-01              -0.333243             -0.333243            -0.333243   \n",
       "2020-03-01               3.000668             -0.333243            -0.333243   \n",
       "2020-03-01              -0.333243             -0.333243            -0.333243   \n",
       "...                           ...                   ...                  ...   \n",
       "2024-01-14              -0.333243             -0.333243            -0.333243   \n",
       "2024-01-14              -0.333243             -0.333243            -0.333243   \n",
       "2024-01-14              -0.333243             -0.333243            -0.333243   \n",
       "2024-01-14              -0.333243             -0.333243            -0.333243   \n",
       "2024-01-14              -0.333243             -0.333243            -0.333243   \n",
       "\n",
       "            lag1_location_Malaysia  lag1_location_United States  \n",
       "date                                                             \n",
       "2020-03-01               -0.333243                    -0.332601  \n",
       "2020-03-01               -0.333243                    -0.332601  \n",
       "2020-03-01               -0.333243                    -0.332601  \n",
       "2020-03-01               -0.333243                    -0.332601  \n",
       "2020-03-01               -0.333243                    -0.332601  \n",
       "...                            ...                          ...  \n",
       "2024-01-14               -0.333243                    -0.332601  \n",
       "2024-01-14               -0.333243                    -0.332601  \n",
       "2024-01-14               -0.333243                     3.006459  \n",
       "2024-01-14               -0.333243                    -0.332601  \n",
       "2024-01-14               -0.333243                    -0.332601  \n",
       "\n",
       "[20209 rows x 68 columns]"
      ]
     },
     "execution_count": 64,
     "metadata": {},
     "output_type": "execute_result"
    }
   ],
   "source": [
    "df"
   ]
  },
  {
   "cell_type": "code",
   "execution_count": 65,
   "metadata": {},
   "outputs": [
    {
     "name": "stdout",
     "output_type": "stream",
     "text": [
      "2020-03-01 00:00:00 () (13, 67)\n"
     ]
    }
   ],
   "source": [
    "def make_series(data):\n",
    "    series=[]\n",
    "    for i in range(len(data)-13):\n",
    "        subdf=data[i:i+13]\n",
    "        series.append( (subdf.index[-1], subdf['new_deaths'].values[-1], subdf.drop('new_deaths', axis=1).values))\n",
    "    return series\n",
    "series=make_series(df)\n",
    "print(series[0][0],series[0][1].shape,series[0][2].shape)\n",
    "train_size = int(len(series) * 0.7)\n",
    "train, test = series[0:train_size], series[train_size:]\n",
    "#train=series[:-30]\n",
    "#test=series[-30:]"
   ]
  },
  {
   "cell_type": "markdown",
   "metadata": {},
   "source": [
    "# Attempt 1"
   ]
  },
  {
   "cell_type": "markdown",
   "metadata": {},
   "source": [
    "## Training"
   ]
  },
  {
   "cell_type": "code",
   "execution_count": 66,
   "metadata": {},
   "outputs": [],
   "source": [
    "learning_rate = 0.01\n",
    "batch_size = 32\n",
    "epochs = 100\n",
    "sequence_length =13"
   ]
  },
  {
   "cell_type": "code",
   "execution_count": 67,
   "metadata": {},
   "outputs": [
    {
     "name": "stdout",
     "output_type": "stream",
     "text": [
      "Model: \"model_1\"\n",
      "_________________________________________________________________\n",
      " Layer (type)                Output Shape              Param #   \n",
      "=================================================================\n",
      " input_2 (InputLayer)        [(None, 13, 67)]          0         \n",
      "                                                                 \n",
      " lstm_1 (LSTM)               (None, 32)                12800     \n",
      "                                                                 \n",
      " dense_1 (Dense)             (None, 1)                 33        \n",
      "                                                                 \n",
      "=================================================================\n",
      "Total params: 12,833\n",
      "Trainable params: 12,833\n",
      "Non-trainable params: 0\n",
      "_________________________________________________________________\n"
     ]
    }
   ],
   "source": [
    "inputs = keras.layers.Input(shape=(13,67))\n",
    "lstm_out = keras.layers.LSTM(32)(inputs)\n",
    "outputs = keras.layers.Dense(1)(lstm_out)\n",
    "\n",
    "model = keras.Model(inputs=inputs, outputs=outputs)\n",
    "model.compile(optimizer=keras.optimizers.Adam(learning_rate=learning_rate), loss=\"mae\")\n",
    "model.summary()"
   ]
  },
  {
   "cell_type": "code",
   "execution_count": 68,
   "metadata": {},
   "outputs": [
    {
     "name": "stdout",
     "output_type": "stream",
     "text": [
      "(14137, 13, 67)\n",
      "(14137,)\n",
      "Epoch 1/100\n",
      "442/442 [==============================] - 11s 15ms/step - loss: 1100.5460\n",
      "Epoch 2/100\n",
      "442/442 [==============================] - 6s 14ms/step - loss: 1086.6292\n",
      "Epoch 3/100\n",
      "442/442 [==============================] - 6s 15ms/step - loss: 1080.3192\n",
      "Epoch 4/100\n",
      "442/442 [==============================] - 7s 16ms/step - loss: 1076.9569\n",
      "Epoch 5/100\n",
      "442/442 [==============================] - 8s 17ms/step - loss: 1074.8644\n",
      "Epoch 6/100\n",
      "442/442 [==============================] - 9s 21ms/step - loss: 1073.5190\n",
      "Epoch 7/100\n",
      "442/442 [==============================] - 9s 21ms/step - loss: 1072.6046\n",
      "Epoch 8/100\n",
      "442/442 [==============================] - 10s 22ms/step - loss: 1072.4180\n",
      "Epoch 9/100\n",
      "442/442 [==============================] - 9s 21ms/step - loss: 1071.6656\n",
      "Epoch 10/100\n",
      "442/442 [==============================] - 9s 20ms/step - loss: 1071.6322\n",
      "Epoch 11/100\n",
      "442/442 [==============================] - 9s 20ms/step - loss: 1071.1869\n",
      "Epoch 12/100\n",
      "442/442 [==============================] - 9s 19ms/step - loss: 1071.2146\n",
      "Epoch 13/100\n",
      "442/442 [==============================] - 7s 16ms/step - loss: 1070.9285\n",
      "Epoch 14/100\n",
      "442/442 [==============================] - 7s 16ms/step - loss: 1070.7261\n",
      "Epoch 15/100\n",
      "442/442 [==============================] - 7s 15ms/step - loss: 1070.6283\n",
      "Epoch 16/100\n",
      "442/442 [==============================] - 8s 18ms/step - loss: 1070.2682\n",
      "Epoch 17/100\n",
      "442/442 [==============================] - 9s 21ms/step - loss: 1070.1289\n",
      "Epoch 18/100\n",
      "442/442 [==============================] - 6s 14ms/step - loss: 1069.4471\n",
      "Epoch 19/100\n",
      "442/442 [==============================] - 6s 14ms/step - loss: 1070.3833\n",
      "Epoch 20/100\n",
      "442/442 [==============================] - 6s 14ms/step - loss: 1070.2761\n",
      "Epoch 21/100\n",
      "442/442 [==============================] - 8s 17ms/step - loss: 1070.1497\n",
      "Epoch 22/100\n",
      "442/442 [==============================] - 8s 17ms/step - loss: 1070.1232\n",
      "Epoch 23/100\n",
      "442/442 [==============================] - 8s 18ms/step - loss: 1070.1938\n",
      "Epoch 24/100\n",
      "442/442 [==============================] - 8s 18ms/step - loss: 1069.6534\n",
      "Epoch 25/100\n",
      "442/442 [==============================] - 8s 18ms/step - loss: 1069.4318\n",
      "Epoch 26/100\n",
      "442/442 [==============================] - 9s 20ms/step - loss: 1069.3989\n",
      "Epoch 27/100\n",
      "442/442 [==============================] - 8s 18ms/step - loss: 1068.8820\n",
      "Epoch 28/100\n",
      "442/442 [==============================] - 8s 18ms/step - loss: 1069.1832\n",
      "Epoch 29/100\n",
      "442/442 [==============================] - 8s 17ms/step - loss: 1068.5544\n",
      "Epoch 30/100\n",
      "442/442 [==============================] - 8s 17ms/step - loss: 1068.9467\n",
      "Epoch 31/100\n",
      "442/442 [==============================] - 8s 18ms/step - loss: 1069.1307\n",
      "Epoch 32/100\n",
      "442/442 [==============================] - 7s 17ms/step - loss: 1068.9104\n",
      "Epoch 33/100\n",
      "442/442 [==============================] - 8s 18ms/step - loss: 1069.4518\n",
      "Epoch 34/100\n",
      "442/442 [==============================] - 8s 17ms/step - loss: 1068.6691\n",
      "Epoch 35/100\n",
      "442/442 [==============================] - 7s 17ms/step - loss: 1069.0697\n",
      "Epoch 36/100\n",
      "442/442 [==============================] - 7s 17ms/step - loss: 1068.3754\n",
      "Epoch 37/100\n",
      "442/442 [==============================] - 7s 16ms/step - loss: 1068.5990\n",
      "Epoch 38/100\n",
      "442/442 [==============================] - 8s 17ms/step - loss: 1068.6268\n",
      "Epoch 39/100\n",
      "442/442 [==============================] - 7s 16ms/step - loss: 1068.3573\n",
      "Epoch 40/100\n",
      "442/442 [==============================] - 7s 16ms/step - loss: 1068.3508\n",
      "Epoch 41/100\n",
      "442/442 [==============================] - 7s 16ms/step - loss: 1068.5349\n",
      "Epoch 42/100\n",
      "442/442 [==============================] - 7s 16ms/step - loss: 1068.5676\n",
      "Epoch 43/100\n",
      "442/442 [==============================] - 7s 16ms/step - loss: 1068.5703\n",
      "Epoch 44/100\n",
      "442/442 [==============================] - 7s 16ms/step - loss: 1069.1066\n",
      "Epoch 45/100\n",
      "442/442 [==============================] - 7s 16ms/step - loss: 1068.8605\n",
      "Epoch 46/100\n",
      "442/442 [==============================] - 7s 16ms/step - loss: 1068.0522\n",
      "Epoch 47/100\n",
      "442/442 [==============================] - 7s 16ms/step - loss: 1067.8828\n",
      "Epoch 48/100\n",
      "442/442 [==============================] - 7s 17ms/step - loss: 1068.0809\n",
      "Epoch 49/100\n",
      "442/442 [==============================] - 7s 16ms/step - loss: 1068.2104\n",
      "Epoch 50/100\n",
      "442/442 [==============================] - 7s 16ms/step - loss: 1068.1129\n",
      "Epoch 51/100\n",
      "442/442 [==============================] - 7s 16ms/step - loss: 1067.7460\n",
      "Epoch 52/100\n",
      "442/442 [==============================] - 7s 16ms/step - loss: 1068.6215\n",
      "Epoch 53/100\n",
      "442/442 [==============================] - 7s 17ms/step - loss: 1068.9386\n",
      "Epoch 54/100\n",
      "442/442 [==============================] - 7s 16ms/step - loss: 1068.2271\n",
      "Epoch 55/100\n",
      "442/442 [==============================] - 7s 16ms/step - loss: 1068.4714\n",
      "Epoch 56/100\n",
      "442/442 [==============================] - 7s 16ms/step - loss: 1068.2183\n",
      "Epoch 57/100\n",
      "442/442 [==============================] - 7s 15ms/step - loss: 1067.5730\n",
      "Epoch 58/100\n",
      "442/442 [==============================] - 7s 15ms/step - loss: 1067.0591\n",
      "Epoch 59/100\n",
      "442/442 [==============================] - 8s 18ms/step - loss: 1067.2913\n",
      "Epoch 60/100\n",
      "442/442 [==============================] - 6s 15ms/step - loss: 1067.7220\n",
      "Epoch 61/100\n",
      "442/442 [==============================] - 7s 15ms/step - loss: 1068.2454\n",
      "Epoch 62/100\n",
      "442/442 [==============================] - 7s 16ms/step - loss: 1067.7316\n",
      "Epoch 63/100\n",
      "442/442 [==============================] - 5s 11ms/step - loss: 1067.7017\n",
      "Epoch 64/100\n",
      "442/442 [==============================] - 5s 11ms/step - loss: 1067.6691\n",
      "Epoch 65/100\n",
      "442/442 [==============================] - 4s 9ms/step - loss: 1067.5599\n",
      "Epoch 66/100\n",
      "442/442 [==============================] - 5s 12ms/step - loss: 1066.9242\n",
      "Epoch 67/100\n",
      "442/442 [==============================] - 5s 12ms/step - loss: 1067.0144\n",
      "Epoch 68/100\n",
      "442/442 [==============================] - 7s 16ms/step - loss: 1067.1106\n",
      "Epoch 69/100\n",
      "442/442 [==============================] - 7s 15ms/step - loss: 1067.4331\n",
      "Epoch 70/100\n",
      "442/442 [==============================] - 6s 14ms/step - loss: 1067.5630\n",
      "Epoch 71/100\n",
      "442/442 [==============================] - 7s 17ms/step - loss: 1068.2522\n",
      "Epoch 72/100\n",
      "442/442 [==============================] - 7s 17ms/step - loss: 1067.2729\n",
      "Epoch 73/100\n",
      "442/442 [==============================] - 8s 17ms/step - loss: 1067.1664\n",
      "Epoch 74/100\n",
      "442/442 [==============================] - 8s 17ms/step - loss: 1066.8967\n",
      "Epoch 75/100\n",
      "442/442 [==============================] - 6s 13ms/step - loss: 1066.7821\n",
      "Epoch 76/100\n",
      "442/442 [==============================] - 5s 12ms/step - loss: 1067.2869\n",
      "Epoch 77/100\n",
      "442/442 [==============================] - 6s 14ms/step - loss: 1067.5099\n",
      "Epoch 78/100\n",
      "442/442 [==============================] - 7s 16ms/step - loss: 1066.9089\n",
      "Epoch 79/100\n",
      "442/442 [==============================] - 6s 14ms/step - loss: 1066.8962\n",
      "Epoch 80/100\n",
      "442/442 [==============================] - 6s 15ms/step - loss: 1066.9760\n",
      "Epoch 81/100\n",
      "442/442 [==============================] - 5s 11ms/step - loss: 1067.2277\n",
      "Epoch 82/100\n",
      "442/442 [==============================] - 5s 10ms/step - loss: 1066.6920\n",
      "Epoch 83/100\n",
      "442/442 [==============================] - 5s 12ms/step - loss: 1067.1864\n",
      "Epoch 84/100\n",
      "442/442 [==============================] - 6s 13ms/step - loss: 1067.3718\n",
      "Epoch 85/100\n",
      "442/442 [==============================] - 6s 14ms/step - loss: 1067.9500\n",
      "Epoch 86/100\n",
      "442/442 [==============================] - 5s 12ms/step - loss: 1067.7625\n",
      "Epoch 87/100\n",
      "442/442 [==============================] - 6s 13ms/step - loss: 1066.8444\n",
      "Epoch 88/100\n",
      "442/442 [==============================] - 6s 15ms/step - loss: 1067.3132\n",
      "Epoch 89/100\n",
      "442/442 [==============================] - 6s 13ms/step - loss: 1067.7239\n",
      "Epoch 90/100\n",
      "442/442 [==============================] - 6s 15ms/step - loss: 1068.0266\n",
      "Epoch 91/100\n",
      "442/442 [==============================] - 7s 16ms/step - loss: 1067.1561\n",
      "Epoch 92/100\n",
      "442/442 [==============================] - 8s 17ms/step - loss: 1067.0868\n",
      "Epoch 93/100\n",
      "442/442 [==============================] - 8s 19ms/step - loss: 1067.2031\n",
      "Epoch 94/100\n",
      "442/442 [==============================] - 8s 19ms/step - loss: 1067.1273\n",
      "Epoch 95/100\n",
      "442/442 [==============================] - 8s 18ms/step - loss: 1067.3096\n",
      "Epoch 96/100\n",
      "442/442 [==============================] - 7s 17ms/step - loss: 1066.6500\n",
      "Epoch 97/100\n",
      "442/442 [==============================] - 6s 14ms/step - loss: 1066.4305\n",
      "Epoch 98/100\n",
      "442/442 [==============================] - 6s 13ms/step - loss: 1066.3147\n",
      "Epoch 99/100\n",
      "442/442 [==============================] - 6s 13ms/step - loss: 1066.2200\n",
      "Epoch 100/100\n",
      "442/442 [==============================] - 7s 16ms/step - loss: 1066.3744\n"
     ]
    }
   ],
   "source": [
    "x=np.array([x[2].reshape(13,67) for x in train])\n",
    "y=np.array([x[1] for x in train])\n",
    "print(x.shape)\n",
    "print(y.shape)\n",
    "history = model.fit(\n",
    "    x=x,y=y,\n",
    "    epochs=epochs,\n",
    "    batch_size=batch_size,\n",
    "    shuffle=True,\n",
    ")"
   ]
  },
  {
   "cell_type": "markdown",
   "metadata": {},
   "source": [
    "## Testing"
   ]
  },
  {
   "cell_type": "code",
   "execution_count": 69,
   "metadata": {},
   "outputs": [
    {
     "name": "stdout",
     "output_type": "stream",
     "text": [
      "442/442 [==============================] - 4s 6ms/step\n"
     ]
    },
    {
     "data": {
      "text/html": [
       "<div>\n",
       "<style scoped>\n",
       "    .dataframe tbody tr th:only-of-type {\n",
       "        vertical-align: middle;\n",
       "    }\n",
       "\n",
       "    .dataframe tbody tr th {\n",
       "        vertical-align: top;\n",
       "    }\n",
       "\n",
       "    .dataframe thead th {\n",
       "        text-align: right;\n",
       "    }\n",
       "</style>\n",
       "<table border=\"1\" class=\"dataframe\">\n",
       "  <thead>\n",
       "    <tr style=\"text-align: right;\">\n",
       "      <th></th>\n",
       "      <th>yhat</th>\n",
       "    </tr>\n",
       "  </thead>\n",
       "  <tbody>\n",
       "    <tr>\n",
       "      <th>2020-03-01</th>\n",
       "      <td>0.634449</td>\n",
       "    </tr>\n",
       "    <tr>\n",
       "      <th>2020-03-01</th>\n",
       "      <td>0.463202</td>\n",
       "    </tr>\n",
       "    <tr>\n",
       "      <th>2020-03-01</th>\n",
       "      <td>8.348485</td>\n",
       "    </tr>\n",
       "    <tr>\n",
       "      <th>2020-03-01</th>\n",
       "      <td>0.711205</td>\n",
       "    </tr>\n",
       "    <tr>\n",
       "      <th>2020-03-01</th>\n",
       "      <td>-1.823128</td>\n",
       "    </tr>\n",
       "  </tbody>\n",
       "</table>\n",
       "</div>"
      ],
      "text/plain": [
       "                yhat\n",
       "2020-03-01  0.634449\n",
       "2020-03-01  0.463202\n",
       "2020-03-01  8.348485\n",
       "2020-03-01  0.711205\n",
       "2020-03-01 -1.823128"
      ]
     },
     "execution_count": 69,
     "metadata": {},
     "output_type": "execute_result"
    }
   ],
   "source": [
    "train_pred=pd.DataFrame(model.predict(x), columns=['yhat'], index=[x[0] for x in train ])\n",
    "train_pred.head()"
   ]
  },
  {
   "cell_type": "code",
   "execution_count": 70,
   "metadata": {},
   "outputs": [
    {
     "data": {
      "text/plain": [
       "<matplotlib.legend.Legend at 0x7fb5578f3d60>"
      ]
     },
     "execution_count": 70,
     "metadata": {},
     "output_type": "execute_result"
    },
    {
     "data": {
      "image/png": "[encoded data removed]",
      "text/plain": [
       "<Figure size 1440x720 with 1 Axes>"
      ]
     },
     "metadata": {
      "needs_background": "light"
     },
     "output_type": "display_data"
    }
   ],
   "source": [
    "train_gt= pd.DataFrame(y, columns=['y'], index=[x[0] for x in train ])\n",
    "pd.concat([train_gt, train_pred], axis=1).plot(figsize=(20,10))\n",
    "plt.legend(['train_gt', 'train_pred'])"
   ]
  },
  {
   "cell_type": "code",
   "execution_count": 71,
   "metadata": {},
   "outputs": [
    {
     "name": "stdout",
     "output_type": "stream",
     "text": [
      "190/190 [==============================] - 1s 5ms/step\n"
     ]
    },
    {
     "data": {
      "text/plain": [
       "<matplotlib.legend.Legend at 0x7fb568a9c250>"
      ]
     },
     "execution_count": 71,
     "metadata": {},
     "output_type": "execute_result"
    },
    {
     "data": {
      "image/png": "[encoded data removed]",
      "text/plain": [
       "<Figure size 432x288 with 1 Axes>"
      ]
     },
     "metadata": {
      "needs_background": "light"
     },
     "output_type": "display_data"
    }
   ],
   "source": [
    "test_pred=model.predict(np.array([x[2].reshape(13, 67) for x in test]))\n",
    "test_pred=pd.DataFrame(test_pred, columns=['yhat'], index=[x[0] for x in test ])\n",
    "test_gt=pd.DataFrame([x[1] for x in test], columns=['y'], index=[x[0] for x in test ])\n",
    "pd.concat([test_gt, test_pred], axis=1).plot()\n",
    "plt.legend(['test_gt', 'test_pred'])"
   ]
  },
  {
   "cell_type": "markdown",
   "metadata": {},
   "source": [
    "## Metrics"
   ]
  },
  {
   "cell_type": "code",
   "execution_count": 64,
   "metadata": {},
   "outputs": [],
   "source": [
    "y_train_values = [x[1] for x in train]\n",
    "y_train = pd.DataFrame(y_train_values, columns=['y'], index=[x[0] for x in train])"
   ]
  },
  {
   "cell_type": "code",
   "execution_count": 65,
   "metadata": {},
   "outputs": [],
   "source": [
    "mae = mean_absolute_error(test_gt, test_pred)\n",
    "mase = MeanAbsoluteScaledError(sp = 13)\n",
    "mase = mase(test_gt, test_pred, y_train = y_train)\n",
    "r2 = r2_score(test_gt, test_pred)\n",
    "new_row = {'model': '1', 'mae': mae, 'mase': mase, 'rsq': r2}\n",
    "metrics = metrics.append(new_row, ignore_index=True)"
   ]
  },
  {
   "cell_type": "markdown",
   "metadata": {},
   "source": [
    "# Attempt 2"
   ]
  },
  {
   "cell_type": "markdown",
   "metadata": {},
   "source": [
    "## Training"
   ]
  },
  {
   "cell_type": "code",
   "execution_count": 66,
   "metadata": {},
   "outputs": [],
   "source": [
    "learning_rate = 0.001\n",
    "batch_size = 16\n",
    "epochs = 50\n",
    "sequence_length =13"
   ]
  },
  {
   "cell_type": "code",
   "execution_count": 67,
   "metadata": {},
   "outputs": [
    {
     "name": "stdout",
     "output_type": "stream",
     "text": [
      "Model: \"model_6\"\n",
      "_________________________________________________________________\n",
      " Layer (type)                Output Shape              Param #   \n",
      "=================================================================\n",
      " input_7 (InputLayer)        [(None, 13, 67)]          0         \n",
      "                                                                 \n",
      " lstm_6 (LSTM)               (None, 32)                12800     \n",
      "                                                                 \n",
      " dense_6 (Dense)             (None, 1)                 33        \n",
      "                                                                 \n",
      "=================================================================\n",
      "Total params: 12,833\n",
      "Trainable params: 12,833\n",
      "Non-trainable params: 0\n",
      "_________________________________________________________________\n"
     ]
    }
   ],
   "source": [
    "inputs = keras.layers.Input(shape=(13,67))\n",
    "lstm_out = keras.layers.LSTM(32)(inputs)\n",
    "outputs = keras.layers.Dense(1)(lstm_out)\n",
    "\n",
    "model = keras.Model(inputs=inputs, outputs=outputs)\n",
    "model.compile(optimizer=keras.optimizers.Adam(learning_rate=learning_rate), loss=\"mae\")\n",
    "model.summary()"
   ]
  },
  {
   "cell_type": "code",
   "execution_count": 68,
   "metadata": {},
   "outputs": [
    {
     "name": "stdout",
     "output_type": "stream",
     "text": [
      "(14137, 13, 67)\n",
      "(14137,)\n",
      "Epoch 1/50\n",
      "884/884 [==============================] - 15s 12ms/step - loss: 1115.3638\n",
      "Epoch 2/50\n",
      "884/884 [==============================] - 11s 13ms/step - loss: 1103.3679\n",
      "Epoch 3/50\n",
      "884/884 [==============================] - 12s 13ms/step - loss: 1097.5032\n",
      "Epoch 4/50\n",
      "884/884 [==============================] - 12s 13ms/step - loss: 1093.9691\n",
      "Epoch 5/50\n",
      "884/884 [==============================] - 12s 13ms/step - loss: 1090.7589\n",
      "Epoch 6/50\n",
      "884/884 [==============================] - 13s 15ms/step - loss: 1088.0253\n",
      "Epoch 7/50\n",
      "884/884 [==============================] - 11s 13ms/step - loss: 1085.6349\n",
      "Epoch 8/50\n",
      "884/884 [==============================] - 12s 13ms/step - loss: 1083.3977\n",
      "Epoch 9/50\n",
      "884/884 [==============================] - 13s 15ms/step - loss: 1081.5402\n",
      "Epoch 10/50\n",
      "884/884 [==============================] - 11s 13ms/step - loss: 1079.9910\n",
      "Epoch 11/50\n",
      "884/884 [==============================] - 11s 12ms/step - loss: 1078.5734\n",
      "Epoch 12/50\n",
      "884/884 [==============================] - 11s 12ms/step - loss: 1077.3713\n",
      "Epoch 13/50\n",
      "884/884 [==============================] - 11s 13ms/step - loss: 1076.5035\n",
      "Epoch 14/50\n",
      "884/884 [==============================] - 11s 12ms/step - loss: 1075.7026\n",
      "Epoch 15/50\n",
      "884/884 [==============================] - 11s 12ms/step - loss: 1074.8149\n",
      "Epoch 16/50\n",
      "884/884 [==============================] - 12s 13ms/step - loss: 1074.2223\n",
      "Epoch 17/50\n",
      "884/884 [==============================] - 11s 12ms/step - loss: 1073.6465\n",
      "Epoch 18/50\n",
      "884/884 [==============================] - 10s 11ms/step - loss: 1072.9843\n",
      "Epoch 19/50\n",
      "884/884 [==============================] - 10s 12ms/step - loss: 1072.4141\n",
      "Epoch 20/50\n",
      "884/884 [==============================] - 10s 12ms/step - loss: 1071.6995\n",
      "Epoch 21/50\n",
      "884/884 [==============================] - 10s 11ms/step - loss: 1071.1803\n",
      "Epoch 22/50\n",
      "884/884 [==============================] - 12s 13ms/step - loss: 1070.8827\n",
      "Epoch 23/50\n",
      "884/884 [==============================] - 11s 12ms/step - loss: 1070.2565\n",
      "Epoch 24/50\n",
      "884/884 [==============================] - 11s 13ms/step - loss: 1069.8458\n",
      "Epoch 25/50\n",
      "884/884 [==============================] - 11s 13ms/step - loss: 1069.4160\n",
      "Epoch 26/50\n",
      "884/884 [==============================] - 11s 12ms/step - loss: 1069.0812\n",
      "Epoch 27/50\n",
      "884/884 [==============================] - 12s 13ms/step - loss: 1068.9211\n",
      "Epoch 28/50\n",
      "884/884 [==============================] - 10s 12ms/step - loss: 1068.3668\n",
      "Epoch 29/50\n",
      "884/884 [==============================] - 10s 11ms/step - loss: 1068.0658\n",
      "Epoch 30/50\n",
      "884/884 [==============================] - 10s 11ms/step - loss: 1067.9238\n",
      "Epoch 31/50\n",
      "884/884 [==============================] - 10s 11ms/step - loss: 1067.5898\n",
      "Epoch 32/50\n",
      "884/884 [==============================] - 11s 13ms/step - loss: 1067.3464\n",
      "Epoch 33/50\n",
      "884/884 [==============================] - 11s 12ms/step - loss: 1067.2291\n",
      "Epoch 34/50\n",
      "884/884 [==============================] - 11s 13ms/step - loss: 1066.7557\n",
      "Epoch 35/50\n",
      "884/884 [==============================] - 10s 11ms/step - loss: 1066.4487\n",
      "Epoch 36/50\n",
      "884/884 [==============================] - 10s 11ms/step - loss: 1066.2587\n",
      "Epoch 37/50\n",
      "884/884 [==============================] - 11s 12ms/step - loss: 1065.9583\n",
      "Epoch 38/50\n",
      "884/884 [==============================] - 10s 11ms/step - loss: 1066.0432\n",
      "Epoch 39/50\n",
      "884/884 [==============================] - 11s 12ms/step - loss: 1065.7095\n",
      "Epoch 40/50\n",
      "884/884 [==============================] - 10s 11ms/step - loss: 1065.5181\n",
      "Epoch 41/50\n",
      "884/884 [==============================] - 10s 11ms/step - loss: 1065.3351\n",
      "Epoch 42/50\n",
      "884/884 [==============================] - 11s 12ms/step - loss: 1065.2898\n",
      "Epoch 43/50\n",
      "884/884 [==============================] - 10s 11ms/step - loss: 1064.9093\n",
      "Epoch 44/50\n",
      "884/884 [==============================] - 10s 11ms/step - loss: 1064.7880\n",
      "Epoch 45/50\n",
      "884/884 [==============================] - 10s 12ms/step - loss: 1064.4783\n",
      "Epoch 46/50\n",
      "884/884 [==============================] - 10s 12ms/step - loss: 1064.2930\n",
      "Epoch 47/50\n",
      "884/884 [==============================] - 10s 11ms/step - loss: 1064.2859\n",
      "Epoch 48/50\n",
      "884/884 [==============================] - 9s 11ms/step - loss: 1063.9280\n",
      "Epoch 49/50\n",
      "884/884 [==============================] - 10s 11ms/step - loss: 1063.6859\n",
      "Epoch 50/50\n",
      "884/884 [==============================] - 10s 12ms/step - loss: 1063.4919\n"
     ]
    }
   ],
   "source": [
    "x=np.array([x[2].reshape(13,67) for x in train])\n",
    "y=np.array([x[1] for x in train])\n",
    "print(x.shape)\n",
    "print(y.shape)\n",
    "history = model.fit(\n",
    "    x=x,y=y,\n",
    "    epochs=epochs,\n",
    "    batch_size=batch_size,\n",
    "    shuffle=True,\n",
    ")"
   ]
  },
  {
   "cell_type": "markdown",
   "metadata": {},
   "source": [
    "## Testing"
   ]
  },
  {
   "cell_type": "code",
   "execution_count": 69,
   "metadata": {},
   "outputs": [
    {
     "name": "stdout",
     "output_type": "stream",
     "text": [
      "442/442 [==============================] - 3s 4ms/step\n"
     ]
    }
   ],
   "source": [
    "train_pred=pd.DataFrame(model.predict(x), columns=['yhat'], index=[x[0] for x in train ])"
   ]
  },
  {
   "cell_type": "code",
   "execution_count": 70,
   "metadata": {},
   "outputs": [
    {
     "data": {
      "text/plain": [
       "<matplotlib.legend.Legend at 0x7fb1f28d1340>"
      ]
     },
     "execution_count": 70,
     "metadata": {},
     "output_type": "execute_result"
    },
    {
     "data": {
      "image/png": "[encoded data removed]",
      "text/plain": [
       "<Figure size 1440x720 with 1 Axes>"
      ]
     },
     "metadata": {
      "needs_background": "light"
     },
     "output_type": "display_data"
    }
   ],
   "source": [
    "train_gt= pd.DataFrame(y, columns=['y'], index=[x[0] for x in train ])\n",
    "pd.concat([train_gt, train_pred], axis=1).plot(figsize=(20,10))\n",
    "plt.legend(['train_gt', 'train_pred'])"
   ]
  },
  {
   "cell_type": "code",
   "execution_count": 71,
   "metadata": {},
   "outputs": [
    {
     "name": "stdout",
     "output_type": "stream",
     "text": [
      "190/190 [==============================] - 1s 4ms/step\n"
     ]
    },
    {
     "data": {
      "text/plain": [
       "<matplotlib.legend.Legend at 0x7fb1e7a66d00>"
      ]
     },
     "execution_count": 71,
     "metadata": {},
     "output_type": "execute_result"
    },
    {
     "data": {
      "image/png": "[encoded data removed]",
      "text/plain": [
       "<Figure size 432x288 with 1 Axes>"
      ]
     },
     "metadata": {
      "needs_background": "light"
     },
     "output_type": "display_data"
    }
   ],
   "source": [
    "test_pred=model.predict(np.array([x[2].reshape(13, 67) for x in test]))\n",
    "test_pred=pd.DataFrame(test_pred, columns=['yhat'], index=[x[0] for x in test ])\n",
    "test_gt=pd.DataFrame([x[1] for x in test], columns=['y'], index=[x[0] for x in test ])\n",
    "pd.concat([test_gt, test_pred], axis=1).plot()\n",
    "plt.legend(['test_gt', 'test_pred'])"
   ]
  },
  {
   "cell_type": "markdown",
   "metadata": {},
   "source": [
    "## Metrics"
   ]
  },
  {
   "cell_type": "code",
   "execution_count": 72,
   "metadata": {},
   "outputs": [],
   "source": [
    "y_train_values = [x[1] for x in train]\n",
    "y_train = pd.DataFrame(y_train_values, columns=['y'], index=[x[0] for x in train])"
   ]
  },
  {
   "cell_type": "code",
   "execution_count": 73,
   "metadata": {},
   "outputs": [],
   "source": [
    "mae = mean_absolute_error(test_gt, test_pred)\n",
    "r2 = r2_score(test_gt, test_pred)\n",
    "mase = MeanAbsoluteScaledError(sp = 13)\n",
    "mase = mase(test_gt, test_pred, y_train = y_train)\n",
    "new_row = {'model': '2', 'mae': mae, 'mase': mase, 'rsq': r2}\n",
    "metrics = metrics.append(new_row, ignore_index=True)"
   ]
  },
  {
   "cell_type": "markdown",
   "metadata": {},
   "source": [
    "# Attempt 3"
   ]
  },
  {
   "cell_type": "markdown",
   "metadata": {},
   "source": [
    "## Training"
   ]
  },
  {
   "cell_type": "code",
   "execution_count": 74,
   "metadata": {},
   "outputs": [],
   "source": [
    "learning_rate = 0.001\n",
    "batch_size = 16\n",
    "epochs = 50\n",
    "sequence_length =13"
   ]
  },
  {
   "cell_type": "code",
   "execution_count": 75,
   "metadata": {},
   "outputs": [
    {
     "name": "stdout",
     "output_type": "stream",
     "text": [
      "Model: \"model_7\"\n",
      "_________________________________________________________________\n",
      " Layer (type)                Output Shape              Param #   \n",
      "=================================================================\n",
      " input_8 (InputLayer)        [(None, 13, 67)]          0         \n",
      "                                                                 \n",
      " lstm_7 (LSTM)               (None, 13, 64)            33792     \n",
      "                                                                 \n",
      " lstm_8 (LSTM)               (None, 32)                12416     \n",
      "                                                                 \n",
      " dense_7 (Dense)             (None, 1)                 33        \n",
      "                                                                 \n",
      "=================================================================\n",
      "Total params: 46,241\n",
      "Trainable params: 46,241\n",
      "Non-trainable params: 0\n",
      "_________________________________________________________________\n"
     ]
    }
   ],
   "source": [
    "inputs = keras.layers.Input(shape=(13,67))\n",
    "lstm1_out = keras.layers.LSTM(64, return_sequences=True)(inputs)\n",
    "lstm2_out = keras.layers.LSTM(32)(lstm1_out)\n",
    "outputs = keras.layers.Dense(1)(lstm2_out)\n",
    "\n",
    "model = keras.Model(inputs=inputs, outputs=outputs)\n",
    "model.compile(optimizer=keras.optimizers.Adam(learning_rate=learning_rate), loss=\"mae\")\n",
    "model.summary()"
   ]
  },
  {
   "cell_type": "code",
   "execution_count": 76,
   "metadata": {},
   "outputs": [
    {
     "name": "stdout",
     "output_type": "stream",
     "text": [
      "(14137, 13, 67)\n",
      "(14137,)\n",
      "Epoch 1/50\n",
      "884/884 [==============================] - 19s 16ms/step - loss: 1115.6149\n",
      "Epoch 2/50\n",
      "884/884 [==============================] - 14s 16ms/step - loss: 1103.9427\n",
      "Epoch 3/50\n",
      "884/884 [==============================] - 14s 16ms/step - loss: 1097.8469\n",
      "Epoch 4/50\n",
      "884/884 [==============================] - 14s 16ms/step - loss: 1094.3318\n",
      "Epoch 5/50\n",
      "884/884 [==============================] - 14s 15ms/step - loss: 1092.6869\n",
      "Epoch 6/50\n",
      "884/884 [==============================] - 14s 16ms/step - loss: 1090.5157\n",
      "Epoch 7/50\n",
      "884/884 [==============================] - 14s 15ms/step - loss: 1088.0493\n",
      "Epoch 8/50\n",
      "884/884 [==============================] - 14s 16ms/step - loss: 1085.1475\n",
      "Epoch 9/50\n",
      "884/884 [==============================] - 14s 16ms/step - loss: 1082.7372\n",
      "Epoch 10/50\n",
      "884/884 [==============================] - 13s 15ms/step - loss: 1080.7687\n",
      "Epoch 11/50\n",
      "884/884 [==============================] - 14s 15ms/step - loss: 1079.3109\n",
      "Epoch 12/50\n",
      "884/884 [==============================] - 14s 16ms/step - loss: 1078.1149\n",
      "Epoch 13/50\n",
      "884/884 [==============================] - 14s 15ms/step - loss: 1076.8436\n",
      "Epoch 14/50\n",
      "884/884 [==============================] - 13s 15ms/step - loss: 1075.7750\n",
      "Epoch 15/50\n",
      "884/884 [==============================] - 14s 16ms/step - loss: 1075.0360\n",
      "Epoch 16/50\n",
      "884/884 [==============================] - 15s 17ms/step - loss: 1074.1785\n",
      "Epoch 17/50\n",
      "884/884 [==============================] - 15s 17ms/step - loss: 1073.4594\n",
      "Epoch 18/50\n",
      "884/884 [==============================] - 14s 15ms/step - loss: 1072.6780\n",
      "Epoch 19/50\n",
      "884/884 [==============================] - 14s 16ms/step - loss: 1072.5426\n",
      "Epoch 20/50\n",
      "884/884 [==============================] - 14s 16ms/step - loss: 1071.1902\n",
      "Epoch 21/50\n",
      "884/884 [==============================] - 14s 16ms/step - loss: 1070.5344\n",
      "Epoch 22/50\n",
      "884/884 [==============================] - 14s 15ms/step - loss: 1070.0914\n",
      "Epoch 23/50\n",
      "884/884 [==============================] - 14s 16ms/step - loss: 1069.3126\n",
      "Epoch 24/50\n",
      "884/884 [==============================] - 14s 16ms/step - loss: 1068.8494\n",
      "Epoch 25/50\n",
      "884/884 [==============================] - 15s 17ms/step - loss: 1068.3223\n",
      "Epoch 26/50\n",
      "884/884 [==============================] - 14s 16ms/step - loss: 1067.5225\n",
      "Epoch 27/50\n",
      "884/884 [==============================] - 14s 15ms/step - loss: 1067.1550\n",
      "Epoch 28/50\n",
      "884/884 [==============================] - 13s 15ms/step - loss: 1066.6581\n",
      "Epoch 29/50\n",
      "884/884 [==============================] - 13s 15ms/step - loss: 1065.8893\n",
      "Epoch 30/50\n",
      "884/884 [==============================] - 14s 15ms/step - loss: 1065.3798\n",
      "Epoch 31/50\n",
      "884/884 [==============================] - 14s 16ms/step - loss: 1064.7159\n",
      "Epoch 32/50\n",
      "884/884 [==============================] - 14s 16ms/step - loss: 1064.5371\n",
      "Epoch 33/50\n",
      "884/884 [==============================] - 13s 15ms/step - loss: 1063.9905\n",
      "Epoch 34/50\n",
      "884/884 [==============================] - 15s 17ms/step - loss: 1063.7511\n",
      "Epoch 35/50\n",
      "884/884 [==============================] - 14s 15ms/step - loss: 1063.2968\n",
      "Epoch 36/50\n",
      "884/884 [==============================] - 13s 15ms/step - loss: 1062.9006\n",
      "Epoch 37/50\n",
      "884/884 [==============================] - 13s 15ms/step - loss: 1062.7772\n",
      "Epoch 38/50\n",
      "884/884 [==============================] - 13s 15ms/step - loss: 1062.5063\n",
      "Epoch 39/50\n",
      "884/884 [==============================] - 13s 15ms/step - loss: 1062.7189\n",
      "Epoch 40/50\n",
      "884/884 [==============================] - 14s 15ms/step - loss: 1061.8840\n",
      "Epoch 41/50\n",
      "884/884 [==============================] - 13s 15ms/step - loss: 1061.4492\n",
      "Epoch 42/50\n",
      "884/884 [==============================] - 13s 15ms/step - loss: 1061.0995\n",
      "Epoch 43/50\n",
      "884/884 [==============================] - 15s 16ms/step - loss: 1060.6331\n",
      "Epoch 44/50\n",
      "884/884 [==============================] - 14s 16ms/step - loss: 1060.5667\n",
      "Epoch 45/50\n",
      "884/884 [==============================] - 13s 15ms/step - loss: 1060.0192\n",
      "Epoch 46/50\n",
      "884/884 [==============================] - 13s 15ms/step - loss: 1059.8209\n",
      "Epoch 47/50\n",
      "884/884 [==============================] - 13s 15ms/step - loss: 1059.1432\n",
      "Epoch 48/50\n",
      "884/884 [==============================] - 14s 16ms/step - loss: 1059.0598\n",
      "Epoch 49/50\n",
      "884/884 [==============================] - 14s 15ms/step - loss: 1059.0874\n",
      "Epoch 50/50\n",
      "884/884 [==============================] - 13s 15ms/step - loss: 1058.1538\n"
     ]
    }
   ],
   "source": [
    "x=np.array([x[2].reshape(13,67) for x in train])\n",
    "y=np.array([x[1] for x in train])\n",
    "print(x.shape)\n",
    "print(y.shape)\n",
    "history = model.fit(\n",
    "    x=x,y=y,\n",
    "    epochs=epochs,\n",
    "    batch_size=batch_size,\n",
    "    shuffle=True,\n",
    ")"
   ]
  },
  {
   "cell_type": "markdown",
   "metadata": {},
   "source": [
    "## Testing"
   ]
  },
  {
   "cell_type": "code",
   "execution_count": 77,
   "metadata": {},
   "outputs": [
    {
     "name": "stdout",
     "output_type": "stream",
     "text": [
      "442/442 [==============================] - 4s 7ms/step\n"
     ]
    }
   ],
   "source": [
    "train_pred=pd.DataFrame(model.predict(x), columns=['yhat'], index=[x[0] for x in train ])"
   ]
  },
  {
   "cell_type": "code",
   "execution_count": 78,
   "metadata": {},
   "outputs": [
    {
     "data": {
      "text/plain": [
       "<matplotlib.legend.Legend at 0x7fb1f6a8b580>"
      ]
     },
     "execution_count": 78,
     "metadata": {},
     "output_type": "execute_result"
    },
    {
     "data": {
      "image/png": "[encoded data removed]",
      "text/plain": [
       "<Figure size 1440x720 with 1 Axes>"
      ]
     },
     "metadata": {
      "needs_background": "light"
     },
     "output_type": "display_data"
    }
   ],
   "source": [
    "train_gt= pd.DataFrame(y, columns=['y'], index=[x[0] for x in train ])\n",
    "pd.concat([train_gt, train_pred], axis=1).plot(figsize=(20,10))\n",
    "plt.legend(['train_gt', 'train_pred'])"
   ]
  },
  {
   "cell_type": "code",
   "execution_count": 79,
   "metadata": {},
   "outputs": [
    {
     "name": "stdout",
     "output_type": "stream",
     "text": [
      "190/190 [==============================] - 1s 6ms/step\n"
     ]
    },
    {
     "data": {
      "text/plain": [
       "<matplotlib.legend.Legend at 0x7fb1e7a44580>"
      ]
     },
     "execution_count": 79,
     "metadata": {},
     "output_type": "execute_result"
    },
    {
     "data": {
      "image/png": "[encoded data removed]",
      "text/plain": [
       "<Figure size 432x288 with 1 Axes>"
      ]
     },
     "metadata": {
      "needs_background": "light"
     },
     "output_type": "display_data"
    }
   ],
   "source": [
    "test_pred=model.predict(np.array([x[2].reshape(13, 67) for x in test]))\n",
    "test_pred=pd.DataFrame(test_pred, columns=['yhat'], index=[x[0] for x in test ])\n",
    "test_gt=pd.DataFrame([x[1] for x in test], columns=['y'], index=[x[0] for x in test ])\n",
    "pd.concat([test_gt, test_pred], axis=1).plot()\n",
    "plt.legend(['test_gt', 'test_pred'])"
   ]
  },
  {
   "cell_type": "markdown",
   "metadata": {},
   "source": [
    "## Metrics"
   ]
  },
  {
   "cell_type": "code",
   "execution_count": 80,
   "metadata": {},
   "outputs": [],
   "source": [
    "y_train_values = [x[1] for x in train]\n",
    "y_train = pd.DataFrame(y_train_values, columns=['y'], index=[x[0] for x in train])"
   ]
  },
  {
   "cell_type": "code",
   "execution_count": 81,
   "metadata": {},
   "outputs": [],
   "source": [
    "mae = mean_absolute_error(test_gt, test_pred)\n",
    "r2 = r2_score(test_gt, test_pred)\n",
    "mase = MeanAbsoluteScaledError(sp = 13)\n",
    "mase = mase(test_gt, test_pred, y_train = y_train)\n",
    "new_row = {'model': '3', 'mae': mae, 'mase': mase, 'rsq': r2}\n",
    "metrics = metrics.append(new_row, ignore_index=True)"
   ]
  },
  {
   "cell_type": "markdown",
   "metadata": {},
   "source": [
    "# Attempt 4"
   ]
  },
  {
   "cell_type": "markdown",
   "metadata": {},
   "source": [
    "## Training"
   ]
  },
  {
   "cell_type": "code",
   "execution_count": 82,
   "metadata": {},
   "outputs": [],
   "source": [
    "from tensorflow.keras.optimizers.schedules import ExponentialDecay"
   ]
  },
  {
   "cell_type": "code",
   "execution_count": 83,
   "metadata": {},
   "outputs": [],
   "source": [
    "learning_rate = 0.001\n",
    "lr_schedule = ExponentialDecay(\n",
    "    initial_learning_rate=learning_rate,\n",
    "    decay_steps=10000,\n",
    "    decay_rate=0.9)\n",
    "batch_size = 16\n",
    "epochs = 50\n",
    "sequence_length =13"
   ]
  },
  {
   "cell_type": "code",
   "execution_count": 84,
   "metadata": {},
   "outputs": [
    {
     "name": "stdout",
     "output_type": "stream",
     "text": [
      "Model: \"model_8\"\n",
      "_________________________________________________________________\n",
      " Layer (type)                Output Shape              Param #   \n",
      "=================================================================\n",
      " input_9 (InputLayer)        [(None, 13, 67)]          0         \n",
      "                                                                 \n",
      " lstm_9 (LSTM)               (None, 13, 64)            33792     \n",
      "                                                                 \n",
      " lstm_10 (LSTM)              (None, 32)                12416     \n",
      "                                                                 \n",
      " dense_8 (Dense)             (None, 1)                 33        \n",
      "                                                                 \n",
      "=================================================================\n",
      "Total params: 46,241\n",
      "Trainable params: 46,241\n",
      "Non-trainable params: 0\n",
      "_________________________________________________________________\n"
     ]
    }
   ],
   "source": [
    "inputs = keras.layers.Input(shape=(13,67))\n",
    "lstm1_out = keras.layers.LSTM(64, return_sequences=True, dropout=0.2, recurrent_dropout=0.2)(inputs)\n",
    "lstm2_out = keras.layers.LSTM(32, dropout=0.2, recurrent_dropout=0.2)(lstm1_out)\n",
    "outputs = keras.layers.Dense(1)(lstm2_out)\n",
    "\n",
    "model = keras.Model(inputs=inputs, outputs=outputs)\n",
    "model.compile(optimizer=keras.optimizers.Adam(learning_rate=lr_schedule), loss=\"mae\")\n",
    "model.summary()"
   ]
  },
  {
   "cell_type": "code",
   "execution_count": 85,
   "metadata": {},
   "outputs": [
    {
     "name": "stdout",
     "output_type": "stream",
     "text": [
      "(14137, 13, 67)\n",
      "(14137,)\n",
      "Epoch 1/50\n",
      "884/884 [==============================] - 35s 31ms/step - loss: 1115.2979\n",
      "Epoch 2/50\n",
      "884/884 [==============================] - 27s 31ms/step - loss: 1103.6730\n",
      "Epoch 3/50\n",
      "884/884 [==============================] - 27s 31ms/step - loss: 1097.8406\n",
      "Epoch 4/50\n",
      "884/884 [==============================] - 29s 33ms/step - loss: 1094.9180\n",
      "Epoch 5/50\n",
      "884/884 [==============================] - 29s 32ms/step - loss: 1093.6869\n",
      "Epoch 6/50\n",
      "884/884 [==============================] - 28s 31ms/step - loss: 1090.5980\n",
      "Epoch 7/50\n",
      "884/884 [==============================] - 28s 31ms/step - loss: 1087.9344\n",
      "Epoch 8/50\n",
      "884/884 [==============================] - 27s 31ms/step - loss: 1085.7113\n",
      "Epoch 9/50\n",
      "884/884 [==============================] - 28s 32ms/step - loss: 1084.0117\n",
      "Epoch 10/50\n",
      "884/884 [==============================] - 27s 31ms/step - loss: 1082.4487\n",
      "Epoch 11/50\n",
      "884/884 [==============================] - 27s 31ms/step - loss: 1081.0345\n",
      "Epoch 12/50\n",
      "884/884 [==============================] - 27s 31ms/step - loss: 1079.5070\n",
      "Epoch 13/50\n",
      "884/884 [==============================] - 27s 31ms/step - loss: 1078.5825\n",
      "Epoch 14/50\n",
      "884/884 [==============================] - 27s 31ms/step - loss: 1077.3894\n",
      "Epoch 15/50\n",
      "884/884 [==============================] - 27s 31ms/step - loss: 1076.5125\n",
      "Epoch 16/50\n",
      "884/884 [==============================] - 27s 31ms/step - loss: 1075.7427\n",
      "Epoch 17/50\n",
      "884/884 [==============================] - 27s 31ms/step - loss: 1074.9299\n",
      "Epoch 18/50\n",
      "884/884 [==============================] - 27s 31ms/step - loss: 1074.3477\n",
      "Epoch 19/50\n",
      "884/884 [==============================] - 27s 31ms/step - loss: 1074.0983\n",
      "Epoch 20/50\n",
      "884/884 [==============================] - 27s 31ms/step - loss: 1073.4285\n",
      "Epoch 21/50\n",
      "884/884 [==============================] - 29s 32ms/step - loss: 1072.6881\n",
      "Epoch 22/50\n",
      "884/884 [==============================] - 29s 32ms/step - loss: 1072.4999\n",
      "Epoch 23/50\n",
      "884/884 [==============================] - 27s 31ms/step - loss: 1071.9022\n",
      "Epoch 24/50\n",
      "884/884 [==============================] - 28s 31ms/step - loss: 1071.4355\n",
      "Epoch 25/50\n",
      "884/884 [==============================] - 27s 31ms/step - loss: 1070.9392\n",
      "Epoch 26/50\n",
      "884/884 [==============================] - 27s 31ms/step - loss: 1070.5063\n",
      "Epoch 27/50\n",
      "884/884 [==============================] - 27s 31ms/step - loss: 1070.7666\n",
      "Epoch 28/50\n",
      "884/884 [==============================] - 27s 31ms/step - loss: 1069.8453\n",
      "Epoch 29/50\n",
      "884/884 [==============================] - 27s 31ms/step - loss: 1069.5885\n",
      "Epoch 30/50\n",
      "884/884 [==============================] - 27s 31ms/step - loss: 1069.3485\n",
      "Epoch 31/50\n",
      "884/884 [==============================] - 27s 31ms/step - loss: 1069.1440\n",
      "Epoch 32/50\n",
      "884/884 [==============================] - 27s 31ms/step - loss: 1068.8929\n",
      "Epoch 33/50\n",
      "884/884 [==============================] - 27s 31ms/step - loss: 1068.3966\n",
      "Epoch 34/50\n",
      "884/884 [==============================] - 27s 30ms/step - loss: 1067.6199\n",
      "Epoch 35/50\n",
      "884/884 [==============================] - 27s 31ms/step - loss: 1067.6792\n",
      "Epoch 36/50\n",
      "884/884 [==============================] - 27s 30ms/step - loss: 1067.0710\n",
      "Epoch 37/50\n",
      "884/884 [==============================] - 27s 31ms/step - loss: 1067.0579\n",
      "Epoch 38/50\n",
      "884/884 [==============================] - 27s 31ms/step - loss: 1066.7717\n",
      "Epoch 39/50\n",
      "884/884 [==============================] - 27s 30ms/step - loss: 1066.5410\n",
      "Epoch 40/50\n",
      "884/884 [==============================] - 28s 31ms/step - loss: 1066.4841\n",
      "Epoch 41/50\n",
      "884/884 [==============================] - 27s 31ms/step - loss: 1066.2611\n",
      "Epoch 42/50\n",
      "884/884 [==============================] - 27s 30ms/step - loss: 1065.9028\n",
      "Epoch 43/50\n",
      "884/884 [==============================] - 27s 31ms/step - loss: 1066.0767\n",
      "Epoch 44/50\n",
      "884/884 [==============================] - 27s 31ms/step - loss: 1065.7268\n",
      "Epoch 45/50\n",
      "884/884 [==============================] - 27s 30ms/step - loss: 1065.4479\n",
      "Epoch 46/50\n",
      "884/884 [==============================] - 27s 31ms/step - loss: 1065.4314\n",
      "Epoch 47/50\n",
      "884/884 [==============================] - 27s 31ms/step - loss: 1065.0964\n",
      "Epoch 48/50\n",
      "884/884 [==============================] - 27s 31ms/step - loss: 1064.6860\n",
      "Epoch 49/50\n",
      "884/884 [==============================] - 27s 31ms/step - loss: 1065.0664\n",
      "Epoch 50/50\n",
      "884/884 [==============================] - 27s 30ms/step - loss: 1064.6512\n"
     ]
    }
   ],
   "source": [
    "x=np.array([x[2].reshape(13,67) for x in train])\n",
    "y=np.array([x[1] for x in train])\n",
    "print(x.shape)\n",
    "print(y.shape)\n",
    "history = model.fit(\n",
    "    x=x,y=y,\n",
    "    epochs=epochs,\n",
    "    batch_size=batch_size,\n",
    "    shuffle=True,\n",
    ")"
   ]
  },
  {
   "cell_type": "markdown",
   "metadata": {},
   "source": [
    "## Testing"
   ]
  },
  {
   "cell_type": "code",
   "execution_count": 86,
   "metadata": {},
   "outputs": [
    {
     "name": "stdout",
     "output_type": "stream",
     "text": [
      "442/442 [==============================] - 4s 7ms/step\n"
     ]
    }
   ],
   "source": [
    "train_pred=pd.DataFrame(model.predict(x), columns=['yhat'], index=[x[0] for x in train ])"
   ]
  },
  {
   "cell_type": "code",
   "execution_count": 87,
   "metadata": {},
   "outputs": [
    {
     "data": {
      "text/plain": [
       "<matplotlib.legend.Legend at 0x7fb1f72db5b0>"
      ]
     },
     "execution_count": 87,
     "metadata": {},
     "output_type": "execute_result"
    },
    {
     "data": {
      "image/png": "[encoded data removed]",
      "text/plain": [
       "<Figure size 1440x720 with 1 Axes>"
      ]
     },
     "metadata": {
      "needs_background": "light"
     },
     "output_type": "display_data"
    }
   ],
   "source": [
    "train_gt= pd.DataFrame(y, columns=['y'], index=[x[0] for x in train ])\n",
    "pd.concat([train_gt, train_pred], axis=1).plot(figsize=(20,10))\n",
    "plt.legend(['train_gt', 'train_pred'])"
   ]
  },
  {
   "cell_type": "code",
   "execution_count": 88,
   "metadata": {},
   "outputs": [
    {
     "name": "stdout",
     "output_type": "stream",
     "text": [
      "190/190 [==============================] - 1s 7ms/step\n"
     ]
    },
    {
     "data": {
      "text/plain": [
       "<matplotlib.legend.Legend at 0x7fb1e7a567c0>"
      ]
     },
     "execution_count": 88,
     "metadata": {},
     "output_type": "execute_result"
    },
    {
     "data": {
      "image/png": "[encoded data removed]",
      "text/plain": [
       "<Figure size 432x288 with 1 Axes>"
      ]
     },
     "metadata": {
      "needs_background": "light"
     },
     "output_type": "display_data"
    }
   ],
   "source": [
    "test_pred=model.predict(np.array([x[2].reshape(13, 67) for x in test]))\n",
    "test_pred=pd.DataFrame(test_pred, columns=['yhat'], index=[x[0] for x in test ])\n",
    "test_gt=pd.DataFrame([x[1] for x in test], columns=['y'], index=[x[0] for x in test ])\n",
    "pd.concat([test_gt, test_pred], axis=1).plot()\n",
    "plt.legend(['test_gt', 'test_pred'])"
   ]
  },
  {
   "cell_type": "markdown",
   "metadata": {},
   "source": [
    "## Metrics"
   ]
  },
  {
   "cell_type": "code",
   "execution_count": 89,
   "metadata": {},
   "outputs": [],
   "source": [
    "y_train_values = [x[1] for x in train]\n",
    "y_train = pd.DataFrame(y_train_values, columns=['y'], index=[x[0] for x in train])"
   ]
  },
  {
   "cell_type": "code",
   "execution_count": 90,
   "metadata": {},
   "outputs": [],
   "source": [
    "mae = mean_absolute_error(test_gt, test_pred)\n",
    "r2 = r2_score(test_gt, test_pred)\n",
    "mase = MeanAbsoluteScaledError(sp = 13)\n",
    "mase = mase(test_gt, test_pred, y_train = y_train)\n",
    "new_row = {'model': '4', 'mae': mae, 'mase': mase, 'rsq': r2}\n",
    "metrics = metrics.append(new_row, ignore_index=True)"
   ]
  },
  {
   "cell_type": "markdown",
   "metadata": {},
   "source": [
    "# Attempt 5"
   ]
  },
  {
   "cell_type": "markdown",
   "metadata": {},
   "source": [
    "## Training"
   ]
  },
  {
   "cell_type": "code",
   "execution_count": 91,
   "metadata": {},
   "outputs": [],
   "source": [
    "learning_rate = 0.001\n",
    "lr_schedule = ExponentialDecay(\n",
    "    initial_learning_rate=learning_rate,\n",
    "    decay_steps=10000,\n",
    "    decay_rate=0.9)\n",
    "batch_size = 16\n",
    "epochs = 50\n",
    "sequence_length =13"
   ]
  },
  {
   "cell_type": "code",
   "execution_count": 92,
   "metadata": {},
   "outputs": [
    {
     "name": "stdout",
     "output_type": "stream",
     "text": [
      "Model: \"model_9\"\n",
      "_________________________________________________________________\n",
      " Layer (type)                Output Shape              Param #   \n",
      "=================================================================\n",
      " input_10 (InputLayer)       [(None, 13, 67)]          0         \n",
      "                                                                 \n",
      " lstm_11 (LSTM)              (None, 13, 64)            33792     \n",
      "                                                                 \n",
      " lstm_12 (LSTM)              (None, 32)                12416     \n",
      "                                                                 \n",
      " dense_9 (Dense)             (None, 1)                 33        \n",
      "                                                                 \n",
      "=================================================================\n",
      "Total params: 46,241\n",
      "Trainable params: 46,241\n",
      "Non-trainable params: 0\n",
      "_________________________________________________________________\n"
     ]
    }
   ],
   "source": [
    "inputs = keras.layers.Input(shape=(13,67))\n",
    "lstm1_out = keras.layers.LSTM(64, return_sequences=True, dropout=0.2, recurrent_dropout=0.2)(inputs)\n",
    "lstm2_out = keras.layers.LSTM(32, dropout=0.2, recurrent_dropout=0.2)(lstm1_out)\n",
    "outputs = keras.layers.Dense(1)(lstm2_out)\n",
    "\n",
    "model = keras.Model(inputs=inputs, outputs=outputs)\n",
    "model.compile(optimizer=keras.optimizers.Adam(learning_rate=lr_schedule), loss=\"mae\")\n",
    "model.summary()"
   ]
  },
  {
   "cell_type": "code",
   "execution_count": 93,
   "metadata": {},
   "outputs": [
    {
     "name": "stdout",
     "output_type": "stream",
     "text": [
      "(14137, 13, 67)\n",
      "(14137,)\n",
      "Epoch 1/50\n",
      "707/707 [==============================] - 31s 32ms/step - loss: 1296.6648 - val_loss: 400.2448\n",
      "Epoch 2/50\n",
      "707/707 [==============================] - 23s 32ms/step - loss: 1285.5438 - val_loss: 403.2427\n",
      "Epoch 3/50\n",
      "707/707 [==============================] - 23s 32ms/step - loss: 1278.4821 - val_loss: 395.5220\n",
      "Epoch 4/50\n",
      "707/707 [==============================] - 22s 32ms/step - loss: 1273.9825 - val_loss: 394.7041\n",
      "Epoch 5/50\n",
      "707/707 [==============================] - 23s 32ms/step - loss: 1270.7201 - val_loss: 387.7591\n",
      "Epoch 6/50\n",
      "707/707 [==============================] - 22s 32ms/step - loss: 1267.8646 - val_loss: 387.7286\n",
      "Epoch 7/50\n",
      "707/707 [==============================] - 22s 32ms/step - loss: 1264.6654 - val_loss: 388.9529\n",
      "Epoch 8/50\n",
      "707/707 [==============================] - 23s 33ms/step - loss: 1261.7368 - val_loss: 389.2115\n",
      "Epoch 9/50\n",
      "707/707 [==============================] - 22s 32ms/step - loss: 1259.1115 - val_loss: 392.0828\n",
      "Epoch 10/50\n",
      "707/707 [==============================] - 23s 32ms/step - loss: 1257.0236 - val_loss: 394.3411\n",
      "Epoch 11/50\n",
      "707/707 [==============================] - 22s 32ms/step - loss: 1255.2473 - val_loss: 397.5548\n"
     ]
    }
   ],
   "source": [
    "x=np.array([x[2].reshape(13,67) for x in train])\n",
    "y=np.array([x[1] for x in train])\n",
    "print(x.shape)\n",
    "print(y.shape)\n",
    "history = model.fit(\n",
    "    x=x,y=y,\n",
    "    epochs=epochs,\n",
    "    batch_size=batch_size,\n",
    "    shuffle=True,\n",
    "    validation_split=0.2,\n",
    "    callbacks=[keras.callbacks.EarlyStopping(patience=5, restore_best_weights=True)]\n",
    ")"
   ]
  },
  {
   "cell_type": "markdown",
   "metadata": {},
   "source": [
    "## Testing"
   ]
  },
  {
   "cell_type": "code",
   "execution_count": 94,
   "metadata": {},
   "outputs": [
    {
     "name": "stdout",
     "output_type": "stream",
     "text": [
      "442/442 [==============================] - 4s 7ms/step\n"
     ]
    }
   ],
   "source": [
    "train_pred=pd.DataFrame(model.predict(x), columns=['yhat'], index=[x[0] for x in train ])"
   ]
  },
  {
   "cell_type": "code",
   "execution_count": 95,
   "metadata": {},
   "outputs": [
    {
     "data": {
      "text/plain": [
       "<matplotlib.legend.Legend at 0x7fb20f583a90>"
      ]
     },
     "execution_count": 95,
     "metadata": {},
     "output_type": "execute_result"
    },
    {
     "data": {
      "image/png": "[encoded data removed]",
      "text/plain": [
       "<Figure size 1440x720 with 1 Axes>"
      ]
     },
     "metadata": {
      "needs_background": "light"
     },
     "output_type": "display_data"
    }
   ],
   "source": [
    "train_gt= pd.DataFrame(y, columns=['y'], index=[x[0] for x in train ])\n",
    "pd.concat([train_gt, train_pred], axis=1).plot(figsize=(20,10))\n",
    "plt.legend(['train_gt', 'train_pred'])"
   ]
  },
  {
   "cell_type": "code",
   "execution_count": 96,
   "metadata": {},
   "outputs": [
    {
     "name": "stdout",
     "output_type": "stream",
     "text": [
      "190/190 [==============================] - 1s 7ms/step\n"
     ]
    },
    {
     "data": {
      "text/plain": [
       "<matplotlib.legend.Legend at 0x7fb1eab66af0>"
      ]
     },
     "execution_count": 96,
     "metadata": {},
     "output_type": "execute_result"
    },
    {
     "data": {
      "image/png": "[encoded data removed]",
      "text/plain": [
       "<Figure size 432x288 with 1 Axes>"
      ]
     },
     "metadata": {
      "needs_background": "light"
     },
     "output_type": "display_data"
    }
   ],
   "source": [
    "test_pred=model.predict(np.array([x[2].reshape(13, 67) for x in test]))\n",
    "test_pred=pd.DataFrame(test_pred, columns=['yhat'], index=[x[0] for x in test ])\n",
    "test_gt=pd.DataFrame([x[1] for x in test], columns=['y'], index=[x[0] for x in test ])\n",
    "pd.concat([test_gt, test_pred], axis=1).plot()\n",
    "plt.legend(['test_gt', 'test_pred'])"
   ]
  },
  {
   "cell_type": "markdown",
   "metadata": {},
   "source": [
    "## Metrics"
   ]
  },
  {
   "cell_type": "code",
   "execution_count": 97,
   "metadata": {},
   "outputs": [],
   "source": [
    "y_train_values = [x[1] for x in train]\n",
    "y_train = pd.DataFrame(y_train_values, columns=['y'], index=[x[0] for x in train])"
   ]
  },
  {
   "cell_type": "code",
   "execution_count": 98,
   "metadata": {},
   "outputs": [],
   "source": [
    "mae = mean_absolute_error(test_gt, test_pred)\n",
    "r2 = r2_score(test_gt, test_pred)\n",
    "mase = MeanAbsoluteScaledError(sp = 13)\n",
    "mase = mase(test_gt, test_pred, y_train = y_train)\n",
    "new_row = {'model': '5', 'mae': mae, 'mase': mase, 'rsq': r2}\n",
    "metrics = metrics.append(new_row, ignore_index=True)"
   ]
  },
  {
   "cell_type": "markdown",
   "metadata": {},
   "source": [
    "# Results"
   ]
  },
  {
   "cell_type": "code",
   "execution_count": 99,
   "metadata": {},
   "outputs": [
    {
     "data": {
      "text/html": [
       "<div>\n",
       "<style scoped>\n",
       "    .dataframe tbody tr th:only-of-type {\n",
       "        vertical-align: middle;\n",
       "    }\n",
       "\n",
       "    .dataframe tbody tr th {\n",
       "        vertical-align: top;\n",
       "    }\n",
       "\n",
       "    .dataframe thead th {\n",
       "        text-align: right;\n",
       "    }\n",
       "</style>\n",
       "<table border=\"1\" class=\"dataframe\">\n",
       "  <thead>\n",
       "    <tr style=\"text-align: right;\">\n",
       "      <th></th>\n",
       "      <th>model</th>\n",
       "      <th>mae</th>\n",
       "      <th>mase</th>\n",
       "      <th>rsq</th>\n",
       "    </tr>\n",
       "  </thead>\n",
       "  <tbody>\n",
       "    <tr>\n",
       "      <th>0</th>\n",
       "      <td>1</td>\n",
       "      <td>217.635031</td>\n",
       "      <td>0.117085</td>\n",
       "      <td>-0.083836</td>\n",
       "    </tr>\n",
       "    <tr>\n",
       "      <th>1</th>\n",
       "      <td>2</td>\n",
       "      <td>212.865631</td>\n",
       "      <td>0.114519</td>\n",
       "      <td>-0.107851</td>\n",
       "    </tr>\n",
       "    <tr>\n",
       "      <th>2</th>\n",
       "      <td>3</td>\n",
       "      <td>210.609484</td>\n",
       "      <td>0.113305</td>\n",
       "      <td>-0.101199</td>\n",
       "    </tr>\n",
       "    <tr>\n",
       "      <th>3</th>\n",
       "      <td>4</td>\n",
       "      <td>212.636148</td>\n",
       "      <td>0.114395</td>\n",
       "      <td>-0.108327</td>\n",
       "    </tr>\n",
       "    <tr>\n",
       "      <th>4</th>\n",
       "      <td>5</td>\n",
       "      <td>215.042698</td>\n",
       "      <td>0.11569</td>\n",
       "      <td>-0.134845</td>\n",
       "    </tr>\n",
       "  </tbody>\n",
       "</table>\n",
       "</div>"
      ],
      "text/plain": [
       "  model         mae      mase       rsq\n",
       "0     1  217.635031  0.117085 -0.083836\n",
       "1     2  212.865631  0.114519 -0.107851\n",
       "2     3  210.609484  0.113305 -0.101199\n",
       "3     4  212.636148  0.114395 -0.108327\n",
       "4     5  215.042698   0.11569 -0.134845"
      ]
     },
     "execution_count": 99,
     "metadata": {},
     "output_type": "execute_result"
    }
   ],
   "source": [
    "metrics"
   ]
  },
  {
   "cell_type": "code",
   "execution_count": 100,
   "metadata": {},
   "outputs": [
    {
     "data": {
      "text/html": [
       "<div>\n",
       "<style scoped>\n",
       "    .dataframe tbody tr th:only-of-type {\n",
       "        vertical-align: middle;\n",
       "    }\n",
       "\n",
       "    .dataframe tbody tr th {\n",
       "        vertical-align: top;\n",
       "    }\n",
       "\n",
       "    .dataframe thead th {\n",
       "        text-align: right;\n",
       "    }\n",
       "</style>\n",
       "<table border=\"1\" class=\"dataframe\">\n",
       "  <thead>\n",
       "    <tr style=\"text-align: right;\">\n",
       "      <th></th>\n",
       "      <th>model</th>\n",
       "      <th>mae</th>\n",
       "      <th>mase</th>\n",
       "      <th>rsq</th>\n",
       "    </tr>\n",
       "  </thead>\n",
       "  <tbody>\n",
       "    <tr>\n",
       "      <th>2</th>\n",
       "      <td>3</td>\n",
       "      <td>210.609484</td>\n",
       "      <td>0.113305</td>\n",
       "      <td>-0.101199</td>\n",
       "    </tr>\n",
       "    <tr>\n",
       "      <th>3</th>\n",
       "      <td>4</td>\n",
       "      <td>212.636148</td>\n",
       "      <td>0.114395</td>\n",
       "      <td>-0.108327</td>\n",
       "    </tr>\n",
       "    <tr>\n",
       "      <th>1</th>\n",
       "      <td>2</td>\n",
       "      <td>212.865631</td>\n",
       "      <td>0.114519</td>\n",
       "      <td>-0.107851</td>\n",
       "    </tr>\n",
       "    <tr>\n",
       "      <th>4</th>\n",
       "      <td>5</td>\n",
       "      <td>215.042698</td>\n",
       "      <td>0.11569</td>\n",
       "      <td>-0.134845</td>\n",
       "    </tr>\n",
       "    <tr>\n",
       "      <th>0</th>\n",
       "      <td>1</td>\n",
       "      <td>217.635031</td>\n",
       "      <td>0.117085</td>\n",
       "      <td>-0.083836</td>\n",
       "    </tr>\n",
       "  </tbody>\n",
       "</table>\n",
       "</div>"
      ],
      "text/plain": [
       "  model         mae      mase       rsq\n",
       "2     3  210.609484  0.113305 -0.101199\n",
       "3     4  212.636148  0.114395 -0.108327\n",
       "1     2  212.865631  0.114519 -0.107851\n",
       "4     5  215.042698   0.11569 -0.134845\n",
       "0     1  217.635031  0.117085 -0.083836"
      ]
     },
     "execution_count": 100,
     "metadata": {},
     "output_type": "execute_result"
    }
   ],
   "source": [
    "metrics.sort_values('mase')"
   ]
  }
 ],
 "metadata": {
  "kernelspec": {
   "display_name": "base",
   "language": "python",
   "name": "python3"
  },
  "language_info": {
   "codemirror_mode": {
    "name": "ipython",
    "version": 3
   },
   "file_extension": ".py",
   "mimetype": "text/x-python",
   "name": "python",
   "nbconvert_exporter": "python",
   "pygments_lexer": "ipython3",
   "version": "3.9.12"
  }
 },
 "nbformat": 4,
 "nbformat_minor": 2
}
